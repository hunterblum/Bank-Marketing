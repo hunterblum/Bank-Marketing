{
 "cells": [
  {
   "cell_type": "markdown",
   "id": "da1c4c15-ba55-478f-9e87-30a238401f90",
   "metadata": {},
   "source": [
    "# Improving Bank Marketing with Machine Learning\n",
    "### Group 7 - Gary Bair, Hunter Blum, Jacqueline Urenda"
   ]
  },
  {
   "cell_type": "markdown",
   "id": "5fc520fa-b0ba-41e2-b9e2-83079716fddf",
   "metadata": {},
   "source": [
    "### Libraries"
   ]
  },
  {
   "cell_type": "code",
   "execution_count": 1,
   "id": "70a8ec60-da13-49f4-b2d5-969aedeb8ee1",
   "metadata": {},
   "outputs": [],
   "source": [
    "import pandas as pd\n",
    "import numpy as np\n",
    "import matplotlib.pyplot as plt\n",
    "import seaborn as sns\n",
    "from statsmodels.stats.outliers_influence import variance_inflation_factor\n",
    "\n",
    "\n",
    "# Sklearn packages\n",
    "from sklearn.preprocessing import OneHotEncoder, StandardScaler, OrdinalEncoder\n",
    "from sklearn.impute import SimpleImputer\n",
    "from sklearn.feature_selection import VarianceThreshold\n",
    "from sklearn.model_selection import train_test_split\n",
    "from sklearn.model_selection import GridSearchCV\n",
    "from sklearn.model_selection import StratifiedKFold\n",
    "from sklearn.model_selection import cross_val_score\n",
    "from sklearn.model_selection import GridSearchCV\n",
    "from sklearn.model_selection import RandomizedSearchCV\n",
    "\n",
    "#pipeline tools\n",
    "from sklearn.compose import ColumnTransformer\n",
    "from sklearn.compose import make_column_transformer\n",
    "from sklearn.pipeline import Pipeline\n",
    "from sklearn.pipeline import make_pipeline\n",
    "\n",
    "#resampling tools\n",
    "from imblearn.under_sampling import RandomUnderSampler\n",
    "from imblearn.over_sampling import RandomOverSampler\n",
    "from imblearn.over_sampling import SMOTE\n",
    "\n",
    "#feature selection\n",
    "from sklearn.feature_selection import SelectKBest\n",
    "from sklearn.decomposition import PCA\n",
    "\n",
    "#models\n",
    "from sklearn.neighbors import KNeighborsClassifier\n",
    "from sklearn.linear_model import LogisticRegression\n",
    "from sklearn.neural_network import MLPClassifier\n",
    "import xgboost as xgb\n",
    "from sklearn.ensemble import ExtraTreesClassifier\n",
    "\n",
    "#metrics\n",
    "from sklearn.metrics import classification_report\n",
    "from sklearn.metrics import confusion_matrix, accuracy_score, f1_score, recall_score\n",
    "\n",
    "import warnings\n",
    "warnings.filterwarnings(\"ignore\")\n",
    "\n",
    "#pandas settings\n",
    "pd.set_option('display.max_columns', None)\n",
    "\n",
    "# DMBA packages"
   ]
  },
  {
   "cell_type": "markdown",
   "id": "c994ce2e-d153-45ae-80e1-756617d8a1a5",
   "metadata": {},
   "source": [
    "### Read in Data"
   ]
  },
  {
   "cell_type": "code",
   "execution_count": 2,
   "id": "fd3b7569-ec9d-4d3b-9c8d-9951e03f1be9",
   "metadata": {},
   "outputs": [
    {
     "data": {
      "text/html": [
       "<div>\n",
       "<style scoped>\n",
       "    .dataframe tbody tr th:only-of-type {\n",
       "        vertical-align: middle;\n",
       "    }\n",
       "\n",
       "    .dataframe tbody tr th {\n",
       "        vertical-align: top;\n",
       "    }\n",
       "\n",
       "    .dataframe thead th {\n",
       "        text-align: right;\n",
       "    }\n",
       "</style>\n",
       "<table border=\"1\" class=\"dataframe\">\n",
       "  <thead>\n",
       "    <tr style=\"text-align: right;\">\n",
       "      <th></th>\n",
       "      <th>age</th>\n",
       "      <th>job</th>\n",
       "      <th>marital</th>\n",
       "      <th>education</th>\n",
       "      <th>default</th>\n",
       "      <th>housing</th>\n",
       "      <th>loan</th>\n",
       "      <th>contact</th>\n",
       "      <th>month</th>\n",
       "      <th>day_of_week</th>\n",
       "      <th>duration</th>\n",
       "      <th>campaign</th>\n",
       "      <th>pdays</th>\n",
       "      <th>previous</th>\n",
       "      <th>poutcome</th>\n",
       "      <th>emp.var.rate</th>\n",
       "      <th>cons.price.idx</th>\n",
       "      <th>cons.conf.idx</th>\n",
       "      <th>euribor3m</th>\n",
       "      <th>nr.employed</th>\n",
       "      <th>y</th>\n",
       "    </tr>\n",
       "  </thead>\n",
       "  <tbody>\n",
       "    <tr>\n",
       "      <th>0</th>\n",
       "      <td>56</td>\n",
       "      <td>housemaid</td>\n",
       "      <td>married</td>\n",
       "      <td>basic.4y</td>\n",
       "      <td>no</td>\n",
       "      <td>no</td>\n",
       "      <td>no</td>\n",
       "      <td>telephone</td>\n",
       "      <td>may</td>\n",
       "      <td>mon</td>\n",
       "      <td>261</td>\n",
       "      <td>1</td>\n",
       "      <td>999</td>\n",
       "      <td>0</td>\n",
       "      <td>nonexistent</td>\n",
       "      <td>1.1</td>\n",
       "      <td>93.994</td>\n",
       "      <td>-36.4</td>\n",
       "      <td>4.857</td>\n",
       "      <td>5191.0</td>\n",
       "      <td>no</td>\n",
       "    </tr>\n",
       "    <tr>\n",
       "      <th>1</th>\n",
       "      <td>57</td>\n",
       "      <td>services</td>\n",
       "      <td>married</td>\n",
       "      <td>high.school</td>\n",
       "      <td>unknown</td>\n",
       "      <td>no</td>\n",
       "      <td>no</td>\n",
       "      <td>telephone</td>\n",
       "      <td>may</td>\n",
       "      <td>mon</td>\n",
       "      <td>149</td>\n",
       "      <td>1</td>\n",
       "      <td>999</td>\n",
       "      <td>0</td>\n",
       "      <td>nonexistent</td>\n",
       "      <td>1.1</td>\n",
       "      <td>93.994</td>\n",
       "      <td>-36.4</td>\n",
       "      <td>4.857</td>\n",
       "      <td>5191.0</td>\n",
       "      <td>no</td>\n",
       "    </tr>\n",
       "    <tr>\n",
       "      <th>2</th>\n",
       "      <td>37</td>\n",
       "      <td>services</td>\n",
       "      <td>married</td>\n",
       "      <td>high.school</td>\n",
       "      <td>no</td>\n",
       "      <td>yes</td>\n",
       "      <td>no</td>\n",
       "      <td>telephone</td>\n",
       "      <td>may</td>\n",
       "      <td>mon</td>\n",
       "      <td>226</td>\n",
       "      <td>1</td>\n",
       "      <td>999</td>\n",
       "      <td>0</td>\n",
       "      <td>nonexistent</td>\n",
       "      <td>1.1</td>\n",
       "      <td>93.994</td>\n",
       "      <td>-36.4</td>\n",
       "      <td>4.857</td>\n",
       "      <td>5191.0</td>\n",
       "      <td>no</td>\n",
       "    </tr>\n",
       "    <tr>\n",
       "      <th>3</th>\n",
       "      <td>40</td>\n",
       "      <td>admin.</td>\n",
       "      <td>married</td>\n",
       "      <td>basic.6y</td>\n",
       "      <td>no</td>\n",
       "      <td>no</td>\n",
       "      <td>no</td>\n",
       "      <td>telephone</td>\n",
       "      <td>may</td>\n",
       "      <td>mon</td>\n",
       "      <td>151</td>\n",
       "      <td>1</td>\n",
       "      <td>999</td>\n",
       "      <td>0</td>\n",
       "      <td>nonexistent</td>\n",
       "      <td>1.1</td>\n",
       "      <td>93.994</td>\n",
       "      <td>-36.4</td>\n",
       "      <td>4.857</td>\n",
       "      <td>5191.0</td>\n",
       "      <td>no</td>\n",
       "    </tr>\n",
       "    <tr>\n",
       "      <th>4</th>\n",
       "      <td>56</td>\n",
       "      <td>services</td>\n",
       "      <td>married</td>\n",
       "      <td>high.school</td>\n",
       "      <td>no</td>\n",
       "      <td>no</td>\n",
       "      <td>yes</td>\n",
       "      <td>telephone</td>\n",
       "      <td>may</td>\n",
       "      <td>mon</td>\n",
       "      <td>307</td>\n",
       "      <td>1</td>\n",
       "      <td>999</td>\n",
       "      <td>0</td>\n",
       "      <td>nonexistent</td>\n",
       "      <td>1.1</td>\n",
       "      <td>93.994</td>\n",
       "      <td>-36.4</td>\n",
       "      <td>4.857</td>\n",
       "      <td>5191.0</td>\n",
       "      <td>no</td>\n",
       "    </tr>\n",
       "  </tbody>\n",
       "</table>\n",
       "</div>"
      ],
      "text/plain": [
       "   age        job  marital    education  default housing loan    contact  \\\n",
       "0   56  housemaid  married     basic.4y       no      no   no  telephone   \n",
       "1   57   services  married  high.school  unknown      no   no  telephone   \n",
       "2   37   services  married  high.school       no     yes   no  telephone   \n",
       "3   40     admin.  married     basic.6y       no      no   no  telephone   \n",
       "4   56   services  married  high.school       no      no  yes  telephone   \n",
       "\n",
       "  month day_of_week  duration  campaign  pdays  previous     poutcome  \\\n",
       "0   may         mon       261         1    999         0  nonexistent   \n",
       "1   may         mon       149         1    999         0  nonexistent   \n",
       "2   may         mon       226         1    999         0  nonexistent   \n",
       "3   may         mon       151         1    999         0  nonexistent   \n",
       "4   may         mon       307         1    999         0  nonexistent   \n",
       "\n",
       "   emp.var.rate  cons.price.idx  cons.conf.idx  euribor3m  nr.employed   y  \n",
       "0           1.1          93.994          -36.4      4.857       5191.0  no  \n",
       "1           1.1          93.994          -36.4      4.857       5191.0  no  \n",
       "2           1.1          93.994          -36.4      4.857       5191.0  no  \n",
       "3           1.1          93.994          -36.4      4.857       5191.0  no  \n",
       "4           1.1          93.994          -36.4      4.857       5191.0  no  "
      ]
     },
     "execution_count": 2,
     "metadata": {},
     "output_type": "execute_result"
    }
   ],
   "source": [
    "bank = pd.read_csv(\"bank-additional-full.csv\", delimiter=\";\")\n",
    "bank.head()"
   ]
  },
  {
   "cell_type": "markdown",
   "id": "d2d4c9c3-de0e-4c7c-a561-208733a0fd54",
   "metadata": {},
   "source": [
    "## EDA"
   ]
  },
  {
   "cell_type": "markdown",
   "id": "047bcbef-6c74-4843-b8a4-0daa607a6c63",
   "metadata": {
    "tags": []
   },
   "source": [
    "### Structure\n",
    "Dimensions"
   ]
  },
  {
   "cell_type": "code",
   "execution_count": 4,
   "id": "15fde29f-dbbb-4732-a4f1-f86b1fba9070",
   "metadata": {},
   "outputs": [
    {
     "name": "stdout",
     "output_type": "stream",
     "text": [
      "The data has 21 features.\n",
      "The data has 41188 observations.\n"
     ]
    }
   ],
   "source": [
    "print(\"The data has\", bank.shape[1], \"features.\")\n",
    "print(\"The data has\", bank.shape[0], \"observations.\")"
   ]
  },
  {
   "cell_type": "markdown",
   "id": "2a2d25e4-553c-4e49-b3af-3c0ba4850263",
   "metadata": {},
   "source": [
    "Data Types"
   ]
  },
  {
   "cell_type": "code",
   "execution_count": 5,
   "id": "fc21ff97-6658-4f8c-b68d-988c641a186a",
   "metadata": {},
   "outputs": [
    {
     "data": {
      "text/plain": [
       "age                 int64\n",
       "job                object\n",
       "marital            object\n",
       "education          object\n",
       "default            object\n",
       "housing            object\n",
       "loan               object\n",
       "contact            object\n",
       "month              object\n",
       "day_of_week        object\n",
       "duration            int64\n",
       "campaign            int64\n",
       "pdays               int64\n",
       "previous            int64\n",
       "poutcome           object\n",
       "emp.var.rate      float64\n",
       "cons.price.idx    float64\n",
       "cons.conf.idx     float64\n",
       "euribor3m         float64\n",
       "nr.employed       float64\n",
       "y                  object\n",
       "dtype: object"
      ]
     },
     "execution_count": 5,
     "metadata": {},
     "output_type": "execute_result"
    }
   ],
   "source": [
    "bank.dtypes"
   ]
  },
  {
   "cell_type": "code",
   "execution_count": 6,
   "id": "9f90eb27-a61b-416d-8cec-65bfcac64a3a",
   "metadata": {},
   "outputs": [
    {
     "data": {
      "text/plain": [
       "age                 78\n",
       "job                 12\n",
       "marital              4\n",
       "education            8\n",
       "default              3\n",
       "housing              3\n",
       "loan                 3\n",
       "contact              2\n",
       "month               10\n",
       "day_of_week          5\n",
       "duration          1544\n",
       "campaign            42\n",
       "pdays               27\n",
       "previous             8\n",
       "poutcome             3\n",
       "emp.var.rate        10\n",
       "cons.price.idx      26\n",
       "cons.conf.idx       26\n",
       "euribor3m          316\n",
       "nr.employed         11\n",
       "y                    2\n",
       "dtype: int64"
      ]
     },
     "execution_count": 6,
     "metadata": {},
     "output_type": "execute_result"
    }
   ],
   "source": [
    "bank.nunique()"
   ]
  },
  {
   "cell_type": "markdown",
   "id": "01333159-dba7-464b-85d2-cc7944f47954",
   "metadata": {
    "tags": []
   },
   "source": [
    "### NAs\n",
    "By column - Looks like we don't have to worry about NAs"
   ]
  },
  {
   "cell_type": "code",
   "execution_count": 7,
   "id": "04cee45d-468d-41b1-85d9-cb3ed7928d82",
   "metadata": {},
   "outputs": [
    {
     "data": {
      "text/plain": [
       "age               0\n",
       "job               0\n",
       "marital           0\n",
       "education         0\n",
       "default           0\n",
       "housing           0\n",
       "loan              0\n",
       "contact           0\n",
       "month             0\n",
       "day_of_week       0\n",
       "duration          0\n",
       "campaign          0\n",
       "pdays             0\n",
       "previous          0\n",
       "poutcome          0\n",
       "emp.var.rate      0\n",
       "cons.price.idx    0\n",
       "cons.conf.idx     0\n",
       "euribor3m         0\n",
       "nr.employed       0\n",
       "y                 0\n",
       "dtype: int64"
      ]
     },
     "execution_count": 7,
     "metadata": {},
     "output_type": "execute_result"
    }
   ],
   "source": [
    "bank.isnull().sum()"
   ]
  },
  {
   "cell_type": "code",
   "execution_count": 8,
   "id": "0cd2385c",
   "metadata": {},
   "outputs": [
    {
     "data": {
      "text/html": [
       "<div>\n",
       "<style scoped>\n",
       "    .dataframe tbody tr th:only-of-type {\n",
       "        vertical-align: middle;\n",
       "    }\n",
       "\n",
       "    .dataframe tbody tr th {\n",
       "        vertical-align: top;\n",
       "    }\n",
       "\n",
       "    .dataframe thead th {\n",
       "        text-align: right;\n",
       "    }\n",
       "</style>\n",
       "<table border=\"1\" class=\"dataframe\">\n",
       "  <thead>\n",
       "    <tr style=\"text-align: right;\">\n",
       "      <th></th>\n",
       "      <th>age</th>\n",
       "      <th>duration</th>\n",
       "      <th>campaign</th>\n",
       "      <th>pdays</th>\n",
       "      <th>previous</th>\n",
       "      <th>emp.var.rate</th>\n",
       "      <th>cons.price.idx</th>\n",
       "      <th>cons.conf.idx</th>\n",
       "      <th>euribor3m</th>\n",
       "      <th>nr.employed</th>\n",
       "    </tr>\n",
       "  </thead>\n",
       "  <tbody>\n",
       "    <tr>\n",
       "      <th>count</th>\n",
       "      <td>41188.00000</td>\n",
       "      <td>41188.000000</td>\n",
       "      <td>41188.000000</td>\n",
       "      <td>41188.000000</td>\n",
       "      <td>41188.000000</td>\n",
       "      <td>41188.000000</td>\n",
       "      <td>41188.000000</td>\n",
       "      <td>41188.000000</td>\n",
       "      <td>41188.000000</td>\n",
       "      <td>41188.000000</td>\n",
       "    </tr>\n",
       "    <tr>\n",
       "      <th>mean</th>\n",
       "      <td>40.02406</td>\n",
       "      <td>258.285010</td>\n",
       "      <td>2.567593</td>\n",
       "      <td>962.475454</td>\n",
       "      <td>0.172963</td>\n",
       "      <td>0.081886</td>\n",
       "      <td>93.575664</td>\n",
       "      <td>-40.502600</td>\n",
       "      <td>3.621291</td>\n",
       "      <td>5167.035911</td>\n",
       "    </tr>\n",
       "    <tr>\n",
       "      <th>std</th>\n",
       "      <td>10.42125</td>\n",
       "      <td>259.279249</td>\n",
       "      <td>2.770014</td>\n",
       "      <td>186.910907</td>\n",
       "      <td>0.494901</td>\n",
       "      <td>1.570960</td>\n",
       "      <td>0.578840</td>\n",
       "      <td>4.628198</td>\n",
       "      <td>1.734447</td>\n",
       "      <td>72.251528</td>\n",
       "    </tr>\n",
       "    <tr>\n",
       "      <th>min</th>\n",
       "      <td>17.00000</td>\n",
       "      <td>0.000000</td>\n",
       "      <td>1.000000</td>\n",
       "      <td>0.000000</td>\n",
       "      <td>0.000000</td>\n",
       "      <td>-3.400000</td>\n",
       "      <td>92.201000</td>\n",
       "      <td>-50.800000</td>\n",
       "      <td>0.634000</td>\n",
       "      <td>4963.600000</td>\n",
       "    </tr>\n",
       "    <tr>\n",
       "      <th>25%</th>\n",
       "      <td>32.00000</td>\n",
       "      <td>102.000000</td>\n",
       "      <td>1.000000</td>\n",
       "      <td>999.000000</td>\n",
       "      <td>0.000000</td>\n",
       "      <td>-1.800000</td>\n",
       "      <td>93.075000</td>\n",
       "      <td>-42.700000</td>\n",
       "      <td>1.344000</td>\n",
       "      <td>5099.100000</td>\n",
       "    </tr>\n",
       "    <tr>\n",
       "      <th>50%</th>\n",
       "      <td>38.00000</td>\n",
       "      <td>180.000000</td>\n",
       "      <td>2.000000</td>\n",
       "      <td>999.000000</td>\n",
       "      <td>0.000000</td>\n",
       "      <td>1.100000</td>\n",
       "      <td>93.749000</td>\n",
       "      <td>-41.800000</td>\n",
       "      <td>4.857000</td>\n",
       "      <td>5191.000000</td>\n",
       "    </tr>\n",
       "    <tr>\n",
       "      <th>75%</th>\n",
       "      <td>47.00000</td>\n",
       "      <td>319.000000</td>\n",
       "      <td>3.000000</td>\n",
       "      <td>999.000000</td>\n",
       "      <td>0.000000</td>\n",
       "      <td>1.400000</td>\n",
       "      <td>93.994000</td>\n",
       "      <td>-36.400000</td>\n",
       "      <td>4.961000</td>\n",
       "      <td>5228.100000</td>\n",
       "    </tr>\n",
       "    <tr>\n",
       "      <th>max</th>\n",
       "      <td>98.00000</td>\n",
       "      <td>4918.000000</td>\n",
       "      <td>56.000000</td>\n",
       "      <td>999.000000</td>\n",
       "      <td>7.000000</td>\n",
       "      <td>1.400000</td>\n",
       "      <td>94.767000</td>\n",
       "      <td>-26.900000</td>\n",
       "      <td>5.045000</td>\n",
       "      <td>5228.100000</td>\n",
       "    </tr>\n",
       "  </tbody>\n",
       "</table>\n",
       "</div>"
      ],
      "text/plain": [
       "               age      duration      campaign         pdays      previous  \\\n",
       "count  41188.00000  41188.000000  41188.000000  41188.000000  41188.000000   \n",
       "mean      40.02406    258.285010      2.567593    962.475454      0.172963   \n",
       "std       10.42125    259.279249      2.770014    186.910907      0.494901   \n",
       "min       17.00000      0.000000      1.000000      0.000000      0.000000   \n",
       "25%       32.00000    102.000000      1.000000    999.000000      0.000000   \n",
       "50%       38.00000    180.000000      2.000000    999.000000      0.000000   \n",
       "75%       47.00000    319.000000      3.000000    999.000000      0.000000   \n",
       "max       98.00000   4918.000000     56.000000    999.000000      7.000000   \n",
       "\n",
       "       emp.var.rate  cons.price.idx  cons.conf.idx     euribor3m   nr.employed  \n",
       "count  41188.000000    41188.000000   41188.000000  41188.000000  41188.000000  \n",
       "mean       0.081886       93.575664     -40.502600      3.621291   5167.035911  \n",
       "std        1.570960        0.578840       4.628198      1.734447     72.251528  \n",
       "min       -3.400000       92.201000     -50.800000      0.634000   4963.600000  \n",
       "25%       -1.800000       93.075000     -42.700000      1.344000   5099.100000  \n",
       "50%        1.100000       93.749000     -41.800000      4.857000   5191.000000  \n",
       "75%        1.400000       93.994000     -36.400000      4.961000   5228.100000  \n",
       "max        1.400000       94.767000     -26.900000      5.045000   5228.100000  "
      ]
     },
     "execution_count": 8,
     "metadata": {},
     "output_type": "execute_result"
    }
   ],
   "source": [
    "#descriptive stats:\n",
    "\n",
    "bank.describe()"
   ]
  },
  {
   "cell_type": "code",
   "execution_count": 9,
   "id": "d19694a9",
   "metadata": {},
   "outputs": [
    {
     "data": {
      "text/plain": [
       "array([[<AxesSubplot:title={'center':'age'}>,\n",
       "        <AxesSubplot:title={'center':'duration'}>,\n",
       "        <AxesSubplot:title={'center':'campaign'}>],\n",
       "       [<AxesSubplot:title={'center':'pdays'}>,\n",
       "        <AxesSubplot:title={'center':'previous'}>,\n",
       "        <AxesSubplot:title={'center':'emp.var.rate'}>],\n",
       "       [<AxesSubplot:title={'center':'cons.price.idx'}>,\n",
       "        <AxesSubplot:title={'center':'cons.conf.idx'}>,\n",
       "        <AxesSubplot:title={'center':'euribor3m'}>],\n",
       "       [<AxesSubplot:title={'center':'nr.employed'}>, <AxesSubplot:>,\n",
       "        <AxesSubplot:>]], dtype=object)"
      ]
     },
     "execution_count": 9,
     "metadata": {},
     "output_type": "execute_result"
    },
    {
     "data": {
      "image/png": "[encoded data removed]",
      "text/plain": [
       "<Figure size 1440x1080 with 12 Axes>"
      ]
     },
     "metadata": {
      "needs_background": "light"
     },
     "output_type": "display_data"
    }
   ],
   "source": [
    "#distribution of numerical columns\n",
    "bank.hist(figsize=(20,15),bins=5)"
   ]
  },
  {
   "cell_type": "markdown",
   "id": "edecebcd",
   "metadata": {},
   "source": [
    "\"Age\" seems most normally distributed but still appears to be right skewed. \"Duration\", \"Campaign\", and \"previous\" variables seem very rightly skewed. \"pdays\", \"emp.var.rate\", and \"nr.employed\" are heavily left skewed. Several variables don't have a normal distribution."
   ]
  },
  {
   "cell_type": "code",
   "execution_count": 10,
   "id": "d93fc9b1",
   "metadata": {},
   "outputs": [
    {
     "data": {
      "text/plain": [
       "age               0.784697\n",
       "duration          3.263141\n",
       "campaign          4.762507\n",
       "pdays            -4.922190\n",
       "previous          3.832042\n",
       "emp.var.rate     -0.724096\n",
       "cons.price.idx   -0.230888\n",
       "cons.conf.idx     0.303180\n",
       "euribor3m        -0.709188\n",
       "nr.employed      -1.044262\n",
       "dtype: float64"
      ]
     },
     "execution_count": 10,
     "metadata": {},
     "output_type": "execute_result"
    }
   ],
   "source": [
    "#calculating the skewness of each numeric variable\n",
    "\n",
    "bank.skew()"
   ]
  },
  {
   "cell_type": "markdown",
   "id": "18857fb9",
   "metadata": {},
   "source": [
    "\"Duration\", \"campaign\", \"pdays\" and \"previous\" have the most skewness"
   ]
  },
  {
   "cell_type": "markdown",
   "id": "9a0e9946",
   "metadata": {},
   "source": [
    "### Outlier Analysis"
   ]
  },
  {
   "cell_type": "code",
   "execution_count": 11,
   "id": "271e5f60",
   "metadata": {},
   "outputs": [
    {
     "data": {
      "image/png": "[encoded data removed]",
      "text/plain": [
       "<Figure size 1440x720 with 1 Axes>"
      ]
     },
     "metadata": {
      "needs_background": "light"
     },
     "output_type": "display_data"
    }
   ],
   "source": [
    "#outlier analysis\n",
    "\n",
    "\n",
    "plt.figure(figsize=(20,10))\n",
    "sns.boxplot(data = bank);\n",
    "plt.title('Boxplots of Numeric Columns')\n",
    "plt.show()"
   ]
  },
  {
   "cell_type": "markdown",
   "id": "732e69cb",
   "metadata": {},
   "source": [
    "Boxplots show outliers in \"duration\", \"campaign\", \"pdays\", \"previous\" and \"con.price.idx\""
   ]
  },
  {
   "cell_type": "markdown",
   "id": "2683ca30-33cd-4d65-aa81-ce5d51cbf447",
   "metadata": {},
   "source": [
    "### Distribution of Label"
   ]
  },
  {
   "cell_type": "code",
   "execution_count": 12,
   "id": "edb83b74-630b-4a27-a4ef-143788bcecfe",
   "metadata": {},
   "outputs": [
    {
     "data": {
      "text/plain": [
       "Text(0.5, 1.0, 'Distribution of Term Deposits')"
      ]
     },
     "execution_count": 12,
     "metadata": {},
     "output_type": "execute_result"
    },
    {
     "data": {
      "image/png": "[encoded data removed]",
      "text/plain": [
       "<Figure size 432x288 with 1 Axes>"
      ]
     },
     "metadata": {
      "needs_background": "light"
     },
     "output_type": "display_data"
    }
   ],
   "source": [
    "sns.countplot(bank['y'])\n",
    "plt.xlabel(\"Term Deposit\")\n",
    "plt.title(\"Distribution of Term Deposits\")"
   ]
  },
  {
   "cell_type": "code",
   "execution_count": 13,
   "id": "877ca05e-a235-4c84-ae22-c12651684c3b",
   "metadata": {},
   "outputs": [
    {
     "name": "stdout",
     "output_type": "stream",
     "text": [
      "4640 (11.27%) of observations responded yes to a term deposit\n",
      "36548 (88.73%) of observations responded no to a term deposit\n"
     ]
    }
   ],
   "source": [
    "y_count = bank.groupby(['y'])['y'].count()\n",
    "yes_per = round(y_count.yes/bank.shape[0]*100,2)\n",
    "no_per = round(y_count.no/bank.shape[0]*100,2)\n",
    "\n",
    "print(y_count.yes, \"(\" + str(yes_per) + \"%)\", \"of observations responded yes to a term deposit\")\n",
    "print(y_count.no, \"(\" + str(no_per) + \"%)\", \"of observations responded no to a term deposit\")\n"
   ]
  },
  {
   "cell_type": "markdown",
   "id": "f398dc11-5ba2-42c3-add6-c648adfa79e0",
   "metadata": {},
   "source": [
    "### Encode Categorical Variables\n",
    "Target variable is now y_yes"
   ]
  },
  {
   "cell_type": "code",
   "execution_count": 14,
   "id": "3e7c56e1-5263-4633-a2ba-3042fa2fa6ec",
   "metadata": {},
   "outputs": [
    {
     "data": {
      "text/html": [
       "<div>\n",
       "<style scoped>\n",
       "    .dataframe tbody tr th:only-of-type {\n",
       "        vertical-align: middle;\n",
       "    }\n",
       "\n",
       "    .dataframe tbody tr th {\n",
       "        vertical-align: top;\n",
       "    }\n",
       "\n",
       "    .dataframe thead th {\n",
       "        text-align: right;\n",
       "    }\n",
       "</style>\n",
       "<table border=\"1\" class=\"dataframe\">\n",
       "  <thead>\n",
       "    <tr style=\"text-align: right;\">\n",
       "      <th></th>\n",
       "      <th>job_admin.</th>\n",
       "      <th>job_blue-collar</th>\n",
       "      <th>job_entrepreneur</th>\n",
       "      <th>job_housemaid</th>\n",
       "      <th>job_management</th>\n",
       "      <th>job_retired</th>\n",
       "      <th>job_self-employed</th>\n",
       "      <th>job_services</th>\n",
       "      <th>job_student</th>\n",
       "      <th>job_technician</th>\n",
       "      <th>...</th>\n",
       "      <th>age</th>\n",
       "      <th>duration</th>\n",
       "      <th>campaign</th>\n",
       "      <th>pdays</th>\n",
       "      <th>previous</th>\n",
       "      <th>emp.var.rate</th>\n",
       "      <th>cons.price.idx</th>\n",
       "      <th>cons.conf.idx</th>\n",
       "      <th>euribor3m</th>\n",
       "      <th>nr.employed</th>\n",
       "    </tr>\n",
       "  </thead>\n",
       "  <tbody>\n",
       "    <tr>\n",
       "      <th>0</th>\n",
       "      <td>0.0</td>\n",
       "      <td>0.0</td>\n",
       "      <td>0.0</td>\n",
       "      <td>1.0</td>\n",
       "      <td>0.0</td>\n",
       "      <td>0.0</td>\n",
       "      <td>0.0</td>\n",
       "      <td>0.0</td>\n",
       "      <td>0.0</td>\n",
       "      <td>0.0</td>\n",
       "      <td>...</td>\n",
       "      <td>56</td>\n",
       "      <td>261</td>\n",
       "      <td>1</td>\n",
       "      <td>999</td>\n",
       "      <td>0</td>\n",
       "      <td>1.1</td>\n",
       "      <td>93.994</td>\n",
       "      <td>-36.4</td>\n",
       "      <td>4.857</td>\n",
       "      <td>5191.0</td>\n",
       "    </tr>\n",
       "    <tr>\n",
       "      <th>1</th>\n",
       "      <td>0.0</td>\n",
       "      <td>0.0</td>\n",
       "      <td>0.0</td>\n",
       "      <td>0.0</td>\n",
       "      <td>0.0</td>\n",
       "      <td>0.0</td>\n",
       "      <td>0.0</td>\n",
       "      <td>1.0</td>\n",
       "      <td>0.0</td>\n",
       "      <td>0.0</td>\n",
       "      <td>...</td>\n",
       "      <td>57</td>\n",
       "      <td>149</td>\n",
       "      <td>1</td>\n",
       "      <td>999</td>\n",
       "      <td>0</td>\n",
       "      <td>1.1</td>\n",
       "      <td>93.994</td>\n",
       "      <td>-36.4</td>\n",
       "      <td>4.857</td>\n",
       "      <td>5191.0</td>\n",
       "    </tr>\n",
       "    <tr>\n",
       "      <th>2</th>\n",
       "      <td>0.0</td>\n",
       "      <td>0.0</td>\n",
       "      <td>0.0</td>\n",
       "      <td>0.0</td>\n",
       "      <td>0.0</td>\n",
       "      <td>0.0</td>\n",
       "      <td>0.0</td>\n",
       "      <td>1.0</td>\n",
       "      <td>0.0</td>\n",
       "      <td>0.0</td>\n",
       "      <td>...</td>\n",
       "      <td>37</td>\n",
       "      <td>226</td>\n",
       "      <td>1</td>\n",
       "      <td>999</td>\n",
       "      <td>0</td>\n",
       "      <td>1.1</td>\n",
       "      <td>93.994</td>\n",
       "      <td>-36.4</td>\n",
       "      <td>4.857</td>\n",
       "      <td>5191.0</td>\n",
       "    </tr>\n",
       "    <tr>\n",
       "      <th>3</th>\n",
       "      <td>1.0</td>\n",
       "      <td>0.0</td>\n",
       "      <td>0.0</td>\n",
       "      <td>0.0</td>\n",
       "      <td>0.0</td>\n",
       "      <td>0.0</td>\n",
       "      <td>0.0</td>\n",
       "      <td>0.0</td>\n",
       "      <td>0.0</td>\n",
       "      <td>0.0</td>\n",
       "      <td>...</td>\n",
       "      <td>40</td>\n",
       "      <td>151</td>\n",
       "      <td>1</td>\n",
       "      <td>999</td>\n",
       "      <td>0</td>\n",
       "      <td>1.1</td>\n",
       "      <td>93.994</td>\n",
       "      <td>-36.4</td>\n",
       "      <td>4.857</td>\n",
       "      <td>5191.0</td>\n",
       "    </tr>\n",
       "    <tr>\n",
       "      <th>4</th>\n",
       "      <td>0.0</td>\n",
       "      <td>0.0</td>\n",
       "      <td>0.0</td>\n",
       "      <td>0.0</td>\n",
       "      <td>0.0</td>\n",
       "      <td>0.0</td>\n",
       "      <td>0.0</td>\n",
       "      <td>1.0</td>\n",
       "      <td>0.0</td>\n",
       "      <td>0.0</td>\n",
       "      <td>...</td>\n",
       "      <td>56</td>\n",
       "      <td>307</td>\n",
       "      <td>1</td>\n",
       "      <td>999</td>\n",
       "      <td>0</td>\n",
       "      <td>1.1</td>\n",
       "      <td>93.994</td>\n",
       "      <td>-36.4</td>\n",
       "      <td>4.857</td>\n",
       "      <td>5191.0</td>\n",
       "    </tr>\n",
       "  </tbody>\n",
       "</table>\n",
       "<p>5 rows × 63 columns</p>\n",
       "</div>"
      ],
      "text/plain": [
       "   job_admin.  job_blue-collar  job_entrepreneur  job_housemaid  \\\n",
       "0         0.0              0.0               0.0            1.0   \n",
       "1         0.0              0.0               0.0            0.0   \n",
       "2         0.0              0.0               0.0            0.0   \n",
       "3         1.0              0.0               0.0            0.0   \n",
       "4         0.0              0.0               0.0            0.0   \n",
       "\n",
       "   job_management  job_retired  job_self-employed  job_services  job_student  \\\n",
       "0             0.0          0.0                0.0           0.0          0.0   \n",
       "1             0.0          0.0                0.0           1.0          0.0   \n",
       "2             0.0          0.0                0.0           1.0          0.0   \n",
       "3             0.0          0.0                0.0           0.0          0.0   \n",
       "4             0.0          0.0                0.0           1.0          0.0   \n",
       "\n",
       "   job_technician  ...  age  duration  campaign  pdays  previous  \\\n",
       "0             0.0  ...   56       261         1    999         0   \n",
       "1             0.0  ...   57       149         1    999         0   \n",
       "2             0.0  ...   37       226         1    999         0   \n",
       "3             0.0  ...   40       151         1    999         0   \n",
       "4             0.0  ...   56       307         1    999         0   \n",
       "\n",
       "   emp.var.rate  cons.price.idx  cons.conf.idx  euribor3m  nr.employed  \n",
       "0           1.1          93.994          -36.4      4.857       5191.0  \n",
       "1           1.1          93.994          -36.4      4.857       5191.0  \n",
       "2           1.1          93.994          -36.4      4.857       5191.0  \n",
       "3           1.1          93.994          -36.4      4.857       5191.0  \n",
       "4           1.1          93.994          -36.4      4.857       5191.0  \n",
       "\n",
       "[5 rows x 63 columns]"
      ]
     },
     "execution_count": 14,
     "metadata": {},
     "output_type": "execute_result"
    }
   ],
   "source": [
    "bank_cat = bank.select_dtypes('object')\n",
    "bank_num = bank.select_dtypes(['float64', 'int64'])\n",
    "OH_encoder = OneHotEncoder(drop = 'if_binary', sparse=False)\n",
    "bank_coded = OH_encoder.fit_transform(bank_cat)\n",
    "bank_coded = pd.DataFrame(bank_coded, columns = OH_encoder.get_feature_names_out())\n",
    "bank_coded = pd.concat([bank_coded, bank_num], axis = 1)\n",
    "bank_coded.head()"
   ]
  },
  {
   "cell_type": "markdown",
   "id": "060b8c5a-2454-497f-b408-16b272277ddb",
   "metadata": {},
   "source": [
    "### Correlation Matrix"
   ]
  },
  {
   "cell_type": "code",
   "execution_count": 15,
   "id": "42e0d620-3999-4f0f-9bc1-cb25763599aa",
   "metadata": {},
   "outputs": [
    {
     "data": {
      "text/plain": [
       "<AxesSubplot:>"
      ]
     },
     "execution_count": 15,
     "metadata": {},
     "output_type": "execute_result"
    },
    {
     "data": {
      "image/png": "[encoded data removed]",
      "text/plain": [
       "<Figure size 1152x864 with 2 Axes>"
      ]
     },
     "metadata": {
      "needs_background": "light"
     },
     "output_type": "display_data"
    }
   ],
   "source": [
    "plt.figure(figsize = (16,12))\n",
    "sns.heatmap(bank_coded.corr())"
   ]
  },
  {
   "cell_type": "markdown",
   "id": "f05cb806-3262-436e-9f68-a13d3f88d4bf",
   "metadata": {},
   "source": [
    "### Feature Selection\n",
    "Zero Variance Variables"
   ]
  },
  {
   "cell_type": "code",
   "execution_count": 16,
   "id": "cd2fbb0f-93c7-439d-854b-b399e7be85c1",
   "metadata": {},
   "outputs": [
    {
     "name": "stdout",
     "output_type": "stream",
     "text": [
      "job_entrepreneur\n",
      "job_housemaid\n",
      "job_management\n",
      "job_retired\n",
      "job_self-employed\n",
      "job_services\n",
      "job_student\n",
      "job_unemployed\n",
      "job_unknown\n",
      "marital_divorced\n",
      "marital_unknown\n",
      "education_basic.4y\n",
      "education_basic.6y\n",
      "education_illiterate\n",
      "education_unknown\n",
      "default_yes\n",
      "housing_unknown\n",
      "loan_unknown\n",
      "month_apr\n",
      "month_dec\n",
      "month_mar\n",
      "month_nov\n",
      "month_oct\n",
      "month_sep\n",
      "poutcome_failure\n",
      "poutcome_success\n"
     ]
    }
   ],
   "source": [
    "X = bank_coded.drop(columns = ['y_yes'])\n",
    "y = bank_coded['y_yes']\n",
    "low_var = VarianceThreshold(threshold=0.1)\n",
    "low_var.fit(X)\n",
    "dropcols = [column for column in X.columns\n",
    "           if column not in\n",
    "X.columns[low_var.get_support()]]\n",
    "for features in dropcols:\n",
    "    print(features)\n",
    "    \n",
    "X_highvar = X.drop(dropcols, axis = 1)"
   ]
  },
  {
   "cell_type": "markdown",
   "id": "fa52a39f-552b-4850-9d7c-01ced2963331",
   "metadata": {},
   "source": [
    "Multicollinearity"
   ]
  },
  {
   "cell_type": "code",
   "execution_count": 17,
   "id": "5e0fa793-51d2-407e-9b2c-ad8f1c14c852",
   "metadata": {},
   "outputs": [],
   "source": [
    "X_vif = pd.DataFrame()\n",
    "X_vif['variable'] = X_highvar.columns\n",
    "X_vif['vif'] = [variance_inflation_factor(X_highvar.values, i)\n",
    "               for i in range(len(X_highvar.columns))]\n",
    "# housing_no and loan_no were perfectly correlated with their counterparts so we'll remove them\n",
    "X_clean = X_highvar.drop(columns = ['housing_no', 'loan_no'])\n",
    "X_vif = pd.DataFrame()\n",
    "X_vif['variable'] = X_clean.columns\n",
    "X_vif['vif'] = [variance_inflation_factor(X_clean.values, i)\n",
    "               for i in range(len(X_clean.columns))]\n",
    "drop = list(X_vif[X_vif['vif']>10].variable)\n",
    "X_clean = X_clean.drop(columns = drop, axis = 1)"
   ]
  },
  {
   "cell_type": "markdown",
   "id": "dc8d467d-4270-485c-8976-97eaed9736c9",
   "metadata": {},
   "source": [
    "## Modelling\n",
    "### Split Data\n",
    "Note: Planning on using CV for tuning, so just doing a train and test split"
   ]
  },
  {
   "cell_type": "code",
   "execution_count": 18,
   "id": "1ce464d5-1628-44e6-83c1-d8491d714c11",
   "metadata": {},
   "outputs": [],
   "source": [
    "X_train, X_test, y_train, y_test = train_test_split(X_clean, \n",
    "                                                    y, \n",
    "                                                    test_size=0.2, \n",
    "                                                    random_state=123)\n",
    "\n",
    "# Undersampled Data\n",
    "undersampler = RandomUnderSampler(random_state = 123)\n",
    "X_under, y_under = undersampler.fit_resample(X_train, y_train)"
   ]
  },
  {
   "cell_type": "markdown",
   "id": "3cb7cad0-d123-4c58-ba31-cb3486ebcf7b",
   "metadata": {},
   "source": [
    "### k-NN"
   ]
  },
  {
   "cell_type": "code",
   "execution_count": 18,
   "id": "bcf2caf9-639c-40ad-b016-000547950911",
   "metadata": {},
   "outputs": [],
   "source": [
    "scaler = StandardScaler()\n",
    "knn = KNeighborsClassifier()\n",
    "\n",
    "neighbors = list(range(1,27,2))\n",
    "weight = ['uniform', 'distance']\n",
    "\n",
    "params = dict(knn__n_neighbors = neighbors,\n",
    "             knn__weights = weight)\n",
    "\n",
    "knn_pipe = Pipeline(steps = [('scaler', scaler), ('knn', knn)])"
   ]
  },
  {
   "cell_type": "markdown",
   "id": "fb41eec7-1be6-4aac-9eeb-ebfc64c41a08",
   "metadata": {},
   "source": [
    "Unbalanced"
   ]
  },
  {
   "cell_type": "code",
   "execution_count": 19,
   "id": "d2b3b9a3-f5ad-4d05-9df1-90074c7ee790",
   "metadata": {},
   "outputs": [
    {
     "name": "stdout",
     "output_type": "stream",
     "text": [
      "{'knn__n_neighbors': 25, 'knn__weights': 'distance'}\n",
      "              precision    recall  f1-score   support\n",
      "\n",
      "         0.0       0.91      0.98      0.95      7298\n",
      "         1.0       0.68      0.28      0.40       940\n",
      "\n",
      "    accuracy                           0.90      8238\n",
      "   macro avg       0.80      0.63      0.67      8238\n",
      "weighted avg       0.89      0.90      0.88      8238\n",
      "\n"
     ]
    }
   ],
   "source": [
    "knn_tuned = GridSearchCV(knn_pipe, params, n_jobs = -1)\n",
    "knn_tuned.fit(X_train, y_train)\n",
    "knn_reg_pred = knn_tuned.predict(X_test)\n",
    "print(knn_tuned.best_params_)\n",
    "print(classification_report(y_test, knn_reg_pred))"
   ]
  },
  {
   "cell_type": "markdown",
   "id": "24f5ab0e-3b22-4be4-95e3-e60e4af538a9",
   "metadata": {},
   "source": [
    "Balanced - A lot better recall, but precision took a big hit."
   ]
  },
  {
   "cell_type": "code",
   "execution_count": 20,
   "id": "77abaa33-efa7-4acf-b167-6ebc908b534f",
   "metadata": {},
   "outputs": [
    {
     "name": "stdout",
     "output_type": "stream",
     "text": [
      "{'knn__n_neighbors': 25, 'knn__weights': 'distance'}\n",
      "              precision    recall  f1-score   support\n",
      "\n",
      "         0.0       0.96      0.87      0.91      7298\n",
      "         1.0       0.41      0.71      0.52       940\n",
      "\n",
      "    accuracy                           0.85      8238\n",
      "   macro avg       0.68      0.79      0.71      8238\n",
      "weighted avg       0.90      0.85      0.86      8238\n",
      "\n"
     ]
    }
   ],
   "source": [
    "knn_baltuned = GridSearchCV(knn_pipe, params, n_jobs = -1)\n",
    "knn_baltuned.fit(X_under, y_under)\n",
    "knn_bal_pred = knn_baltuned.predict(X_test)\n",
    "print(knn_baltuned.best_params_)\n",
    "print(classification_report(y_test, knn_bal_pred))"
   ]
  },
  {
   "cell_type": "markdown",
   "id": "7f1ac84e-bd68-450d-8f2d-69d8bf9061ec",
   "metadata": {},
   "source": [
    "### Neural Networks"
   ]
  },
  {
   "cell_type": "code",
   "execution_count": 24,
   "id": "90a0ee6a-c674-4a5e-88c7-b38cb190b7c9",
   "metadata": {},
   "outputs": [],
   "source": [
    "neural_net = MLPClassifier(solver = 'sgd')\n",
    "hidden_layer = [(10,30,10), (20,)]\n",
    "activation = ['relu', 'logistic', 'tanh']\n",
    "alpha = [0.0001, 0.001, 0.01, 0.1]\n",
    "learning_rate = ['constant', 'adaptive']\n",
    "\n",
    "neural_pipe = Pipeline(steps=[('scaler', scaler),('neural_net', neural_net)])\n",
    "\n",
    "params = dict(neural_net__hidden_layer_sizes = hidden_layer, neural_net__activation = activation, neural_net__alpha = alpha,\n",
    "             neural_net__learning_rate = learning_rate)"
   ]
  },
  {
   "cell_type": "code",
   "execution_count": 25,
   "id": "d7bd29c5-7624-465b-be3f-79ba9863c6d8",
   "metadata": {},
   "outputs": [
    {
     "name": "stdout",
     "output_type": "stream",
     "text": [
      "{'neural_net__activation': 'tanh', 'neural_net__alpha': 0.0001, 'neural_net__hidden_layer_sizes': (10, 30, 10), 'neural_net__learning_rate': 'constant'}\n",
      "              precision    recall  f1-score   support\n",
      "\n",
      "         0.0       0.93      0.97      0.95      7298\n",
      "         1.0       0.65      0.48      0.55       940\n",
      "\n",
      "    accuracy                           0.91      8238\n",
      "   macro avg       0.79      0.72      0.75      8238\n",
      "weighted avg       0.90      0.91      0.90      8238\n",
      "\n"
     ]
    }
   ],
   "source": [
    "neural_tuned = GridSearchCV(neural_pipe, params, n_jobs = 6)\n",
    "neural_tuned.fit(X_train, y_train)\n",
    "neural_tuned_pred = neural_tuned.predict(X_test)\n",
    "print(neural_tuned.best_params_)\n",
    "print(classification_report(y_test, neural_tuned_pred))"
   ]
  },
  {
   "cell_type": "code",
   "execution_count": 26,
   "id": "ebbfe836-40ae-4f11-9a5f-a9b51d96937d",
   "metadata": {},
   "outputs": [
    {
     "name": "stdout",
     "output_type": "stream",
     "text": [
      "{'neural_net__activation': 'relu', 'neural_net__alpha': 0.01, 'neural_net__hidden_layer_sizes': (10, 30, 10), 'neural_net__learning_rate': 'adaptive'}\n",
      "              precision    recall  f1-score   support\n",
      "\n",
      "         0.0       0.99      0.81      0.89      7298\n",
      "         1.0       0.39      0.91      0.54       940\n",
      "\n",
      "    accuracy                           0.83      8238\n",
      "   macro avg       0.69      0.86      0.72      8238\n",
      "weighted avg       0.92      0.83      0.85      8238\n",
      "\n"
     ]
    }
   ],
   "source": [
    "neural_baltuned = GridSearchCV(neural_pipe, params, n_jobs = -1)\n",
    "neural_baltuned.fit(X_under, y_under)\n",
    "neural_bal_pred = neural_baltuned.predict(X_test)\n",
    "print(neural_baltuned.best_params_)\n",
    "print(classification_report(y_test, neural_bal_pred))"
   ]
  },
  {
   "cell_type": "markdown",
   "id": "abcfe32a",
   "metadata": {},
   "source": [
    "### Logistic Regression"
   ]
  },
  {
   "cell_type": "code",
   "execution_count": 21,
   "id": "8df8c6b5",
   "metadata": {},
   "outputs": [
    {
     "name": "stdout",
     "output_type": "stream",
     "text": [
      "              precision    recall  f1-score   support\n",
      "\n",
      "         0.0       0.92      0.98      0.95      7298\n",
      "         1.0       0.67      0.33      0.44       940\n",
      "\n",
      "    accuracy                           0.90      8238\n",
      "   macro avg       0.79      0.66      0.70      8238\n",
      "weighted avg       0.89      0.90      0.89      8238\n",
      "\n"
     ]
    }
   ],
   "source": [
    "logit_reg = LogisticRegression(penalty='l2', solver='liblinear')\n",
    "logit_reg.fit(X_train, y_train)\n",
    "logit_pred = logit_reg.predict(X_test)\n",
    "print(classification_report(y_test,logit_pred))"
   ]
  },
  {
   "cell_type": "markdown",
   "id": "1a4a569b",
   "metadata": {},
   "source": [
    "### XGBoost"
   ]
  },
  {
   "cell_type": "code",
   "execution_count": 3,
   "id": "0cbe76e3",
   "metadata": {},
   "outputs": [],
   "source": [
    "X = bank.drop(columns = ['y'])\n",
    "y = bank[['y']]\n",
    "\n",
    "oe = OrdinalEncoder()\n",
    "y = oe.fit_transform(y)"
   ]
  },
  {
   "cell_type": "code",
   "execution_count": 4,
   "id": "fde1d033",
   "metadata": {},
   "outputs": [
    {
     "data": {
      "text/plain": [
       "Index(['age', 'job', 'marital', 'education', 'default', 'housing', 'loan',\n",
       "       'contact', 'month', 'day_of_week', 'duration', 'campaign', 'pdays',\n",
       "       'previous', 'poutcome', 'emp.var.rate', 'cons.price.idx',\n",
       "       'cons.conf.idx', 'euribor3m', 'nr.employed'],\n",
       "      dtype='object')"
      ]
     },
     "execution_count": 4,
     "metadata": {},
     "output_type": "execute_result"
    }
   ],
   "source": [
    "X.columns"
   ]
  },
  {
   "cell_type": "code",
   "execution_count": 5,
   "id": "eeeca9a6",
   "metadata": {},
   "outputs": [],
   "source": [
    "X_train, X_test, y_train, y_test = train_test_split(X, \n",
    "                                                    y, \n",
    "                                                    test_size=0.2, \n",
    "                                                    random_state=123)\n",
    "\n",
    "# Undersampled Data\n",
    "undersampler = RandomUnderSampler(random_state = 123)\n",
    "X_train, y_train = undersampler.fit_resample(X_train, y_train)"
   ]
  },
  {
   "cell_type": "code",
   "execution_count": 6,
   "id": "f07ce453",
   "metadata": {},
   "outputs": [],
   "source": [
    "cat_variables = ['job', \n",
    "                 'marital', \n",
    "                 'education', \n",
    "                 'default', \n",
    "                 'housing', \n",
    "                 'loan', \n",
    "                 'contact', \n",
    "                 'month', \n",
    "                 'day_of_week', \n",
    "                 'poutcome']\n",
    "num_variables = ['age', \n",
    "                 'duration',\n",
    "                 'campaign',\n",
    "                 'pdays',\n",
    "                 'previous',\n",
    "                 'emp.var.rate', \n",
    "                 'cons.conf.idx', \n",
    "                 'euribor3m', \n",
    "                 'nr.employed']"
   ]
  },
  {
   "cell_type": "code",
   "execution_count": 55,
   "id": "924f0d5d",
   "metadata": {},
   "outputs": [],
   "source": [
    "# Categorical pipeline\n",
    "cat_pipe = Pipeline([(\"cat_imputer\", SimpleImputer(strategy=\"constant\", fill_value='Unknown')),\n",
    "                     ('cat_encoder', OneHotEncoder())])\n",
    "\n",
    "# Numerical pipeline:\n",
    "num_pipe = Pipeline([('num_imputer', SimpleImputer(strategy='median')),\n",
    "                     ('num_scaler', StandardScaler())])\n",
    "\n",
    "full_pipeline = Pipeline([('column_transformer', ColumnTransformer([('cat', cat_pipe, cat_variables),\n",
    "                                                                    ('num', num_pipe, num_variables)], remainder = 'passthrough')),\n",
    "                          ('k_best', SelectKBest(k = 20)),\n",
    "                          ('xgBoost', xgb.XGBClassifier(objective=\"binary:logistic\",\n",
    "                                                        tree_method = 'gpu_hist'))])"
   ]
  },
  {
   "cell_type": "code",
   "execution_count": 58,
   "id": "d5483356",
   "metadata": {},
   "outputs": [
    {
     "name": "stdout",
     "output_type": "stream",
     "text": [
      "Best parameter (CV score=nan):\n",
      "{'xgBoost__reg_lambda': 0.3, 'xgBoost__reg_alpha': 0.3, 'xgBoost__n_estimators': 100, 'xgBoost__max_depth': 9, 'xgBoost__learning_rate': 0.1, 'xgBoost__gamma': 0.4, 'xgBoost__colsample_bytree': 0.9}\n"
     ]
    }
   ],
   "source": [
    "search_space = [{'xgBoost__n_estimators': [50, 100, 150, 200, 250, 300],\n",
    "                 'xgBoost__learning_rate': [0.01, 0.1, 0.3, .05, 1],\n",
    "                 'xgBoost__max_depth': range(3,21,2),\n",
    "                 'xgBoost__colsample_bytree': [i/10.0 for i in range(3,10)],\n",
    "                 'xgBoost__gamma': [i/10.0 for i in range(5)],\n",
    "                 'xgBoost__reg_alpha' : [1e-5, 1e-2, 0.1, .3],\n",
    "                 'xgBoost__reg_lambda' : [1e-5, 1e-2, 0.1,.3]}]\n",
    "\n",
    "kfold = StratifiedKFold(n_splits=5, \n",
    "                        shuffle=True, \n",
    "                        random_state=123)\n",
    "\n",
    "search = RandomizedSearchCV(full_pipeline, \n",
    "                            param_distributions = search_space, \n",
    "                            n_iter = 200, \n",
    "                            cv = kfold,\n",
    "                            scoring ='recall',\n",
    "                            n_jobs = 4)\n",
    "result = search.fit(X_train, y_train)\n",
    "\n",
    "print(\"Best parameter (CV score=%0.3f):\" % search.best_score_)\n",
    "print(search.best_params_)"
   ]
  },
  {
   "cell_type": "code",
   "execution_count": 59,
   "id": "b6efc534",
   "metadata": {},
   "outputs": [
    {
     "name": "stdout",
     "output_type": "stream",
     "text": [
      "              precision    recall  f1-score   support\n",
      "\n",
      "         0.0       0.99      0.85      0.91      7298\n",
      "         1.0       0.44      0.95      0.60       940\n",
      "\n",
      "    accuracy                           0.86      8238\n",
      "   macro avg       0.72      0.90      0.76      8238\n",
      "weighted avg       0.93      0.86      0.88      8238\n",
      "\n"
     ]
    }
   ],
   "source": [
    "xgb_pred = search.predict(X_test)\n",
    "print(classification_report(y_test,xgb_pred))"
   ]
  },
  {
   "cell_type": "code",
   "execution_count": 61,
   "id": "2a958808",
   "metadata": {},
   "outputs": [
    {
     "data": {
      "text/plain": [
       "0.9478723404255319"
      ]
     },
     "execution_count": 61,
     "metadata": {},
     "output_type": "execute_result"
    }
   ],
   "source": [
    "recall_score(y_test,xgb_pred)"
   ]
  },
  {
   "cell_type": "markdown",
   "id": "79f7406f",
   "metadata": {},
   "source": [
    "### Extra Trees"
   ]
  },
  {
   "cell_type": "code",
   "execution_count": 7,
   "id": "2c67199d",
   "metadata": {},
   "outputs": [],
   "source": [
    "# Categorical pipeline\n",
    "cat_pipe = Pipeline([(\"cat_imputer\", SimpleImputer(strategy=\"constant\", fill_value='Unknown')),\n",
    "                     ('cat_encoder', OneHotEncoder())])\n",
    "\n",
    "# Numerical pipeline:\n",
    "num_pipe = Pipeline([('num_imputer', SimpleImputer(strategy='median')),\n",
    "                     ('num_scaler', StandardScaler())])\n",
    "\n",
    "full_pipeline = Pipeline([('column_transformer', ColumnTransformer([('cat', cat_pipe, cat_variables),\n",
    "                                                                    ('num', num_pipe, num_variables)], remainder = 'passthrough')),\n",
    "                          ('k_best', SelectKBest(k = 20)),\n",
    "                          ('etc', ExtraTreesClassifier())])"
   ]
  },
  {
   "cell_type": "code",
   "execution_count": 8,
   "id": "8836c2d6",
   "metadata": {},
   "outputs": [
    {
     "name": "stdout",
     "output_type": "stream",
     "text": [
      "Best parameter (CV score=nan):\n",
      "{'etc__n_estimators': 100, 'etc__max_leaf_nodes': 25, 'etc__max_depth': 14}\n"
     ]
    }
   ],
   "source": [
    "search_space = [{'etc__n_estimators': [10, 50, 100, 500, 1000, 5000],\n",
    "                 'etc__max_leaf_nodes': [5, 10, 15, 20, 25, 50], \n",
    "                 'etc__max_depth': range(2,21,1)}]\n",
    "\n",
    "kfold = StratifiedKFold(n_splits=5, \n",
    "                        shuffle=True, \n",
    "                        random_state=123)\n",
    "\n",
    "search = RandomizedSearchCV(full_pipeline, \n",
    "                            param_distributions = search_space, \n",
    "                            n_iter = 200, \n",
    "                            cv = kfold,\n",
    "                            scoring ='recall',\n",
    "                            n_jobs = 4)\n",
    "result = search.fit(X_train, y_train)\n",
    "\n",
    "print(\"Best parameter (CV score=%0.3f):\" % search.best_score_)\n",
    "print(search.best_params_)"
   ]
  },
  {
   "cell_type": "code",
   "execution_count": 9,
   "id": "ca32829a",
   "metadata": {},
   "outputs": [
    {
     "name": "stdout",
     "output_type": "stream",
     "text": [
      "              precision    recall  f1-score   support\n",
      "\n",
      "         0.0       0.96      0.86      0.91      7298\n",
      "         1.0       0.39      0.70      0.50       940\n",
      "\n",
      "    accuracy                           0.84      8238\n",
      "   macro avg       0.67      0.78      0.70      8238\n",
      "weighted avg       0.89      0.84      0.86      8238\n",
      "\n"
     ]
    }
   ],
   "source": [
    "etc_pred = search.predict(X_test)\n",
    "print(classification_report(y_test,etc_pred))"
   ]
  },
  {
   "cell_type": "code",
   "execution_count": 10,
   "id": "39ef484a",
   "metadata": {},
   "outputs": [
    {
     "data": {
      "text/plain": [
       "0.6968085106382979"
      ]
     },
     "execution_count": 10,
     "metadata": {},
     "output_type": "execute_result"
    }
   ],
   "source": [
    "recall_score(y_test,etc_pred)"
   ]
  },
  {
   "cell_type": "markdown",
   "id": "3e648ea6",
   "metadata": {},
   "source": [
    "### Logistic Regression"
   ]
  },
  {
   "cell_type": "code",
   "execution_count": 13,
   "id": "c82d5f32",
   "metadata": {},
   "outputs": [],
   "source": [
    "# Categorical pipeline\n",
    "cat_pipe = Pipeline([(\"cat_imputer\", SimpleImputer(strategy=\"constant\", fill_value='Unknown')),\n",
    "                     ('cat_encoder', OneHotEncoder())])\n",
    "\n",
    "# Numerical pipeline:\n",
    "num_pipe = Pipeline([('num_imputer', SimpleImputer(strategy='median')),\n",
    "                     ('num_scaler', StandardScaler())])\n",
    "\n",
    "full_pipeline = Pipeline([('column_transformer', ColumnTransformer([('cat', cat_pipe, cat_variables),\n",
    "                                                                    ('num', num_pipe, num_variables)], remainder = 'passthrough')),\n",
    "                          ('k_best', SelectKBest(k = 20)),\n",
    "                          ('logreg', LogisticRegression(solver = 'saga'))])"
   ]
  },
  {
   "cell_type": "code",
   "execution_count": 14,
   "id": "819726d3",
   "metadata": {},
   "outputs": [
    {
     "name": "stdout",
     "output_type": "stream",
     "text": [
      "Best parameter (CV score=nan):\n",
      "{'logreg__penalty': 'l1', 'logreg__C': 0.01}\n"
     ]
    }
   ],
   "source": [
    "search_space = [{'logreg__penalty': ['l1', 'l2', 'elasticnet'],\n",
    "                 'logreg__C': [0.01, 0.1, 0.3, .05, 1]}]\n",
    "\n",
    "kfold = StratifiedKFold(n_splits=5, \n",
    "                        shuffle=True, \n",
    "                        random_state=123)\n",
    "\n",
    "search = RandomizedSearchCV(full_pipeline, \n",
    "                            param_distributions = search_space, \n",
    "                            n_iter = 200, \n",
    "                            cv = kfold,\n",
    "                            scoring ='recall',\n",
    "                            n_jobs = 4)\n",
    "result = search.fit(X_train, y_train)\n",
    "\n",
    "print(\"Best parameter (CV score=%0.3f):\" % search.best_score_)\n",
    "print(search.best_params_)"
   ]
  },
  {
   "cell_type": "code",
   "execution_count": 15,
   "id": "80c5f603",
   "metadata": {},
   "outputs": [
    {
     "name": "stdout",
     "output_type": "stream",
     "text": [
      "              precision    recall  f1-score   support\n",
      "\n",
      "         0.0       0.98      0.85      0.91      7298\n",
      "         1.0       0.43      0.89      0.58       940\n",
      "\n",
      "    accuracy                           0.85      8238\n",
      "   macro avg       0.71      0.87      0.75      8238\n",
      "weighted avg       0.92      0.85      0.87      8238\n",
      "\n"
     ]
    }
   ],
   "source": [
    "lr_pred = search.predict(X_test)\n",
    "print(classification_report(y_test,lr_pred))"
   ]
  },
  {
   "cell_type": "code",
   "execution_count": 16,
   "id": "dea71a8c",
   "metadata": {},
   "outputs": [
    {
     "data": {
      "text/plain": [
       "0.8851063829787233"
      ]
     },
     "execution_count": 16,
     "metadata": {},
     "output_type": "execute_result"
    }
   ],
   "source": [
    "recall_score(y_test,lr_pred)"
   ]
  },
  {
   "cell_type": "code",
   "execution_count": null,
   "id": "d5a64572",
   "metadata": {},
   "outputs": [],
   "source": []
  }
 ],
 "metadata": {
  "kernelspec": {
   "display_name": "Python 3 (ipykernel)",
   "language": "python",
   "name": "python3"
  },
  "language_info": {
   "codemirror_mode": {
    "name": "ipython",
    "version": 3
   },
   "file_extension": ".py",
   "mimetype": "text/x-python",
   "name": "python",
   "nbconvert_exporter": "python",
   "pygments_lexer": "ipython3",
   "version": "3.9.12"
  }
 },
 "nbformat": 4,
 "nbformat_minor": 5
}
