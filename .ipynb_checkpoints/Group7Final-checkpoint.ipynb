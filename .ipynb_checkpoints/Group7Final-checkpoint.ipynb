{
 "cells": [
  {
   "cell_type": "markdown",
   "id": "da1c4c15-ba55-478f-9e87-30a238401f90",
   "metadata": {},
   "source": [
    "# Improving Bank Marketing Campaigns with Machine Learning\n",
    "### Group 7 - Gary Bair, Hunter Blum, Jacqueline Urenda"
   ]
  },
  {
   "cell_type": "markdown",
   "id": "5fc520fa-b0ba-41e2-b9e2-83079716fddf",
   "metadata": {},
   "source": [
    "### Package Requirements"
   ]
  },
  {
   "cell_type": "code",
   "execution_count": 1,
   "id": "70a8ec60-da13-49f4-b2d5-969aedeb8ee1",
   "metadata": {},
   "outputs": [
    {
     "name": "stderr",
     "output_type": "stream",
     "text": [
      "C:\\ProgramData\\Miniconda3\\lib\\site-packages\\statsmodels\\compat\\pandas.py:61: FutureWarning: pandas.Int64Index is deprecated and will be removed from pandas in a future version. Use pandas.Index with the appropriate dtype instead.\n",
      "  from pandas import Int64Index as NumericIndex\n"
     ]
    }
   ],
   "source": [
    "import pandas as pd\n",
    "import numpy as np\n",
    "import matplotlib.pyplot as plt\n",
    "import seaborn as sns\n",
    "from statsmodels.stats.outliers_influence import variance_inflation_factor\n",
    "\n",
    "\n",
    "# Sklearn packages\n",
    "from sklearn.preprocessing import OneHotEncoder, StandardScaler, OrdinalEncoder\n",
    "from sklearn.impute import SimpleImputer\n",
    "from sklearn.feature_selection import VarianceThreshold, SelectKBest\n",
    "from sklearn.model_selection import train_test_split, GridSearchCV, StratifiedKFold, cross_val_score, GridSearchCV, RandomizedSearchCV\n",
    "\n",
    "\n",
    "#pipeline tools\n",
    "from sklearn.compose import ColumnTransformer, make_column_transformer\n",
    "from sklearn.pipeline import Pipeline, make_pipeline\n",
    "\n",
    "#resampling tools\n",
    "from imblearn.under_sampling import RandomUnderSampler\n",
    "from imblearn.over_sampling import RandomOverSampler, SMOTE\n",
    "\n",
    "#feature selection\n",
    "from sklearn.decomposition import PCA\n",
    "\n",
    "#models\n",
    "from sklearn.neighbors import KNeighborsClassifier\n",
    "from sklearn.linear_model import LogisticRegression\n",
    "from sklearn.neural_network import MLPClassifier\n",
    "import xgboost as xgb\n",
    "from sklearn.ensemble import ExtraTreesClassifier\n",
    "\n",
    "#metrics\n",
    "from sklearn.metrics import confusion_matrix, accuracy_score, f1_score, recall_score, classification_report\n",
    "\n",
    "import warnings\n",
    "warnings.filterwarnings(\"ignore\")\n",
    "\n",
    "#pandas settings\n",
    "pd.set_option('display.max_columns', None)\n",
    "\n",
    "# DMBA packages\n",
    "from dmba import gainsChart, liftChart"
   ]
  },
  {
   "cell_type": "markdown",
   "id": "b7ed4565",
   "metadata": {},
   "source": [
    "# Dataset Description\n",
    "\n",
    "The data used in this analysis is related to the direct marketing campaigns of a Portuguese banking institution and is based on phone marketing calls to determine whether a customer would subscribe to the banks term deposit subscription with more than one contact often being required. The full dataset is comprised of 41,188 records and 20 predictive features ordered by date from May 2008 to November 2010.\n",
    "\n",
    "### *Input variables*:\n",
    "1. age: Customer Age (numeric)\n",
    "2. job : Type of Job (categorical)\n",
    "3. marital : Marital Status (categorical)\n",
    "4. education: Level of Education (categorical)\n",
    "5. default: Has credit in default? (categorical)\n",
    "6. housing: Has housing loan? (categorical)\n",
    "7. loan: Has personal loan? (categorical)\n",
    "8. contact: Contact Communication Type (categorical)\n",
    "9. month: Last Contact Month of Year (categorical)\n",
    "10. day_of_week: Last Contact Day of the Week (categorical)\n",
    "11. duration: Last Contact Duration, in seconds (numeric). \n",
    "12. campaign: Number of contacts performed during this campaign and for this client which includes last contact(numeric)\n",
    "13. pdays: Number of days that passed by after the client was last contacted from a previous campaign (numeric)\n",
    "14. previous: Number of contacts performed before this campaign and for this client (numeric)\n",
    "15. poutcome: Outcome of previous marketing campaign contacts (categorical)\n",
    "16. emp.var.rate: Employment Variation Rate - quarterly indicator (numeric)\n",
    "17. cons.price.idx: Consumer Price Index - monthly indicator (numeric)\n",
    "18. cons.conf.idx: Consumer Confidence Index - monthly indicator (numeric)\n",
    "19. euribor3m: Euribor 3 Month Rate - daily indicator (numeric)\n",
    "20. nr.employed: Number of Employees - quarterly indicator (numeric)\n",
    "\n",
    "### *Output Variable*:\n",
    "21. y - has the client subscribed a term deposit? (binary)\n",
    "\n",
    "There are two significant things to note from the description of the data.\n",
    "- The duration feature is highly affected by the output target (e.g., if duration=0 then y='no') therefore this feature should be discarded if the intention is to produce a realistic predictive model.\n",
    "- For the feature pdays, 999 means client was not previously contacted which depending on the model implemented may affect the implementation of this analysis’s preprocessing."
   ]
  },
  {
   "cell_type": "markdown",
   "id": "c994ce2e-d153-45ae-80e1-756617d8a1a5",
   "metadata": {},
   "source": [
    "# Data Import"
   ]
  },
  {
   "cell_type": "code",
   "execution_count": 2,
   "id": "fd3b7569-ec9d-4d3b-9c8d-9951e03f1be9",
   "metadata": {},
   "outputs": [
    {
     "data": {
      "text/html": [
       "<div>\n",
       "<style scoped>\n",
       "    .dataframe tbody tr th:only-of-type {\n",
       "        vertical-align: middle;\n",
       "    }\n",
       "\n",
       "    .dataframe tbody tr th {\n",
       "        vertical-align: top;\n",
       "    }\n",
       "\n",
       "    .dataframe thead th {\n",
       "        text-align: right;\n",
       "    }\n",
       "</style>\n",
       "<table border=\"1\" class=\"dataframe\">\n",
       "  <thead>\n",
       "    <tr style=\"text-align: right;\">\n",
       "      <th></th>\n",
       "      <th>age</th>\n",
       "      <th>job</th>\n",
       "      <th>marital</th>\n",
       "      <th>education</th>\n",
       "      <th>default</th>\n",
       "      <th>housing</th>\n",
       "      <th>loan</th>\n",
       "      <th>contact</th>\n",
       "      <th>month</th>\n",
       "      <th>day_of_week</th>\n",
       "      <th>duration</th>\n",
       "      <th>campaign</th>\n",
       "      <th>pdays</th>\n",
       "      <th>previous</th>\n",
       "      <th>poutcome</th>\n",
       "      <th>emp.var.rate</th>\n",
       "      <th>cons.price.idx</th>\n",
       "      <th>cons.conf.idx</th>\n",
       "      <th>euribor3m</th>\n",
       "      <th>nr.employed</th>\n",
       "      <th>y</th>\n",
       "    </tr>\n",
       "  </thead>\n",
       "  <tbody>\n",
       "    <tr>\n",
       "      <th>0</th>\n",
       "      <td>56</td>\n",
       "      <td>housemaid</td>\n",
       "      <td>married</td>\n",
       "      <td>basic.4y</td>\n",
       "      <td>no</td>\n",
       "      <td>no</td>\n",
       "      <td>no</td>\n",
       "      <td>telephone</td>\n",
       "      <td>may</td>\n",
       "      <td>mon</td>\n",
       "      <td>261</td>\n",
       "      <td>1</td>\n",
       "      <td>999</td>\n",
       "      <td>0</td>\n",
       "      <td>nonexistent</td>\n",
       "      <td>1.1</td>\n",
       "      <td>93.994</td>\n",
       "      <td>-36.4</td>\n",
       "      <td>4.857</td>\n",
       "      <td>5191.0</td>\n",
       "      <td>no</td>\n",
       "    </tr>\n",
       "    <tr>\n",
       "      <th>1</th>\n",
       "      <td>57</td>\n",
       "      <td>services</td>\n",
       "      <td>married</td>\n",
       "      <td>high.school</td>\n",
       "      <td>unknown</td>\n",
       "      <td>no</td>\n",
       "      <td>no</td>\n",
       "      <td>telephone</td>\n",
       "      <td>may</td>\n",
       "      <td>mon</td>\n",
       "      <td>149</td>\n",
       "      <td>1</td>\n",
       "      <td>999</td>\n",
       "      <td>0</td>\n",
       "      <td>nonexistent</td>\n",
       "      <td>1.1</td>\n",
       "      <td>93.994</td>\n",
       "      <td>-36.4</td>\n",
       "      <td>4.857</td>\n",
       "      <td>5191.0</td>\n",
       "      <td>no</td>\n",
       "    </tr>\n",
       "    <tr>\n",
       "      <th>2</th>\n",
       "      <td>37</td>\n",
       "      <td>services</td>\n",
       "      <td>married</td>\n",
       "      <td>high.school</td>\n",
       "      <td>no</td>\n",
       "      <td>yes</td>\n",
       "      <td>no</td>\n",
       "      <td>telephone</td>\n",
       "      <td>may</td>\n",
       "      <td>mon</td>\n",
       "      <td>226</td>\n",
       "      <td>1</td>\n",
       "      <td>999</td>\n",
       "      <td>0</td>\n",
       "      <td>nonexistent</td>\n",
       "      <td>1.1</td>\n",
       "      <td>93.994</td>\n",
       "      <td>-36.4</td>\n",
       "      <td>4.857</td>\n",
       "      <td>5191.0</td>\n",
       "      <td>no</td>\n",
       "    </tr>\n",
       "    <tr>\n",
       "      <th>3</th>\n",
       "      <td>40</td>\n",
       "      <td>admin.</td>\n",
       "      <td>married</td>\n",
       "      <td>basic.6y</td>\n",
       "      <td>no</td>\n",
       "      <td>no</td>\n",
       "      <td>no</td>\n",
       "      <td>telephone</td>\n",
       "      <td>may</td>\n",
       "      <td>mon</td>\n",
       "      <td>151</td>\n",
       "      <td>1</td>\n",
       "      <td>999</td>\n",
       "      <td>0</td>\n",
       "      <td>nonexistent</td>\n",
       "      <td>1.1</td>\n",
       "      <td>93.994</td>\n",
       "      <td>-36.4</td>\n",
       "      <td>4.857</td>\n",
       "      <td>5191.0</td>\n",
       "      <td>no</td>\n",
       "    </tr>\n",
       "    <tr>\n",
       "      <th>4</th>\n",
       "      <td>56</td>\n",
       "      <td>services</td>\n",
       "      <td>married</td>\n",
       "      <td>high.school</td>\n",
       "      <td>no</td>\n",
       "      <td>no</td>\n",
       "      <td>yes</td>\n",
       "      <td>telephone</td>\n",
       "      <td>may</td>\n",
       "      <td>mon</td>\n",
       "      <td>307</td>\n",
       "      <td>1</td>\n",
       "      <td>999</td>\n",
       "      <td>0</td>\n",
       "      <td>nonexistent</td>\n",
       "      <td>1.1</td>\n",
       "      <td>93.994</td>\n",
       "      <td>-36.4</td>\n",
       "      <td>4.857</td>\n",
       "      <td>5191.0</td>\n",
       "      <td>no</td>\n",
       "    </tr>\n",
       "  </tbody>\n",
       "</table>\n",
       "</div>"
      ],
      "text/plain": [
       "   age        job  marital    education  default housing loan    contact  \\\n",
       "0   56  housemaid  married     basic.4y       no      no   no  telephone   \n",
       "1   57   services  married  high.school  unknown      no   no  telephone   \n",
       "2   37   services  married  high.school       no     yes   no  telephone   \n",
       "3   40     admin.  married     basic.6y       no      no   no  telephone   \n",
       "4   56   services  married  high.school       no      no  yes  telephone   \n",
       "\n",
       "  month day_of_week  duration  campaign  pdays  previous     poutcome  \\\n",
       "0   may         mon       261         1    999         0  nonexistent   \n",
       "1   may         mon       149         1    999         0  nonexistent   \n",
       "2   may         mon       226         1    999         0  nonexistent   \n",
       "3   may         mon       151         1    999         0  nonexistent   \n",
       "4   may         mon       307         1    999         0  nonexistent   \n",
       "\n",
       "   emp.var.rate  cons.price.idx  cons.conf.idx  euribor3m  nr.employed   y  \n",
       "0           1.1          93.994          -36.4      4.857       5191.0  no  \n",
       "1           1.1          93.994          -36.4      4.857       5191.0  no  \n",
       "2           1.1          93.994          -36.4      4.857       5191.0  no  \n",
       "3           1.1          93.994          -36.4      4.857       5191.0  no  \n",
       "4           1.1          93.994          -36.4      4.857       5191.0  no  "
      ]
     },
     "execution_count": 2,
     "metadata": {},
     "output_type": "execute_result"
    }
   ],
   "source": [
    "bank = pd.read_csv(\"bank-additional-full.csv\", delimiter=\";\")\n",
    "bank.head()"
   ]
  },
  {
   "cell_type": "markdown",
   "id": "d2d4c9c3-de0e-4c7c-a561-208733a0fd54",
   "metadata": {},
   "source": [
    "# Exploratory Data Analysis\n",
    "\n",
    "### Univariate Analysis"
   ]
  },
  {
   "cell_type": "code",
   "execution_count": 3,
   "id": "15fde29f-dbbb-4732-a4f1-f86b1fba9070",
   "metadata": {},
   "outputs": [
    {
     "name": "stdout",
     "output_type": "stream",
     "text": [
      "The data has 21 features.\n",
      "The data has 41188 observations.\n"
     ]
    }
   ],
   "source": [
    "# dataset dimensions\n",
    "print(\"The data has\", bank.shape[1], \"features.\")\n",
    "print(\"The data has\", bank.shape[0], \"observations.\")"
   ]
  },
  {
   "cell_type": "code",
   "execution_count": 25,
   "id": "fc21ff97-6658-4f8c-b68d-988c641a186a",
   "metadata": {},
   "outputs": [
    {
     "data": {
      "text/plain": [
       "age                 int64\n",
       "job                object\n",
       "marital            object\n",
       "education          object\n",
       "default            object\n",
       "housing            object\n",
       "loan               object\n",
       "contact            object\n",
       "month              object\n",
       "day_of_week        object\n",
       "duration            int64\n",
       "campaign            int64\n",
       "pdays               int64\n",
       "previous            int64\n",
       "poutcome           object\n",
       "emp.var.rate      float64\n",
       "cons.price.idx    float64\n",
       "cons.conf.idx     float64\n",
       "euribor3m         float64\n",
       "nr.employed       float64\n",
       "y                  object\n",
       "dtype: object"
      ]
     },
     "execution_count": 25,
     "metadata": {},
     "output_type": "execute_result"
    }
   ],
   "source": [
    "# feature datatypes\n",
    "bank.dtypes"
   ]
  },
  {
   "cell_type": "code",
   "execution_count": 26,
   "id": "9f90eb27-a61b-416d-8cec-65bfcac64a3a",
   "metadata": {},
   "outputs": [
    {
     "data": {
      "text/plain": [
       "age                 78\n",
       "job                 12\n",
       "marital              4\n",
       "education            8\n",
       "default              3\n",
       "housing              3\n",
       "loan                 3\n",
       "contact              2\n",
       "month               10\n",
       "day_of_week          5\n",
       "duration          1544\n",
       "campaign            42\n",
       "pdays               27\n",
       "previous             8\n",
       "poutcome             3\n",
       "emp.var.rate        10\n",
       "cons.price.idx      26\n",
       "cons.conf.idx       26\n",
       "euribor3m          316\n",
       "nr.employed         11\n",
       "y                    2\n",
       "dtype: int64"
      ]
     },
     "execution_count": 26,
     "metadata": {},
     "output_type": "execute_result"
    }
   ],
   "source": [
    "# counts of unique labels\n",
    "bank.nunique()"
   ]
  },
  {
   "cell_type": "code",
   "execution_count": 27,
   "id": "04cee45d-468d-41b1-85d9-cb3ed7928d82",
   "metadata": {},
   "outputs": [
    {
     "data": {
      "text/plain": [
       "age               0\n",
       "job               0\n",
       "marital           0\n",
       "education         0\n",
       "default           0\n",
       "housing           0\n",
       "loan              0\n",
       "contact           0\n",
       "month             0\n",
       "day_of_week       0\n",
       "duration          0\n",
       "campaign          0\n",
       "pdays             0\n",
       "previous          0\n",
       "poutcome          0\n",
       "emp.var.rate      0\n",
       "cons.price.idx    0\n",
       "cons.conf.idx     0\n",
       "euribor3m         0\n",
       "nr.employed       0\n",
       "y                 0\n",
       "dtype: int64"
      ]
     },
     "execution_count": 27,
     "metadata": {},
     "output_type": "execute_result"
    }
   ],
   "source": [
    "# missing data\n",
    "bank.isnull().sum()"
   ]
  },
  {
   "cell_type": "markdown",
   "id": "01333159-dba7-464b-85d2-cc7944f47954",
   "metadata": {
    "tags": []
   },
   "source": [
    "After partitioning by each feature, explicit missing data is not present thus imputation will not be required."
   ]
  },
  {
   "cell_type": "code",
   "execution_count": 28,
   "id": "0cd2385c",
   "metadata": {},
   "outputs": [
    {
     "data": {
      "text/html": [
       "<div>\n",
       "<style scoped>\n",
       "    .dataframe tbody tr th:only-of-type {\n",
       "        vertical-align: middle;\n",
       "    }\n",
       "\n",
       "    .dataframe tbody tr th {\n",
       "        vertical-align: top;\n",
       "    }\n",
       "\n",
       "    .dataframe thead th {\n",
       "        text-align: right;\n",
       "    }\n",
       "</style>\n",
       "<table border=\"1\" class=\"dataframe\">\n",
       "  <thead>\n",
       "    <tr style=\"text-align: right;\">\n",
       "      <th></th>\n",
       "      <th>age</th>\n",
       "      <th>duration</th>\n",
       "      <th>campaign</th>\n",
       "      <th>pdays</th>\n",
       "      <th>previous</th>\n",
       "      <th>emp.var.rate</th>\n",
       "      <th>cons.price.idx</th>\n",
       "      <th>cons.conf.idx</th>\n",
       "      <th>euribor3m</th>\n",
       "      <th>nr.employed</th>\n",
       "    </tr>\n",
       "  </thead>\n",
       "  <tbody>\n",
       "    <tr>\n",
       "      <th>count</th>\n",
       "      <td>41188.00000</td>\n",
       "      <td>41188.000000</td>\n",
       "      <td>41188.000000</td>\n",
       "      <td>41188.000000</td>\n",
       "      <td>41188.000000</td>\n",
       "      <td>41188.000000</td>\n",
       "      <td>41188.000000</td>\n",
       "      <td>41188.000000</td>\n",
       "      <td>41188.000000</td>\n",
       "      <td>41188.000000</td>\n",
       "    </tr>\n",
       "    <tr>\n",
       "      <th>mean</th>\n",
       "      <td>40.02406</td>\n",
       "      <td>258.285010</td>\n",
       "      <td>2.567593</td>\n",
       "      <td>962.475454</td>\n",
       "      <td>0.172963</td>\n",
       "      <td>0.081886</td>\n",
       "      <td>93.575664</td>\n",
       "      <td>-40.502600</td>\n",
       "      <td>3.621291</td>\n",
       "      <td>5167.035911</td>\n",
       "    </tr>\n",
       "    <tr>\n",
       "      <th>std</th>\n",
       "      <td>10.42125</td>\n",
       "      <td>259.279249</td>\n",
       "      <td>2.770014</td>\n",
       "      <td>186.910907</td>\n",
       "      <td>0.494901</td>\n",
       "      <td>1.570960</td>\n",
       "      <td>0.578840</td>\n",
       "      <td>4.628198</td>\n",
       "      <td>1.734447</td>\n",
       "      <td>72.251528</td>\n",
       "    </tr>\n",
       "    <tr>\n",
       "      <th>min</th>\n",
       "      <td>17.00000</td>\n",
       "      <td>0.000000</td>\n",
       "      <td>1.000000</td>\n",
       "      <td>0.000000</td>\n",
       "      <td>0.000000</td>\n",
       "      <td>-3.400000</td>\n",
       "      <td>92.201000</td>\n",
       "      <td>-50.800000</td>\n",
       "      <td>0.634000</td>\n",
       "      <td>4963.600000</td>\n",
       "    </tr>\n",
       "    <tr>\n",
       "      <th>25%</th>\n",
       "      <td>32.00000</td>\n",
       "      <td>102.000000</td>\n",
       "      <td>1.000000</td>\n",
       "      <td>999.000000</td>\n",
       "      <td>0.000000</td>\n",
       "      <td>-1.800000</td>\n",
       "      <td>93.075000</td>\n",
       "      <td>-42.700000</td>\n",
       "      <td>1.344000</td>\n",
       "      <td>5099.100000</td>\n",
       "    </tr>\n",
       "    <tr>\n",
       "      <th>50%</th>\n",
       "      <td>38.00000</td>\n",
       "      <td>180.000000</td>\n",
       "      <td>2.000000</td>\n",
       "      <td>999.000000</td>\n",
       "      <td>0.000000</td>\n",
       "      <td>1.100000</td>\n",
       "      <td>93.749000</td>\n",
       "      <td>-41.800000</td>\n",
       "      <td>4.857000</td>\n",
       "      <td>5191.000000</td>\n",
       "    </tr>\n",
       "    <tr>\n",
       "      <th>75%</th>\n",
       "      <td>47.00000</td>\n",
       "      <td>319.000000</td>\n",
       "      <td>3.000000</td>\n",
       "      <td>999.000000</td>\n",
       "      <td>0.000000</td>\n",
       "      <td>1.400000</td>\n",
       "      <td>93.994000</td>\n",
       "      <td>-36.400000</td>\n",
       "      <td>4.961000</td>\n",
       "      <td>5228.100000</td>\n",
       "    </tr>\n",
       "    <tr>\n",
       "      <th>max</th>\n",
       "      <td>98.00000</td>\n",
       "      <td>4918.000000</td>\n",
       "      <td>56.000000</td>\n",
       "      <td>999.000000</td>\n",
       "      <td>7.000000</td>\n",
       "      <td>1.400000</td>\n",
       "      <td>94.767000</td>\n",
       "      <td>-26.900000</td>\n",
       "      <td>5.045000</td>\n",
       "      <td>5228.100000</td>\n",
       "    </tr>\n",
       "  </tbody>\n",
       "</table>\n",
       "</div>"
      ],
      "text/plain": [
       "               age      duration      campaign         pdays      previous  \\\n",
       "count  41188.00000  41188.000000  41188.000000  41188.000000  41188.000000   \n",
       "mean      40.02406    258.285010      2.567593    962.475454      0.172963   \n",
       "std       10.42125    259.279249      2.770014    186.910907      0.494901   \n",
       "min       17.00000      0.000000      1.000000      0.000000      0.000000   \n",
       "25%       32.00000    102.000000      1.000000    999.000000      0.000000   \n",
       "50%       38.00000    180.000000      2.000000    999.000000      0.000000   \n",
       "75%       47.00000    319.000000      3.000000    999.000000      0.000000   \n",
       "max       98.00000   4918.000000     56.000000    999.000000      7.000000   \n",
       "\n",
       "       emp.var.rate  cons.price.idx  cons.conf.idx     euribor3m   nr.employed  \n",
       "count  41188.000000    41188.000000   41188.000000  41188.000000  41188.000000  \n",
       "mean       0.081886       93.575664     -40.502600      3.621291   5167.035911  \n",
       "std        1.570960        0.578840       4.628198      1.734447     72.251528  \n",
       "min       -3.400000       92.201000     -50.800000      0.634000   4963.600000  \n",
       "25%       -1.800000       93.075000     -42.700000      1.344000   5099.100000  \n",
       "50%        1.100000       93.749000     -41.800000      4.857000   5191.000000  \n",
       "75%        1.400000       93.994000     -36.400000      4.961000   5228.100000  \n",
       "max        1.400000       94.767000     -26.900000      5.045000   5228.100000  "
      ]
     },
     "execution_count": 28,
     "metadata": {},
     "output_type": "execute_result"
    }
   ],
   "source": [
    "# descriptive stats:\n",
    "bank.describe()"
   ]
  },
  {
   "cell_type": "code",
   "execution_count": 29,
   "id": "d19694a9",
   "metadata": {},
   "outputs": [
    {
     "data": {
      "image/png": "[encoded data removed]",
      "text/plain": [
       "<Figure size 1440x1080 with 12 Axes>"
      ]
     },
     "metadata": {
      "needs_background": "light"
     },
     "output_type": "display_data"
    }
   ],
   "source": [
    "# distribution of numerical features\n",
    "bank.hist(figsize=(20,15),bins=5)\n",
    "plt.show()"
   ]
  },
  {
   "cell_type": "markdown",
   "id": "edecebcd",
   "metadata": {},
   "source": [
    "\"Age\" seems most normally distributed but still appears to be right skewed. \"Duration\", \"Campaign\", and \"previous\" variables seem very rightly skewed. \"pdays\", \"emp.var.rate\", and \"nr.employed\" are heavily left skewed. Several variables don't have a normal distribution."
   ]
  },
  {
   "cell_type": "code",
   "execution_count": 30,
   "id": "d93fc9b1",
   "metadata": {},
   "outputs": [
    {
     "data": {
      "text/plain": [
       "age               0.784697\n",
       "duration          3.263141\n",
       "campaign          4.762507\n",
       "pdays            -4.922190\n",
       "previous          3.832042\n",
       "emp.var.rate     -0.724096\n",
       "cons.price.idx   -0.230888\n",
       "cons.conf.idx     0.303180\n",
       "euribor3m        -0.709188\n",
       "nr.employed      -1.044262\n",
       "dtype: float64"
      ]
     },
     "execution_count": 30,
     "metadata": {},
     "output_type": "execute_result"
    }
   ],
   "source": [
    "# calculating the skewness of numeric features\n",
    "bank.skew()"
   ]
  },
  {
   "cell_type": "markdown",
   "id": "18857fb9",
   "metadata": {},
   "source": [
    "\"Duration\", \"campaign\", \"pdays\" and \"previous\" have the most skewness"
   ]
  },
  {
   "cell_type": "code",
   "execution_count": 31,
   "id": "271e5f60",
   "metadata": {},
   "outputs": [
    {
     "data": {
      "image/png": "[encoded data removed]",
      "text/plain": [
       "<Figure size 1440x720 with 1 Axes>"
      ]
     },
     "metadata": {
      "needs_background": "light"
     },
     "output_type": "display_data"
    }
   ],
   "source": [
    "# outlier analysis\n",
    "plt.figure(figsize=(20,10))\n",
    "sns.boxplot(data = bank);\n",
    "plt.title('Boxplots of Numeric Columns')\n",
    "plt.show()"
   ]
  },
  {
   "cell_type": "markdown",
   "id": "732e69cb",
   "metadata": {},
   "source": [
    "Boxplots show outliers in \"duration\", \"campaign\", \"pdays\", \"previous\" and \"con.price.idx\""
   ]
  },
  {
   "cell_type": "code",
   "execution_count": 32,
   "id": "edb83b74-630b-4a27-a4ef-143788bcecfe",
   "metadata": {},
   "outputs": [
    {
     "data": {
      "text/plain": [
       "Text(0.5, 1.0, 'Distribution of Term Deposits')"
      ]
     },
     "execution_count": 32,
     "metadata": {},
     "output_type": "execute_result"
    },
    {
     "data": {
      "image/png": "[encoded data removed]",
      "text/plain": [
       "<Figure size 432x288 with 1 Axes>"
      ]
     },
     "metadata": {
      "needs_background": "light"
     },
     "output_type": "display_data"
    }
   ],
   "source": [
    "# distribution of target labels\n",
    "sns.countplot(bank['y'])\n",
    "plt.xlabel(\"Term Deposit\")\n",
    "plt.title(\"Distribution of Term Deposits\")"
   ]
  },
  {
   "cell_type": "code",
   "execution_count": 33,
   "id": "877ca05e-a235-4c84-ae22-c12651684c3b",
   "metadata": {},
   "outputs": [
    {
     "name": "stdout",
     "output_type": "stream",
     "text": [
      "4640 (11.27%) of observations responded yes to a term deposit\n",
      "36548 (88.73%) of observations responded no to a term deposit\n"
     ]
    }
   ],
   "source": [
    "y_count = bank.groupby(['y'])['y'].count()\n",
    "yes_per = round(y_count.yes/bank.shape[0]*100,2)\n",
    "no_per = round(y_count.no/bank.shape[0]*100,2)\n",
    "\n",
    "print(y_count.yes, \"(\" + str(yes_per) + \"%)\", \"of observations responded yes to a term deposit\")\n",
    "print(y_count.no, \"(\" + str(no_per) + \"%)\", \"of observations responded no to a term deposit\")\n"
   ]
  },
  {
   "cell_type": "markdown",
   "id": "cd26b6fe",
   "metadata": {},
   "source": [
    "Based on the distribution target labels, the directing marketing calls observe a default success rate"
   ]
  },
  {
   "cell_type": "markdown",
   "id": "f398dc11-5ba2-42c3-add6-c648adfa79e0",
   "metadata": {},
   "source": [
    "### Bivariate Analysis & Feature Selection\n",
    "For the purpose of exploring the bivariate relationships between predictive features, categorical variables will be one-hot encoded. Findings will not be directly implemented on the working dataframe since this analysis will opt to implement these findings in pipeline.\n",
    "\n",
    "In this application, the target variable has been re-encoded as y_yes"
   ]
  },
  {
   "cell_type": "code",
   "execution_count": 16,
   "id": "3e7c56e1-5263-4633-a2ba-3042fa2fa6ec",
   "metadata": {},
   "outputs": [
    {
     "data": {
      "text/html": [
       "<div>\n",
       "<style scoped>\n",
       "    .dataframe tbody tr th:only-of-type {\n",
       "        vertical-align: middle;\n",
       "    }\n",
       "\n",
       "    .dataframe tbody tr th {\n",
       "        vertical-align: top;\n",
       "    }\n",
       "\n",
       "    .dataframe thead th {\n",
       "        text-align: right;\n",
       "    }\n",
       "</style>\n",
       "<table border=\"1\" class=\"dataframe\">\n",
       "  <thead>\n",
       "    <tr style=\"text-align: right;\">\n",
       "      <th></th>\n",
       "      <th>job_blue-collar</th>\n",
       "      <th>job_entrepreneur</th>\n",
       "      <th>job_housemaid</th>\n",
       "      <th>job_management</th>\n",
       "      <th>job_retired</th>\n",
       "      <th>job_self-employed</th>\n",
       "      <th>job_services</th>\n",
       "      <th>job_student</th>\n",
       "      <th>job_technician</th>\n",
       "      <th>job_unemployed</th>\n",
       "      <th>job_unknown</th>\n",
       "      <th>marital_married</th>\n",
       "      <th>marital_single</th>\n",
       "      <th>marital_unknown</th>\n",
       "      <th>education_basic.6y</th>\n",
       "      <th>education_basic.9y</th>\n",
       "      <th>education_high.school</th>\n",
       "      <th>education_illiterate</th>\n",
       "      <th>education_professional.course</th>\n",
       "      <th>education_university.degree</th>\n",
       "      <th>education_unknown</th>\n",
       "      <th>default_unknown</th>\n",
       "      <th>default_yes</th>\n",
       "      <th>housing_unknown</th>\n",
       "      <th>housing_yes</th>\n",
       "      <th>loan_unknown</th>\n",
       "      <th>loan_yes</th>\n",
       "      <th>contact_telephone</th>\n",
       "      <th>month_aug</th>\n",
       "      <th>month_dec</th>\n",
       "      <th>month_jul</th>\n",
       "      <th>month_jun</th>\n",
       "      <th>month_mar</th>\n",
       "      <th>month_may</th>\n",
       "      <th>month_nov</th>\n",
       "      <th>month_oct</th>\n",
       "      <th>month_sep</th>\n",
       "      <th>day_of_week_mon</th>\n",
       "      <th>day_of_week_thu</th>\n",
       "      <th>day_of_week_tue</th>\n",
       "      <th>day_of_week_wed</th>\n",
       "      <th>poutcome_nonexistent</th>\n",
       "      <th>poutcome_success</th>\n",
       "      <th>y_yes</th>\n",
       "      <th>age</th>\n",
       "      <th>duration</th>\n",
       "      <th>campaign</th>\n",
       "      <th>pdays</th>\n",
       "      <th>previous</th>\n",
       "      <th>emp.var.rate</th>\n",
       "      <th>cons.price.idx</th>\n",
       "      <th>cons.conf.idx</th>\n",
       "      <th>euribor3m</th>\n",
       "      <th>nr.employed</th>\n",
       "    </tr>\n",
       "  </thead>\n",
       "  <tbody>\n",
       "    <tr>\n",
       "      <th>0</th>\n",
       "      <td>0.0</td>\n",
       "      <td>0.0</td>\n",
       "      <td>1.0</td>\n",
       "      <td>0.0</td>\n",
       "      <td>0.0</td>\n",
       "      <td>0.0</td>\n",
       "      <td>0.0</td>\n",
       "      <td>0.0</td>\n",
       "      <td>0.0</td>\n",
       "      <td>0.0</td>\n",
       "      <td>0.0</td>\n",
       "      <td>1.0</td>\n",
       "      <td>0.0</td>\n",
       "      <td>0.0</td>\n",
       "      <td>0.0</td>\n",
       "      <td>0.0</td>\n",
       "      <td>0.0</td>\n",
       "      <td>0.0</td>\n",
       "      <td>0.0</td>\n",
       "      <td>0.0</td>\n",
       "      <td>0.0</td>\n",
       "      <td>0.0</td>\n",
       "      <td>0.0</td>\n",
       "      <td>0.0</td>\n",
       "      <td>0.0</td>\n",
       "      <td>0.0</td>\n",
       "      <td>0.0</td>\n",
       "      <td>1.0</td>\n",
       "      <td>0.0</td>\n",
       "      <td>0.0</td>\n",
       "      <td>0.0</td>\n",
       "      <td>0.0</td>\n",
       "      <td>0.0</td>\n",
       "      <td>1.0</td>\n",
       "      <td>0.0</td>\n",
       "      <td>0.0</td>\n",
       "      <td>0.0</td>\n",
       "      <td>1.0</td>\n",
       "      <td>0.0</td>\n",
       "      <td>0.0</td>\n",
       "      <td>0.0</td>\n",
       "      <td>1.0</td>\n",
       "      <td>0.0</td>\n",
       "      <td>0.0</td>\n",
       "      <td>56</td>\n",
       "      <td>261</td>\n",
       "      <td>1</td>\n",
       "      <td>999</td>\n",
       "      <td>0</td>\n",
       "      <td>1.1</td>\n",
       "      <td>93.994</td>\n",
       "      <td>-36.4</td>\n",
       "      <td>4.857</td>\n",
       "      <td>5191.0</td>\n",
       "    </tr>\n",
       "    <tr>\n",
       "      <th>1</th>\n",
       "      <td>0.0</td>\n",
       "      <td>0.0</td>\n",
       "      <td>0.0</td>\n",
       "      <td>0.0</td>\n",
       "      <td>0.0</td>\n",
       "      <td>0.0</td>\n",
       "      <td>1.0</td>\n",
       "      <td>0.0</td>\n",
       "      <td>0.0</td>\n",
       "      <td>0.0</td>\n",
       "      <td>0.0</td>\n",
       "      <td>1.0</td>\n",
       "      <td>0.0</td>\n",
       "      <td>0.0</td>\n",
       "      <td>0.0</td>\n",
       "      <td>0.0</td>\n",
       "      <td>1.0</td>\n",
       "      <td>0.0</td>\n",
       "      <td>0.0</td>\n",
       "      <td>0.0</td>\n",
       "      <td>0.0</td>\n",
       "      <td>1.0</td>\n",
       "      <td>0.0</td>\n",
       "      <td>0.0</td>\n",
       "      <td>0.0</td>\n",
       "      <td>0.0</td>\n",
       "      <td>0.0</td>\n",
       "      <td>1.0</td>\n",
       "      <td>0.0</td>\n",
       "      <td>0.0</td>\n",
       "      <td>0.0</td>\n",
       "      <td>0.0</td>\n",
       "      <td>0.0</td>\n",
       "      <td>1.0</td>\n",
       "      <td>0.0</td>\n",
       "      <td>0.0</td>\n",
       "      <td>0.0</td>\n",
       "      <td>1.0</td>\n",
       "      <td>0.0</td>\n",
       "      <td>0.0</td>\n",
       "      <td>0.0</td>\n",
       "      <td>1.0</td>\n",
       "      <td>0.0</td>\n",
       "      <td>0.0</td>\n",
       "      <td>57</td>\n",
       "      <td>149</td>\n",
       "      <td>1</td>\n",
       "      <td>999</td>\n",
       "      <td>0</td>\n",
       "      <td>1.1</td>\n",
       "      <td>93.994</td>\n",
       "      <td>-36.4</td>\n",
       "      <td>4.857</td>\n",
       "      <td>5191.0</td>\n",
       "    </tr>\n",
       "    <tr>\n",
       "      <th>2</th>\n",
       "      <td>0.0</td>\n",
       "      <td>0.0</td>\n",
       "      <td>0.0</td>\n",
       "      <td>0.0</td>\n",
       "      <td>0.0</td>\n",
       "      <td>0.0</td>\n",
       "      <td>1.0</td>\n",
       "      <td>0.0</td>\n",
       "      <td>0.0</td>\n",
       "      <td>0.0</td>\n",
       "      <td>0.0</td>\n",
       "      <td>1.0</td>\n",
       "      <td>0.0</td>\n",
       "      <td>0.0</td>\n",
       "      <td>0.0</td>\n",
       "      <td>0.0</td>\n",
       "      <td>1.0</td>\n",
       "      <td>0.0</td>\n",
       "      <td>0.0</td>\n",
       "      <td>0.0</td>\n",
       "      <td>0.0</td>\n",
       "      <td>0.0</td>\n",
       "      <td>0.0</td>\n",
       "      <td>0.0</td>\n",
       "      <td>1.0</td>\n",
       "      <td>0.0</td>\n",
       "      <td>0.0</td>\n",
       "      <td>1.0</td>\n",
       "      <td>0.0</td>\n",
       "      <td>0.0</td>\n",
       "      <td>0.0</td>\n",
       "      <td>0.0</td>\n",
       "      <td>0.0</td>\n",
       "      <td>1.0</td>\n",
       "      <td>0.0</td>\n",
       "      <td>0.0</td>\n",
       "      <td>0.0</td>\n",
       "      <td>1.0</td>\n",
       "      <td>0.0</td>\n",
       "      <td>0.0</td>\n",
       "      <td>0.0</td>\n",
       "      <td>1.0</td>\n",
       "      <td>0.0</td>\n",
       "      <td>0.0</td>\n",
       "      <td>37</td>\n",
       "      <td>226</td>\n",
       "      <td>1</td>\n",
       "      <td>999</td>\n",
       "      <td>0</td>\n",
       "      <td>1.1</td>\n",
       "      <td>93.994</td>\n",
       "      <td>-36.4</td>\n",
       "      <td>4.857</td>\n",
       "      <td>5191.0</td>\n",
       "    </tr>\n",
       "    <tr>\n",
       "      <th>3</th>\n",
       "      <td>0.0</td>\n",
       "      <td>0.0</td>\n",
       "      <td>0.0</td>\n",
       "      <td>0.0</td>\n",
       "      <td>0.0</td>\n",
       "      <td>0.0</td>\n",
       "      <td>0.0</td>\n",
       "      <td>0.0</td>\n",
       "      <td>0.0</td>\n",
       "      <td>0.0</td>\n",
       "      <td>0.0</td>\n",
       "      <td>1.0</td>\n",
       "      <td>0.0</td>\n",
       "      <td>0.0</td>\n",
       "      <td>1.0</td>\n",
       "      <td>0.0</td>\n",
       "      <td>0.0</td>\n",
       "      <td>0.0</td>\n",
       "      <td>0.0</td>\n",
       "      <td>0.0</td>\n",
       "      <td>0.0</td>\n",
       "      <td>0.0</td>\n",
       "      <td>0.0</td>\n",
       "      <td>0.0</td>\n",
       "      <td>0.0</td>\n",
       "      <td>0.0</td>\n",
       "      <td>0.0</td>\n",
       "      <td>1.0</td>\n",
       "      <td>0.0</td>\n",
       "      <td>0.0</td>\n",
       "      <td>0.0</td>\n",
       "      <td>0.0</td>\n",
       "      <td>0.0</td>\n",
       "      <td>1.0</td>\n",
       "      <td>0.0</td>\n",
       "      <td>0.0</td>\n",
       "      <td>0.0</td>\n",
       "      <td>1.0</td>\n",
       "      <td>0.0</td>\n",
       "      <td>0.0</td>\n",
       "      <td>0.0</td>\n",
       "      <td>1.0</td>\n",
       "      <td>0.0</td>\n",
       "      <td>0.0</td>\n",
       "      <td>40</td>\n",
       "      <td>151</td>\n",
       "      <td>1</td>\n",
       "      <td>999</td>\n",
       "      <td>0</td>\n",
       "      <td>1.1</td>\n",
       "      <td>93.994</td>\n",
       "      <td>-36.4</td>\n",
       "      <td>4.857</td>\n",
       "      <td>5191.0</td>\n",
       "    </tr>\n",
       "    <tr>\n",
       "      <th>4</th>\n",
       "      <td>0.0</td>\n",
       "      <td>0.0</td>\n",
       "      <td>0.0</td>\n",
       "      <td>0.0</td>\n",
       "      <td>0.0</td>\n",
       "      <td>0.0</td>\n",
       "      <td>1.0</td>\n",
       "      <td>0.0</td>\n",
       "      <td>0.0</td>\n",
       "      <td>0.0</td>\n",
       "      <td>0.0</td>\n",
       "      <td>1.0</td>\n",
       "      <td>0.0</td>\n",
       "      <td>0.0</td>\n",
       "      <td>0.0</td>\n",
       "      <td>0.0</td>\n",
       "      <td>1.0</td>\n",
       "      <td>0.0</td>\n",
       "      <td>0.0</td>\n",
       "      <td>0.0</td>\n",
       "      <td>0.0</td>\n",
       "      <td>0.0</td>\n",
       "      <td>0.0</td>\n",
       "      <td>0.0</td>\n",
       "      <td>0.0</td>\n",
       "      <td>0.0</td>\n",
       "      <td>1.0</td>\n",
       "      <td>1.0</td>\n",
       "      <td>0.0</td>\n",
       "      <td>0.0</td>\n",
       "      <td>0.0</td>\n",
       "      <td>0.0</td>\n",
       "      <td>0.0</td>\n",
       "      <td>1.0</td>\n",
       "      <td>0.0</td>\n",
       "      <td>0.0</td>\n",
       "      <td>0.0</td>\n",
       "      <td>1.0</td>\n",
       "      <td>0.0</td>\n",
       "      <td>0.0</td>\n",
       "      <td>0.0</td>\n",
       "      <td>1.0</td>\n",
       "      <td>0.0</td>\n",
       "      <td>0.0</td>\n",
       "      <td>56</td>\n",
       "      <td>307</td>\n",
       "      <td>1</td>\n",
       "      <td>999</td>\n",
       "      <td>0</td>\n",
       "      <td>1.1</td>\n",
       "      <td>93.994</td>\n",
       "      <td>-36.4</td>\n",
       "      <td>4.857</td>\n",
       "      <td>5191.0</td>\n",
       "    </tr>\n",
       "  </tbody>\n",
       "</table>\n",
       "</div>"
      ],
      "text/plain": [
       "   job_blue-collar  job_entrepreneur  job_housemaid  job_management  \\\n",
       "0              0.0               0.0            1.0             0.0   \n",
       "1              0.0               0.0            0.0             0.0   \n",
       "2              0.0               0.0            0.0             0.0   \n",
       "3              0.0               0.0            0.0             0.0   \n",
       "4              0.0               0.0            0.0             0.0   \n",
       "\n",
       "   job_retired  job_self-employed  job_services  job_student  job_technician  \\\n",
       "0          0.0                0.0           0.0          0.0             0.0   \n",
       "1          0.0                0.0           1.0          0.0             0.0   \n",
       "2          0.0                0.0           1.0          0.0             0.0   \n",
       "3          0.0                0.0           0.0          0.0             0.0   \n",
       "4          0.0                0.0           1.0          0.0             0.0   \n",
       "\n",
       "   job_unemployed  job_unknown  marital_married  marital_single  \\\n",
       "0             0.0          0.0              1.0             0.0   \n",
       "1             0.0          0.0              1.0             0.0   \n",
       "2             0.0          0.0              1.0             0.0   \n",
       "3             0.0          0.0              1.0             0.0   \n",
       "4             0.0          0.0              1.0             0.0   \n",
       "\n",
       "   marital_unknown  education_basic.6y  education_basic.9y  \\\n",
       "0              0.0                 0.0                 0.0   \n",
       "1              0.0                 0.0                 0.0   \n",
       "2              0.0                 0.0                 0.0   \n",
       "3              0.0                 1.0                 0.0   \n",
       "4              0.0                 0.0                 0.0   \n",
       "\n",
       "   education_high.school  education_illiterate  education_professional.course  \\\n",
       "0                    0.0                   0.0                            0.0   \n",
       "1                    1.0                   0.0                            0.0   \n",
       "2                    1.0                   0.0                            0.0   \n",
       "3                    0.0                   0.0                            0.0   \n",
       "4                    1.0                   0.0                            0.0   \n",
       "\n",
       "   education_university.degree  education_unknown  default_unknown  \\\n",
       "0                          0.0                0.0              0.0   \n",
       "1                          0.0                0.0              1.0   \n",
       "2                          0.0                0.0              0.0   \n",
       "3                          0.0                0.0              0.0   \n",
       "4                          0.0                0.0              0.0   \n",
       "\n",
       "   default_yes  housing_unknown  housing_yes  loan_unknown  loan_yes  \\\n",
       "0          0.0              0.0          0.0           0.0       0.0   \n",
       "1          0.0              0.0          0.0           0.0       0.0   \n",
       "2          0.0              0.0          1.0           0.0       0.0   \n",
       "3          0.0              0.0          0.0           0.0       0.0   \n",
       "4          0.0              0.0          0.0           0.0       1.0   \n",
       "\n",
       "   contact_telephone  month_aug  month_dec  month_jul  month_jun  month_mar  \\\n",
       "0                1.0        0.0        0.0        0.0        0.0        0.0   \n",
       "1                1.0        0.0        0.0        0.0        0.0        0.0   \n",
       "2                1.0        0.0        0.0        0.0        0.0        0.0   \n",
       "3                1.0        0.0        0.0        0.0        0.0        0.0   \n",
       "4                1.0        0.0        0.0        0.0        0.0        0.0   \n",
       "\n",
       "   month_may  month_nov  month_oct  month_sep  day_of_week_mon  \\\n",
       "0        1.0        0.0        0.0        0.0              1.0   \n",
       "1        1.0        0.0        0.0        0.0              1.0   \n",
       "2        1.0        0.0        0.0        0.0              1.0   \n",
       "3        1.0        0.0        0.0        0.0              1.0   \n",
       "4        1.0        0.0        0.0        0.0              1.0   \n",
       "\n",
       "   day_of_week_thu  day_of_week_tue  day_of_week_wed  poutcome_nonexistent  \\\n",
       "0              0.0              0.0              0.0                   1.0   \n",
       "1              0.0              0.0              0.0                   1.0   \n",
       "2              0.0              0.0              0.0                   1.0   \n",
       "3              0.0              0.0              0.0                   1.0   \n",
       "4              0.0              0.0              0.0                   1.0   \n",
       "\n",
       "   poutcome_success  y_yes  age  duration  campaign  pdays  previous  \\\n",
       "0               0.0    0.0   56       261         1    999         0   \n",
       "1               0.0    0.0   57       149         1    999         0   \n",
       "2               0.0    0.0   37       226         1    999         0   \n",
       "3               0.0    0.0   40       151         1    999         0   \n",
       "4               0.0    0.0   56       307         1    999         0   \n",
       "\n",
       "   emp.var.rate  cons.price.idx  cons.conf.idx  euribor3m  nr.employed  \n",
       "0           1.1          93.994          -36.4      4.857       5191.0  \n",
       "1           1.1          93.994          -36.4      4.857       5191.0  \n",
       "2           1.1          93.994          -36.4      4.857       5191.0  \n",
       "3           1.1          93.994          -36.4      4.857       5191.0  \n",
       "4           1.1          93.994          -36.4      4.857       5191.0  "
      ]
     },
     "execution_count": 16,
     "metadata": {},
     "output_type": "execute_result"
    }
   ],
   "source": [
    "bank_cat = bank.select_dtypes('object')\n",
    "bank_num = bank.select_dtypes(['float64', 'int64'])\n",
    "OH_encoder = OneHotEncoder(drop = 'first', sparse=False)\n",
    "bank_coded = OH_encoder.fit_transform(bank_cat)\n",
    "bank_coded = pd.DataFrame(bank_coded, columns = OH_encoder.get_feature_names_out())\n",
    "bank_coded = pd.concat([bank_coded, bank_num], axis = 1)\n",
    "bank_coded.head()"
   ]
  },
  {
   "cell_type": "code",
   "execution_count": 17,
   "id": "1059dafc-ae34-49e9-969a-6143e156742c",
   "metadata": {},
   "outputs": [
    {
     "name": "stdout",
     "output_type": "stream",
     "text": [
      "There are 11 variables that were one-hot encoded\n",
      "After encoding, our data had 54 variables. 33 more variables than before\n"
     ]
    }
   ],
   "source": [
    "print(\"There are\", bank_cat.shape[1], \"variables that were one-hot encoded\")\n",
    "print(\"After encoding, our data had\", bank_coded.shape[1], \"variables.\", bank_coded.shape[1]-bank.shape[1], \"more variables than before\")"
   ]
  },
  {
   "cell_type": "markdown",
   "id": "f05cb806-3262-436e-9f68-a13d3f88d4bf",
   "metadata": {},
   "source": [
    "### Near Zero Variance Analysis"
   ]
  },
  {
   "cell_type": "code",
   "execution_count": 18,
   "id": "cd2fbb0f-93c7-439d-854b-b399e7be85c1",
   "metadata": {},
   "outputs": [
    {
     "name": "stdout",
     "output_type": "stream",
     "text": [
      "job_entrepreneur\n",
      "job_housemaid\n",
      "job_management\n",
      "job_retired\n",
      "job_self-employed\n",
      "job_services\n",
      "job_student\n",
      "job_unemployed\n",
      "job_unknown\n",
      "marital_unknown\n",
      "education_basic.6y\n",
      "education_illiterate\n",
      "education_unknown\n",
      "default_yes\n",
      "housing_unknown\n",
      "loan_unknown\n",
      "month_dec\n",
      "month_mar\n",
      "month_nov\n",
      "month_oct\n",
      "month_sep\n",
      "poutcome_success\n"
     ]
    }
   ],
   "source": [
    "X = bank_coded.drop(columns = ['y_yes'])\n",
    "y = bank_coded['y_yes']\n",
    "low_var = VarianceThreshold(threshold=0.1)\n",
    "low_var.fit(X)\n",
    "dropcols = [column for column in X.columns\n",
    "           if column not in\n",
    "X.columns[low_var.get_support()]]\n",
    "for features in dropcols:\n",
    "    print(features)\n",
    "    \n",
    "X_highvar = X.drop(dropcols, axis = 1)"
   ]
  },
  {
   "cell_type": "code",
   "execution_count": 11,
   "id": "10b03cb5-e027-4039-9a7a-70fcf92cede9",
   "metadata": {},
   "outputs": [
    {
     "name": "stdout",
     "output_type": "stream",
     "text": [
      "We removed 24 high variance variables.\n",
      "Leaving us with 32 variables.\n"
     ]
    }
   ],
   "source": [
    "# Adding one to this number to include the target in total features\n",
    "print(\"We removed\", bank_coded.shape[1] - X_highvar.shape[1] + 1, \"high variance variables.\")\n",
    "print(\"Leaving us with\", X_highvar.shape[1]+1, \"variables.\")"
   ]
  },
  {
   "cell_type": "markdown",
   "id": "c48c2b7c",
   "metadata": {},
   "source": [
    "Interestingly, many of labels for occupation have very little representation. A similiar situation is noted for the labels of the feature month."
   ]
  },
  {
   "cell_type": "markdown",
   "id": "060b8c5a-2454-497f-b408-16b272277ddb",
   "metadata": {},
   "source": [
    "### Multicollinearity Analysis"
   ]
  },
  {
   "cell_type": "code",
   "execution_count": 14,
   "id": "42e0d620-3999-4f0f-9bc1-cb25763599aa",
   "metadata": {},
   "outputs": [
    {
     "data": {
      "image/png": "[encoded data removed]",
      "text/plain": [
       "<Figure size 1152x864 with 2 Axes>"
      ]
     },
     "metadata": {
      "needs_background": "light"
     },
     "output_type": "display_data"
    }
   ],
   "source": [
    "plt.figure(figsize = (16,12))\n",
    "sns.heatmap(bank_coded.corr())\n",
    "plt.show()"
   ]
  },
  {
   "cell_type": "code",
   "execution_count": 19,
   "id": "0dec29ed-c270-4245-b468-626d860ed5a3",
   "metadata": {},
   "outputs": [
    {
     "data": {
      "text/plain": [
       "Index(['job_blue-collar', 'job_technician', 'marital_married',\n",
       "       'marital_single', 'education_basic.9y', 'education_high.school',\n",
       "       'education_professional.course', 'education_university.degree',\n",
       "       'default_unknown', 'housing_yes', 'loan_yes', 'contact_telephone',\n",
       "       'month_aug', 'month_jul', 'month_jun', 'month_may', 'day_of_week_mon',\n",
       "       'day_of_week_thu', 'day_of_week_tue', 'day_of_week_wed',\n",
       "       'poutcome_nonexistent', 'age', 'duration', 'campaign', 'pdays',\n",
       "       'previous', 'emp.var.rate', 'cons.price.idx', 'cons.conf.idx',\n",
       "       'euribor3m', 'nr.employed'],\n",
       "      dtype='object')"
      ]
     },
     "execution_count": 19,
     "metadata": {},
     "output_type": "execute_result"
    }
   ],
   "source": [
    "X_highvar.columns"
   ]
  },
  {
   "cell_type": "code",
   "execution_count": 20,
   "id": "5e0fa793-51d2-407e-9b2c-ad8f1c14c852",
   "metadata": {},
   "outputs": [],
   "source": [
    "X_vif = pd.DataFrame()\n",
    "X_vif['variable'] = X_highvar.columns\n",
    "X_vif['vif'] = [variance_inflation_factor(X_highvar.values, i)\n",
    "               for i in range(len(X_highvar.columns))]\n",
    "# housing_no and loan_no were perfectly correlated with their counterparts so we'll remove them\n",
    "# X_clean = X_highvar.drop(columns = ['housing_no', 'loan_no'])\n",
    "X_clean = X_highvar.copy()\n",
    "X_vif = pd.DataFrame()\n",
    "X_vif['variable'] = X_clean.columns\n",
    "X_vif['vif'] = [variance_inflation_factor(X_clean.values, i)\n",
    "               for i in range(len(X_clean.columns))]\n",
    "drop = list(X_vif[X_vif['vif']>10].variable)\n",
    "X_clean = X_clean.drop(columns = drop, axis = 1)"
   ]
  },
  {
   "cell_type": "code",
   "execution_count": 26,
   "id": "10a9530e-fcd2-4d35-85dc-dc2ac4c2a71e",
   "metadata": {},
   "outputs": [
    {
     "name": "stdout",
     "output_type": "stream",
     "text": [
      "There were 23 variables for the first feature selection method models\n",
      "Index(['job_blue-collar', 'job_technician', 'marital_married',\n",
      "       'marital_single', 'education_basic.9y', 'education_high.school',\n",
      "       'education_professional.course', 'education_university.degree',\n",
      "       'default_unknown', 'housing_yes', 'loan_yes', 'contact_telephone',\n",
      "       'month_aug', 'month_jul', 'month_jun', 'month_may', 'day_of_week_mon',\n",
      "       'day_of_week_thu', 'day_of_week_tue', 'day_of_week_wed', 'duration',\n",
      "       'campaign', 'previous'],\n",
      "      dtype='object')\n",
      "['poutcome_nonexistent', 'age', 'pdays', 'emp.var.rate', 'cons.price.idx', 'cons.conf.idx', 'euribor3m', 'nr.employed']\n"
     ]
    }
   ],
   "source": [
    "print(\"There were\", X_clean.shape[1], \"variables for the first feature selection method models\")\n",
    "print(X_clean.columns)\n",
    "print(drop)"
   ]
  },
  {
   "cell_type": "markdown",
   "id": "dc8d467d-4270-485c-8976-97eaed9736c9",
   "metadata": {},
   "source": [
    "## Modelling\n",
    "### Split Data\n",
    "Note: Planning on using CV for tuning, so just doing a train and test split"
   ]
  },
  {
   "cell_type": "code",
   "execution_count": 104,
   "id": "1ce464d5-1628-44e6-83c1-d8491d714c11",
   "metadata": {},
   "outputs": [],
   "source": [
    "X_train, X_test, y_train, y_test = train_test_split(X_clean, \n",
    "                                                    y, \n",
    "                                                    test_size=0.2, \n",
    "                                                    random_state=123)\n",
    "\n",
    "# Undersampled Data\n",
    "undersampler = RandomUnderSampler(random_state = 123)\n",
    "X_under, y_under = undersampler.fit_resample(X_train, y_train)"
   ]
  },
  {
   "cell_type": "markdown",
   "id": "3cb7cad0-d123-4c58-ba31-cb3486ebcf7b",
   "metadata": {},
   "source": [
    "### k-NN"
   ]
  },
  {
   "cell_type": "code",
   "execution_count": 105,
   "id": "bcf2caf9-639c-40ad-b016-000547950911",
   "metadata": {},
   "outputs": [],
   "source": [
    "scaler = StandardScaler()\n",
    "knn = KNeighborsClassifier()\n",
    "\n",
    "neighbors = list(range(1,27,2))\n",
    "weight = ['uniform', 'distance']\n",
    "\n",
    "params = dict(knn__n_neighbors = neighbors,\n",
    "             knn__weights = weight)\n",
    "\n",
    "knn_pipe = Pipeline(steps = [('scaler', scaler), ('knn', knn)])"
   ]
  },
  {
   "cell_type": "markdown",
   "id": "fb41eec7-1be6-4aac-9eeb-ebfc64c41a08",
   "metadata": {},
   "source": [
    "Unbalanced"
   ]
  },
  {
   "cell_type": "code",
   "execution_count": 106,
   "id": "d2b3b9a3-f5ad-4d05-9df1-90074c7ee790",
   "metadata": {},
   "outputs": [
    {
     "name": "stdout",
     "output_type": "stream",
     "text": [
      "{'knn__n_neighbors': 25, 'knn__weights': 'distance'}\n",
      "              precision    recall  f1-score   support\n",
      "\n",
      "         0.0       0.91      0.98      0.95      7298\n",
      "         1.0       0.68      0.28      0.40       940\n",
      "\n",
      "    accuracy                           0.90      8238\n",
      "   macro avg       0.80      0.63      0.67      8238\n",
      "weighted avg       0.89      0.90      0.88      8238\n",
      "\n"
     ]
    }
   ],
   "source": [
    "knn_tuned = GridSearchCV(knn_pipe, params, n_jobs = -1)\n",
    "knn_tuned.fit(X_train, y_train)\n",
    "knn_reg_pred = knn_tuned.predict(X_test)\n",
    "print(knn_tuned.best_params_)\n",
    "print(classification_report(y_test, knn_reg_pred))"
   ]
  },
  {
   "cell_type": "code",
   "execution_count": 107,
   "id": "d5edc976-9542-421c-bb47-58e2f2487496",
   "metadata": {},
   "outputs": [],
   "source": [
    "knn_reg_acc = accuracy_score(y_test, knn_reg_pred)\n",
    "knn_reg_f1 = f1_score(y_test, knn_reg_pred)"
   ]
  },
  {
   "cell_type": "markdown",
   "id": "24f5ab0e-3b22-4be4-95e3-e60e4af538a9",
   "metadata": {},
   "source": [
    "Balanced - A lot better recall, but precision took a big hit."
   ]
  },
  {
   "cell_type": "code",
   "execution_count": 108,
   "id": "77abaa33-efa7-4acf-b167-6ebc908b534f",
   "metadata": {},
   "outputs": [
    {
     "name": "stdout",
     "output_type": "stream",
     "text": [
      "{'knn__n_neighbors': 25, 'knn__weights': 'distance'}\n",
      "              precision    recall  f1-score   support\n",
      "\n",
      "         0.0       0.96      0.87      0.91      7298\n",
      "         1.0       0.41      0.71      0.52       940\n",
      "\n",
      "    accuracy                           0.85      8238\n",
      "   macro avg       0.68      0.79      0.71      8238\n",
      "weighted avg       0.90      0.85      0.86      8238\n",
      "\n"
     ]
    }
   ],
   "source": [
    "knn_baltuned = GridSearchCV(knn_pipe, params, n_jobs = -1)\n",
    "knn_baltuned.fit(X_under, y_under)\n",
    "knn_bal_pred = knn_baltuned.predict(X_test)\n",
    "print(knn_baltuned.best_params_)\n",
    "print(classification_report(y_test, knn_bal_pred))"
   ]
  },
  {
   "cell_type": "code",
   "execution_count": 109,
   "id": "f206022a-5b5b-443c-ac84-3f20e8453aa8",
   "metadata": {},
   "outputs": [],
   "source": [
    "knn_bal_acc = accuracy_score(y_test, knn_bal_pred)\n",
    "knn_bal_f1 = f1_score(y_test, knn_bal_pred)"
   ]
  },
  {
   "cell_type": "markdown",
   "id": "7f1ac84e-bd68-450d-8f2d-69d8bf9061ec",
   "metadata": {},
   "source": [
    "### Neural Networks"
   ]
  },
  {
   "cell_type": "code",
   "execution_count": 110,
   "id": "90a0ee6a-c674-4a5e-88c7-b38cb190b7c9",
   "metadata": {},
   "outputs": [],
   "source": [
    "neural_net = MLPClassifier(solver = 'sgd')\n",
    "hidden_layer = [(10,30,10), (20,)]\n",
    "activation = ['relu', 'logistic', 'tanh']\n",
    "alpha = [0.0001, 0.001, 0.01, 0.1]\n",
    "learning_rate = ['constant', 'adaptive']\n",
    "\n",
    "neural_pipe = Pipeline(steps=[('scaler', scaler),('neural_net', neural_net)])\n",
    "\n",
    "params = dict(neural_net__hidden_layer_sizes = hidden_layer, neural_net__activation = activation, neural_net__alpha = alpha,\n",
    "             neural_net__learning_rate = learning_rate)"
   ]
  },
  {
   "cell_type": "code",
   "execution_count": 111,
   "id": "d7bd29c5-7624-465b-be3f-79ba9863c6d8",
   "metadata": {},
   "outputs": [
    {
     "name": "stdout",
     "output_type": "stream",
     "text": [
      "{'neural_net__activation': 'tanh', 'neural_net__alpha': 0.0001, 'neural_net__hidden_layer_sizes': (10, 30, 10), 'neural_net__learning_rate': 'constant'}\n",
      "              precision    recall  f1-score   support\n",
      "\n",
      "         0.0       0.93      0.97      0.95      7298\n",
      "         1.0       0.64      0.47      0.54       940\n",
      "\n",
      "    accuracy                           0.91      8238\n",
      "   macro avg       0.79      0.72      0.75      8238\n",
      "weighted avg       0.90      0.91      0.90      8238\n",
      "\n"
     ]
    }
   ],
   "source": [
    "neural_tuned = GridSearchCV(neural_pipe, params, n_jobs = 6)\n",
    "neural_tuned.fit(X_train, y_train)\n",
    "neural_tuned_pred = neural_tuned.predict(X_test)\n",
    "print(neural_tuned.best_params_)\n",
    "print(classification_report(y_test, neural_tuned_pred))"
   ]
  },
  {
   "cell_type": "code",
   "execution_count": 112,
   "id": "0f02b26a-dbd8-4440-aebc-7983be7a8597",
   "metadata": {},
   "outputs": [],
   "source": [
    "nnet_reg_acc = accuracy_score(y_test, neural_tuned_pred)\n",
    "nnet_reg_f1 = f1_score(y_test, neural_tuned_pred)"
   ]
  },
  {
   "cell_type": "code",
   "execution_count": 113,
   "id": "ebbfe836-40ae-4f11-9a5f-a9b51d96937d",
   "metadata": {},
   "outputs": [
    {
     "name": "stdout",
     "output_type": "stream",
     "text": [
      "{'neural_net__activation': 'relu', 'neural_net__alpha': 0.01, 'neural_net__hidden_layer_sizes': (10, 30, 10), 'neural_net__learning_rate': 'adaptive'}\n",
      "              precision    recall  f1-score   support\n",
      "\n",
      "         0.0       0.98      0.81      0.89      7298\n",
      "         1.0       0.38      0.89      0.53       940\n",
      "\n",
      "    accuracy                           0.82      8238\n",
      "   macro avg       0.68      0.85      0.71      8238\n",
      "weighted avg       0.91      0.82      0.85      8238\n",
      "\n"
     ]
    }
   ],
   "source": [
    "neural_baltuned = GridSearchCV(neural_pipe, params, n_jobs = -1)\n",
    "neural_baltuned.fit(X_under, y_under)\n",
    "neural_bal_pred = neural_baltuned.predict(X_test)\n",
    "print(neural_baltuned.best_params_)\n",
    "print(classification_report(y_test, neural_bal_pred))"
   ]
  },
  {
   "cell_type": "code",
   "execution_count": 114,
   "id": "f94cfa47-8a07-46ea-a31d-632fe7110e65",
   "metadata": {},
   "outputs": [],
   "source": [
    "nnet_bal_acc = accuracy_score(y_test, neural_bal_pred)\n",
    "nnet_bal_f1 = f1_score(y_test, neural_bal_pred)"
   ]
  },
  {
   "cell_type": "markdown",
   "id": "1a4a569b",
   "metadata": {},
   "source": [
    "### XGBoost\n",
    "Note: You need an NVIDIA GPU to train this model with the gpu_hist option."
   ]
  },
  {
   "cell_type": "code",
   "execution_count": 66,
   "id": "0cbe76e3",
   "metadata": {},
   "outputs": [],
   "source": [
    "X = bank.drop(columns = ['y'])\n",
    "y = bank[['y']]\n",
    "\n",
    "oe = OrdinalEncoder()\n",
    "y = oe.fit_transform(y)"
   ]
  },
  {
   "cell_type": "code",
   "execution_count": 67,
   "id": "fde1d033",
   "metadata": {},
   "outputs": [
    {
     "data": {
      "text/plain": [
       "Index(['age', 'job', 'marital', 'education', 'default', 'housing', 'loan',\n",
       "       'contact', 'month', 'day_of_week', 'duration', 'campaign', 'pdays',\n",
       "       'previous', 'poutcome', 'emp.var.rate', 'cons.price.idx',\n",
       "       'cons.conf.idx', 'euribor3m', 'nr.employed'],\n",
       "      dtype='object')"
      ]
     },
     "execution_count": 67,
     "metadata": {},
     "output_type": "execute_result"
    }
   ],
   "source": [
    "X.columns"
   ]
  },
  {
   "cell_type": "code",
   "execution_count": 68,
   "id": "eeeca9a6",
   "metadata": {},
   "outputs": [],
   "source": [
    "X_train2, X_test2, y_train2, y_test2 = train_test_split(X, \n",
    "                                                    y, \n",
    "                                                    test_size=0.2, \n",
    "                                                    random_state=123)\n",
    "\n",
    "# Undersampled Data\n",
    "undersampler = RandomUnderSampler(random_state = 123)\n",
    "X_train2, y_train2 = undersampler.fit_resample(X_train2, y_train2)"
   ]
  },
  {
   "cell_type": "code",
   "execution_count": 69,
   "id": "f07ce453",
   "metadata": {},
   "outputs": [],
   "source": [
    "cat_variables = ['job', \n",
    "                 'marital', \n",
    "                 'education', \n",
    "                 'default', \n",
    "                 'housing', \n",
    "                 'loan', \n",
    "                 'contact', \n",
    "                 'month', \n",
    "                 'day_of_week', \n",
    "                 'poutcome']\n",
    "num_variables = ['age', \n",
    "                 'duration',\n",
    "                 'campaign',\n",
    "                 'pdays',\n",
    "                 'previous',\n",
    "                 'emp.var.rate', \n",
    "                 'cons.conf.idx', \n",
    "                 'euribor3m', \n",
    "                 'nr.employed']"
   ]
  },
  {
   "cell_type": "code",
   "execution_count": 70,
   "id": "924f0d5d",
   "metadata": {},
   "outputs": [],
   "source": [
    "# Categorical pipeline\n",
    "cat_pipe = Pipeline([(\"cat_imputer\", SimpleImputer(strategy=\"constant\", fill_value='Unknown')),\n",
    "                     ('cat_encoder', OneHotEncoder())])\n",
    "\n",
    "# Numerical pipeline:\n",
    "num_pipe = Pipeline([('num_imputer', SimpleImputer(strategy='median')),\n",
    "                     ('num_scaler', StandardScaler())])\n",
    "\n",
    "full_pipeline = Pipeline([('column_transformer', ColumnTransformer([('cat', cat_pipe, cat_variables),\n",
    "                                                                    ('num', num_pipe, num_variables)], remainder = 'passthrough')),\n",
    "                          ('k_best', SelectKBest(k = 20)),\n",
    "                          ('xgBoost', xgb.XGBClassifier(objective=\"binary:logistic\",\n",
    "                                                        tree_method = 'gpu_hist'))])"
   ]
  },
  {
   "cell_type": "markdown",
   "id": "fd0c955e-923d-410b-b060-3bcefb7eb32b",
   "metadata": {},
   "source": [
    "Unbalanced xgboost"
   ]
  },
  {
   "cell_type": "code",
   "execution_count": 71,
   "id": "d5483356",
   "metadata": {},
   "outputs": [
    {
     "name": "stdout",
     "output_type": "stream",
     "text": [
      "Best parameter (CV score=nan):\n",
      "{'xgBoost__reg_lambda': 0.1, 'xgBoost__reg_alpha': 0.01, 'xgBoost__n_estimators': 300, 'xgBoost__max_depth': 11, 'xgBoost__learning_rate': 0.3, 'xgBoost__gamma': 0.4, 'xgBoost__colsample_bytree': 0.7}\n"
     ]
    }
   ],
   "source": [
    "search_space = [{'xgBoost__n_estimators': [50, 100, 150, 200, 250, 300],\n",
    "                 'xgBoost__learning_rate': [0.01, 0.1, 0.3, .05, 1],\n",
    "                 'xgBoost__max_depth': range(3,21,2),\n",
    "                 'xgBoost__colsample_bytree': [i/10.0 for i in range(3,10)],\n",
    "                 'xgBoost__gamma': [i/10.0 for i in range(5)],\n",
    "                 'xgBoost__reg_alpha' : [1e-5, 1e-2, 0.1, .3],\n",
    "                 'xgBoost__reg_lambda' : [1e-5, 1e-2, 0.1,.3]}]\n",
    "\n",
    "kfold = StratifiedKFold(n_splits=5, \n",
    "                        shuffle=True, \n",
    "                        random_state=123)\n",
    "\n",
    "search = RandomizedSearchCV(full_pipeline, \n",
    "                            param_distributions = search_space, \n",
    "                            n_iter = 200, \n",
    "                            cv = kfold,\n",
    "                            scoring ='recall',\n",
    "                            n_jobs = 4)\n",
    "result = search.fit(X_train2, y_train2)\n",
    "\n",
    "print(\"Best parameter (CV score=%0.3f):\" % search.best_score_)\n",
    "print(search.best_params_)"
   ]
  },
  {
   "cell_type": "code",
   "execution_count": 72,
   "id": "b6efc534",
   "metadata": {},
   "outputs": [
    {
     "name": "stdout",
     "output_type": "stream",
     "text": [
      "              precision    recall  f1-score   support\n",
      "\n",
      "         0.0       0.99      0.84      0.91      7298\n",
      "         1.0       0.43      0.92      0.59       940\n",
      "\n",
      "    accuracy                           0.85      8238\n",
      "   macro avg       0.71      0.88      0.75      8238\n",
      "weighted avg       0.93      0.85      0.87      8238\n",
      "\n"
     ]
    }
   ],
   "source": [
    "xgb_pred = search.predict(X_test2)\n",
    "print(classification_report(y_test2,xgb_pred))"
   ]
  },
  {
   "cell_type": "code",
   "execution_count": 73,
   "id": "2a958808",
   "metadata": {},
   "outputs": [
    {
     "data": {
      "text/plain": [
       "0.924468085106383"
      ]
     },
     "execution_count": 73,
     "metadata": {},
     "output_type": "execute_result"
    }
   ],
   "source": [
    "recall_score(y_test2,xgb_pred)"
   ]
  },
  {
   "cell_type": "code",
   "execution_count": 74,
   "id": "ac0f0631-c772-4eac-a652-b54e30b6f031",
   "metadata": {},
   "outputs": [],
   "source": [
    "xg_bal_acc = accuracy_score(y_test2, xgb_pred)\n",
    "xg_bal_f1 = f1_score(y_test2, xgb_pred)"
   ]
  },
  {
   "cell_type": "markdown",
   "id": "5d25553b-4636-40ba-b5a5-c22ed3b52e4a",
   "metadata": {},
   "source": [
    "Balanced xgboost"
   ]
  },
  {
   "cell_type": "markdown",
   "id": "79f7406f",
   "metadata": {},
   "source": [
    "### Extra Trees"
   ]
  },
  {
   "cell_type": "code",
   "execution_count": 75,
   "id": "2c67199d",
   "metadata": {},
   "outputs": [],
   "source": [
    "# Categorical pipeline\n",
    "cat_pipe = Pipeline([(\"cat_imputer\", SimpleImputer(strategy=\"constant\", fill_value='Unknown')),\n",
    "                     ('cat_encoder', OneHotEncoder())])\n",
    "\n",
    "# Numerical pipeline:\n",
    "num_pipe = Pipeline([('num_imputer', SimpleImputer(strategy='median')),\n",
    "                     ('num_scaler', StandardScaler())])\n",
    "\n",
    "full_pipeline = Pipeline([('column_transformer', ColumnTransformer([('cat', cat_pipe, cat_variables),\n",
    "                                                                    ('num', num_pipe, num_variables)], remainder = 'passthrough')),\n",
    "                          ('k_best', SelectKBest(k = 20)),\n",
    "                          ('etc', ExtraTreesClassifier())])"
   ]
  },
  {
   "cell_type": "code",
   "execution_count": 76,
   "id": "8836c2d6",
   "metadata": {},
   "outputs": [
    {
     "name": "stdout",
     "output_type": "stream",
     "text": [
      "Best parameter (CV score=nan):\n",
      "{'etc__n_estimators': 500, 'etc__max_leaf_nodes': 10, 'etc__max_depth': 8}\n"
     ]
    }
   ],
   "source": [
    "search_space = [{'etc__n_estimators': [10, 50, 100, 500, 1000, 5000],\n",
    "                 'etc__max_leaf_nodes': [5, 10, 15, 20, 25, 50], \n",
    "                 'etc__max_depth': range(2,21,1)}]\n",
    "\n",
    "kfold = StratifiedKFold(n_splits=5, \n",
    "                        shuffle=True, \n",
    "                        random_state=123)\n",
    "\n",
    "search_etc = RandomizedSearchCV(full_pipeline, \n",
    "                            param_distributions = search_space, \n",
    "                            n_iter = 200, \n",
    "                            cv = kfold,\n",
    "                            scoring ='recall',\n",
    "                            n_jobs = 4)\n",
    "result = search_etc.fit(X_train2, y_train2)\n",
    "\n",
    "print(\"Best parameter (CV score=%0.3f):\" % search_etc.best_score_)\n",
    "print(search_etc.best_params_)"
   ]
  },
  {
   "cell_type": "code",
   "execution_count": 77,
   "id": "ca32829a",
   "metadata": {},
   "outputs": [
    {
     "name": "stdout",
     "output_type": "stream",
     "text": [
      "              precision    recall  f1-score   support\n",
      "\n",
      "         0.0       0.96      0.85      0.90      7298\n",
      "         1.0       0.38      0.71      0.49       940\n",
      "\n",
      "    accuracy                           0.83      8238\n",
      "   macro avg       0.67      0.78      0.70      8238\n",
      "weighted avg       0.89      0.83      0.85      8238\n",
      "\n"
     ]
    }
   ],
   "source": [
    "etc_pred = search_etc.predict(X_test2)\n",
    "print(classification_report(y_test,etc_pred))"
   ]
  },
  {
   "cell_type": "code",
   "execution_count": 78,
   "id": "39ef484a",
   "metadata": {},
   "outputs": [
    {
     "data": {
      "text/plain": [
       "0.7074468085106383"
      ]
     },
     "execution_count": 78,
     "metadata": {},
     "output_type": "execute_result"
    }
   ],
   "source": [
    "recall_score(y_test2,etc_pred)"
   ]
  },
  {
   "cell_type": "code",
   "execution_count": 79,
   "id": "6e68d8c0-0bd3-4f47-b3fc-bc6982644c9f",
   "metadata": {},
   "outputs": [],
   "source": [
    "etc_bal_acc = accuracy_score(y_test2, etc_pred)\n",
    "etc_bal_f1 = f1_score(y_test2, etc_pred)"
   ]
  },
  {
   "cell_type": "markdown",
   "id": "3e648ea6",
   "metadata": {},
   "source": [
    "### Logistic Regression"
   ]
  },
  {
   "cell_type": "code",
   "execution_count": 80,
   "id": "c82d5f32",
   "metadata": {},
   "outputs": [],
   "source": [
    "# Categorical pipeline\n",
    "cat_pipe = Pipeline([(\"cat_imputer\", SimpleImputer(strategy=\"constant\", fill_value='Unknown')),\n",
    "                     ('cat_encoder', OneHotEncoder())])\n",
    "\n",
    "# Numerical pipeline:\n",
    "num_pipe = Pipeline([('num_imputer', SimpleImputer(strategy='median')),\n",
    "                     ('num_scaler', StandardScaler())])\n",
    "\n",
    "full_pipeline = Pipeline([('column_transformer', ColumnTransformer([('cat', cat_pipe, cat_variables),\n",
    "                                                                    ('num', num_pipe, num_variables)], remainder = 'passthrough')),\n",
    "                          ('k_best', SelectKBest(k = 20)),\n",
    "                          ('logreg', LogisticRegression(solver = 'saga'))])"
   ]
  },
  {
   "cell_type": "code",
   "execution_count": 81,
   "id": "819726d3",
   "metadata": {},
   "outputs": [
    {
     "name": "stdout",
     "output_type": "stream",
     "text": [
      "Best parameter (CV score=nan):\n",
      "{'logreg__penalty': 'l1', 'logreg__C': 0.01}\n"
     ]
    }
   ],
   "source": [
    "search_space = [{'logreg__penalty': ['l1', 'l2', 'elasticnet'],\n",
    "                 'logreg__C': [0.01, 0.1, 0.3, .05, 1]}]\n",
    "\n",
    "kfold = StratifiedKFold(n_splits=5, \n",
    "                        shuffle=True, \n",
    "                        random_state=123)\n",
    "\n",
    "search_log = RandomizedSearchCV(full_pipeline, \n",
    "                            param_distributions = search_space, \n",
    "                            n_iter = 200, \n",
    "                            cv = kfold,\n",
    "                            scoring ='recall',\n",
    "                            n_jobs = 4)\n",
    "result = search_log.fit(X_train2, y_train2)\n",
    "\n",
    "print(\"Best parameter (CV score=%0.3f):\" % search_log.best_score_)\n",
    "print(search_log.best_params_)"
   ]
  },
  {
   "cell_type": "code",
   "execution_count": 82,
   "id": "80c5f603",
   "metadata": {},
   "outputs": [
    {
     "name": "stdout",
     "output_type": "stream",
     "text": [
      "              precision    recall  f1-score   support\n",
      "\n",
      "         0.0       0.98      0.85      0.91      7298\n",
      "         1.0       0.43      0.89      0.58       940\n",
      "\n",
      "    accuracy                           0.85      8238\n",
      "   macro avg       0.71      0.87      0.75      8238\n",
      "weighted avg       0.92      0.85      0.87      8238\n",
      "\n"
     ]
    }
   ],
   "source": [
    "lr_pred = search_log.predict(X_test2)\n",
    "print(classification_report(y_test2,lr_pred))"
   ]
  },
  {
   "cell_type": "code",
   "execution_count": 83,
   "id": "dea71a8c",
   "metadata": {},
   "outputs": [
    {
     "data": {
      "text/plain": [
       "0.8851063829787233"
      ]
     },
     "execution_count": 83,
     "metadata": {},
     "output_type": "execute_result"
    }
   ],
   "source": [
    "recall_score(y_test2,lr_pred)"
   ]
  },
  {
   "cell_type": "code",
   "execution_count": 84,
   "id": "0bde1235-48ed-4203-bf36-5bdd13deb831",
   "metadata": {},
   "outputs": [],
   "source": [
    "log_bal_acc = accuracy_score(y_test2, lr_pred)\n",
    "log_bal_f1 = f1_score(y_test2, lr_pred)"
   ]
  },
  {
   "cell_type": "markdown",
   "id": "a780d93b-331a-4d89-b688-a85ddd252774",
   "metadata": {},
   "source": [
    "## Results\n",
    "Create Results Dataframe"
   ]
  },
  {
   "cell_type": "code",
   "execution_count": 115,
   "id": "ea8521dd-b57c-4114-a96e-d2e619b7eaf0",
   "metadata": {},
   "outputs": [],
   "source": [
    "Models = [\"knn reg\", \"knn under\", \"nnet reg\", \"nnet under\", \"xg under\", \"tree under\", \"logreg under\"]\n",
    "Accuracy = [knn_reg_acc, knn_bal_acc, nnet_reg_acc, nnet_bal_acc, xg_bal_acc, etc_bal_acc, log_bal_acc]\n",
    "F1 = [knn_reg_f1, knn_bal_f1, nnet_reg_f1, nnet_bal_f1, xg_bal_f1, etc_bal_f1, log_bal_f1]\n",
    "Dataset = ['Unbalanced', 'Undersampled', 'Unbalanced', 'Undersampled', 'Undersampled + KBest', 'Undersampled + KBest', 'Undersampled + KBest']\n",
    "\n",
    "Results = pd.DataFrame(list(zip(Models, Accuracy, F1, Dataset)),\n",
    "                      columns = ['Model', 'Accuracy', 'F1 Score', 'Data Used'])"
   ]
  },
  {
   "cell_type": "markdown",
   "id": "97e6cfb9-6302-4662-b153-a3fa58f827ac",
   "metadata": {},
   "source": [
    "Save results so we don't have to rerun models to updated charts"
   ]
  },
  {
   "cell_type": "code",
   "execution_count": 116,
   "id": "5bc5e6e2-e3fb-4bb9-82d7-28b334c25976",
   "metadata": {},
   "outputs": [
    {
     "data": {
      "text/plain": [
       "array([['knn reg', 0.9030104394270454, 0.3996994740796394, 'Unbalanced'],\n",
       "       ['knn under', 0.8478999757222627, 0.5171483622350674,\n",
       "        'Undersampled'],\n",
       "       ['nnet reg', 0.9094440398154892, 0.5412054120541205, 'Unbalanced'],\n",
       "       ['nnet under', 0.8216800194221898, 0.5326121539930003,\n",
       "        'Undersampled'],\n",
       "       ['xg under', 0.852391357125516, 0.5883547731888964,\n",
       "        'Undersampled + KBest'],\n",
       "       ['tree under', 0.8327263899004613, 0.4911373707533235,\n",
       "        'Undersampled + KBest'],\n",
       "       ['logreg under', 0.8534838553046856, 0.5795889933820968,\n",
       "        'Undersampled + KBest']], dtype=object)"
      ]
     },
     "execution_count": 116,
     "metadata": {},
     "output_type": "execute_result"
    }
   ],
   "source": [
    "np.array(Results)"
   ]
  },
  {
   "cell_type": "code",
   "execution_count": 117,
   "id": "10224750-7682-4a29-b2e2-5c56b0cb6e10",
   "metadata": {},
   "outputs": [
    {
     "data": {
      "text/html": [
       "<div>\n",
       "<style scoped>\n",
       "    .dataframe tbody tr th:only-of-type {\n",
       "        vertical-align: middle;\n",
       "    }\n",
       "\n",
       "    .dataframe tbody tr th {\n",
       "        vertical-align: top;\n",
       "    }\n",
       "\n",
       "    .dataframe thead th {\n",
       "        text-align: right;\n",
       "    }\n",
       "</style>\n",
       "<table border=\"1\" class=\"dataframe\">\n",
       "  <thead>\n",
       "    <tr style=\"text-align: right;\">\n",
       "      <th></th>\n",
       "      <th>Model</th>\n",
       "      <th>Accuracy</th>\n",
       "      <th>F1 Score</th>\n",
       "      <th>Data Used</th>\n",
       "    </tr>\n",
       "  </thead>\n",
       "  <tbody>\n",
       "    <tr>\n",
       "      <th>0</th>\n",
       "      <td>knn reg</td>\n",
       "      <td>0.90301</td>\n",
       "      <td>0.399699</td>\n",
       "      <td>Unbalanced</td>\n",
       "    </tr>\n",
       "    <tr>\n",
       "      <th>1</th>\n",
       "      <td>knn under</td>\n",
       "      <td>0.8479</td>\n",
       "      <td>0.517148</td>\n",
       "      <td>Undersampled</td>\n",
       "    </tr>\n",
       "    <tr>\n",
       "      <th>2</th>\n",
       "      <td>nnet reg</td>\n",
       "      <td>0.909444</td>\n",
       "      <td>0.541205</td>\n",
       "      <td>Unbalanced</td>\n",
       "    </tr>\n",
       "    <tr>\n",
       "      <th>3</th>\n",
       "      <td>nnet under</td>\n",
       "      <td>0.82168</td>\n",
       "      <td>0.532612</td>\n",
       "      <td>Undersampled</td>\n",
       "    </tr>\n",
       "    <tr>\n",
       "      <th>4</th>\n",
       "      <td>xg under</td>\n",
       "      <td>0.852391</td>\n",
       "      <td>0.588355</td>\n",
       "      <td>Undersampled + KBest</td>\n",
       "    </tr>\n",
       "    <tr>\n",
       "      <th>5</th>\n",
       "      <td>tree under</td>\n",
       "      <td>0.832726</td>\n",
       "      <td>0.491137</td>\n",
       "      <td>Undersampled + KBest</td>\n",
       "    </tr>\n",
       "    <tr>\n",
       "      <th>6</th>\n",
       "      <td>logreg under</td>\n",
       "      <td>0.853484</td>\n",
       "      <td>0.579589</td>\n",
       "      <td>Undersampled + KBest</td>\n",
       "    </tr>\n",
       "  </tbody>\n",
       "</table>\n",
       "</div>"
      ],
      "text/plain": [
       "          Model  Accuracy  F1 Score             Data Used\n",
       "0       knn reg   0.90301  0.399699            Unbalanced\n",
       "1     knn under    0.8479  0.517148          Undersampled\n",
       "2      nnet reg  0.909444  0.541205            Unbalanced\n",
       "3    nnet under   0.82168  0.532612          Undersampled\n",
       "4      xg under  0.852391  0.588355  Undersampled + KBest\n",
       "5    tree under  0.832726  0.491137  Undersampled + KBest\n",
       "6  logreg under  0.853484  0.579589  Undersampled + KBest"
      ]
     },
     "execution_count": 117,
     "metadata": {},
     "output_type": "execute_result"
    }
   ],
   "source": [
    "Results_matrix = np.array([['knn reg', 0.9030104394270454, 0.3996994740796394, 'Unbalanced'],\n",
    "       ['knn under', 0.8478999757222627, 0.5171483622350674,\n",
    "        'Undersampled'],\n",
    "       ['nnet reg', 0.9094440398154892, 0.5412054120541205, 'Unbalanced'],\n",
    "       ['nnet under', 0.8216800194221898, 0.5326121539930003,\n",
    "        'Undersampled'],\n",
    "       ['xg under', 0.852391357125516, 0.5883547731888964,\n",
    "        'Undersampled + KBest'],\n",
    "       ['tree under', 0.8327263899004613, 0.4911373707533235,\n",
    "        'Undersampled + KBest'],\n",
    "       ['logreg under', 0.8534838553046856, 0.5795889933820968,\n",
    "        'Undersampled + KBest']], dtype=object)\n",
    "\n",
    "\n",
    "Results_saved = pd.DataFrame(Results_matrix, columns=['Model', 'Accuracy', 'F1 Score', 'Data Used'])\n",
    "Results_saved"
   ]
  },
  {
   "cell_type": "markdown",
   "id": "a4089017-61ae-4229-b775-c94f90c1bc68",
   "metadata": {},
   "source": [
    "Accuracy Plot"
   ]
  },
  {
   "cell_type": "code",
   "execution_count": 118,
   "id": "f233d566-2c59-4164-99b7-29c18f8a7d32",
   "metadata": {},
   "outputs": [
    {
     "data": {
      "text/plain": [
       "<Figure size 432x288 with 0 Axes>"
      ]
     },
     "metadata": {},
     "output_type": "display_data"
    },
    {
     "data": {
      "image/png": "[encoded data removed]",
      "text/plain": [
       "<Figure size 864x864 with 1 Axes>"
      ]
     },
     "metadata": {
      "needs_background": "light"
     },
     "output_type": "display_data"
    }
   ],
   "source": [
    "Results_acc = Results_saved.sort_values(by=['Accuracy'], ascending=False)\n",
    "plt.clf()\n",
    "plt.figure(figsize=[12,12])\n",
    "plotac = sns.barplot(y = 'Model', x = 'Accuracy', hue = 'Data Used', data = Results_acc, dodge=False,\n",
    "            palette = {'Unbalanced' : 'tab:orange', 'Undersampled': 'tab:green', 'Undersampled + KBest': 'tab:blue',})\n",
    "plt.xlabel('Model',fontsize = 20)\n",
    "plt.ylabel('Accuracy',fontsize =20)\n",
    "plt.xticks(fontsize =14)\n",
    "plt.yticks(fontsize = 14)\n",
    "legend = plt.legend(loc = 'lower right', title = 'Data Used', fontsize = 14)\n",
    "plt.setp(legend.get_title(), fontsize = 20)\n",
    "plt.show()"
   ]
  },
  {
   "cell_type": "code",
   "execution_count": 119,
   "id": "88540042-8ce7-4266-b8ed-2ad2194481db",
   "metadata": {},
   "outputs": [
    {
     "data": {
      "text/plain": [
       "<Figure size 432x288 with 0 Axes>"
      ]
     },
     "metadata": {},
     "output_type": "display_data"
    },
    {
     "data": {
      "image/png": "[encoded data removed]",
      "text/plain": [
       "<Figure size 864x864 with 1 Axes>"
      ]
     },
     "metadata": {
      "needs_background": "light"
     },
     "output_type": "display_data"
    }
   ],
   "source": [
    "Results_f1 = Results_saved.sort_values(by=['F1 Score'], ascending=False)\n",
    "plt.clf()\n",
    "plt.figure(figsize=[12,12])\n",
    "plotf1 = sns.barplot(y = 'Model', x = 'F1 Score', hue = 'Data Used', data = Results_f1, dodge=False,\n",
    "            palette = {'Unbalanced' : 'tab:orange', 'Undersampled': 'tab:green', 'Undersampled + KBest': 'tab:blue',})\n",
    "plt.xlabel('Model',fontsize = 20)\n",
    "plt.ylabel('F1 Score',fontsize =20)\n",
    "plt.xticks(fontsize =14)\n",
    "plt.yticks(fontsize = 14)\n",
    "plt.setp(plotf1.get_legend().get_texts(), fontsize = 14)\n",
    "plt.setp(plotf1.get_legend().get_title(), fontsize = 20)\n",
    "plt.show()"
   ]
  },
  {
   "cell_type": "markdown",
   "id": "07ea56b3-2832-4585-8569-d81dbf275402",
   "metadata": {},
   "source": [
    "Gain and Lift Charts for Selected Models"
   ]
  },
  {
   "cell_type": "code",
   "execution_count": 121,
   "id": "c183956f-c5d3-4771-a4df-dc7dd3b46842",
   "metadata": {},
   "outputs": [
    {
     "data": {
      "image/png": "[encoded data removed]",
      "text/plain": [
       "<Figure size 432x288 with 2 Axes>"
      ]
     },
     "metadata": {
      "needs_background": "light"
     },
     "output_type": "display_data"
    }
   ],
   "source": [
    "xg_probs = search.predict_proba(X_test2)\n",
    "neg, pos = zip(*xg_probs)\n",
    "xg_probs = pd.Series(pos)\n",
    "xg_probs_adj = xg_probs * (11.52/50)\n",
    "xg_probs_sort = xg_probs_adj.sort_values(ascending = False)\n",
    "\n",
    "fig, axes = plt.subplots(nrows = 1, ncols = 2)\n",
    "ax = gainsChart(xg_probs_sort, ax=axes[0])\n",
    "ax.set_ylabel('Cumulative Gains')\n",
    "ax.set_title('Cumulative Gains Chart')\n",
    "\n",
    "ax = liftChart(xg_probs_sort, ax = axes[1], labelBars = True)\n",
    "ax.set_ylabel('Lift')\n",
    "\n",
    "plt.suptitle(\"Results for XGBoost Model\")\n",
    "plt.tight_layout()\n",
    "plt.show()"
   ]
  },
  {
   "cell_type": "code",
   "execution_count": 122,
   "id": "63f727b4-3ddd-40e8-8d6d-63f57058216a",
   "metadata": {},
   "outputs": [
    {
     "data": {
      "image/png": "[encoded data removed]",
      "text/plain": [
       "<Figure size 432x288 with 2 Axes>"
      ]
     },
     "metadata": {
      "needs_background": "light"
     },
     "output_type": "display_data"
    }
   ],
   "source": [
    "nnet_probs = neural_tuned.predict_proba(X_test)\n",
    "neg, pos = zip(*nnet_probs)\n",
    "nnet_probs = pd.Series(pos)\n",
    "nnet_probs_sort = nnet_probs.sort_values(ascending = False)\n",
    "\n",
    "fig, axes = plt.subplots(nrows = 1, ncols = 2)\n",
    "ax = gainsChart(nnet_probs_sort, ax=axes[0])\n",
    "ax.set_ylabel('Cumulative Gains')\n",
    "ax.set_title('Cumulative Gains Chart')\n",
    "\n",
    "ax = liftChart(nnet_probs_sort, ax = axes[1], labelBars = True)\n",
    "ax.set_ylabel('Lift')\n",
    "\n",
    "plt.suptitle(\"Results for Unbalanced Neural Network\")\n",
    "plt.tight_layout()\n",
    "plt.show()"
   ]
  }
 ],
 "metadata": {
  "kernelspec": {
   "display_name": "Python 3 (ipykernel)",
   "language": "python",
   "name": "python3"
  },
  "language_info": {
   "codemirror_mode": {
    "name": "ipython",
    "version": 3
   },
   "file_extension": ".py",
   "mimetype": "text/x-python",
   "name": "python",
   "nbconvert_exporter": "python",
   "pygments_lexer": "ipython3",
   "version": "3.9.5"
  }
 },
 "nbformat": 4,
 "nbformat_minor": 5
}
