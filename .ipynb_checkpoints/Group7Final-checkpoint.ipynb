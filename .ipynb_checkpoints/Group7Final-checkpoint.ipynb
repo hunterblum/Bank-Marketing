{
 "cells": [
  {
   "cell_type": "markdown",
   "id": "da1c4c15-ba55-478f-9e87-30a238401f90",
   "metadata": {},
   "source": [
    "# Improving Bank Marketing Campaigns with Machine Learning\n",
    "### Group 7 - Gary Bair, Hunter Blum, and Jacqueline Urenda\n",
    "### Github Repo: https://github.com/hunterblum/BusinessFinal"
   ]
  },
  {
   "cell_type": "markdown",
   "id": "201e2180-2e33-4c79-a1ff-71c60b9e4006",
   "metadata": {},
   "source": [
    "# Background, Problem, and Goals"
   ]
  },
  {
   "cell_type": "markdown",
   "id": "420dc724-d387-4447-90be-f75c987895f2",
   "metadata": {},
   "source": [
    "Term deposits are pivotal to the success of a bank and the overall economy. In these deposits, a customer lends cash to a bank for a set term in return for a small amount of interest. In return, the bank has the liquid assets it needs to give out larger and higher-interest loans, allowing the bank to profit (Kagan, 2020). Because of their importance, banks have been running more direct marketing campaigns in hopes of increasing their cash flow. However, because most customers do not want a term deposit or respond to telemarketing, these direct marketing campaigns that lack clear strategies, waste money, and frustrate uninterested customers (Moro et al., 2014). \n",
    "\n",
    "It is in this space that data mining presents a unique opportunity to optimize the organization's efforts when contacting individuals to subscribe to a term deposit and effectively reduce the prevalence of unproductive contacts, reducing labor costs and increasing profits from more successful calls. This analysis aims to validate a variety of industry-leading machine-learning algorithms to determine whether the bank's term deposit subscriptions can be effectively modeled using historical client, contact, and behavioral data. With this goal, this study aims to establish:\n",
    "\n",
    "1. Whether historical datasets contain sufficient information to promote predictive modeling, ensuring that the data is suitably clean, contains plausible distributions of values, and is free of missing values.\n",
    "\n",
    "2. Identify key features for predicting the bank's term deposit subscriptions while assessing opportunities for data reduction.\n",
    "\n",
    "3. Establishing a preprocessing methodology including components such as feature extraction, transformation, and reduction\n",
    "\n",
    "4. Assess the viability of different families of machine learning algorithms.\n",
    "\n",
    "5. For the best-performing models, determine the optimal hyperparameters that can be expected to generalize to unseen data.\n",
    "\n"
   ]
  },
  {
   "cell_type": "markdown",
   "id": "5fc520fa-b0ba-41e2-b9e2-83079716fddf",
   "metadata": {
    "tags": []
   },
   "source": [
    "### Package Requirements"
   ]
  },
  {
   "cell_type": "code",
   "execution_count": 1,
   "id": "70a8ec60-da13-49f4-b2d5-969aedeb8ee1",
   "metadata": {},
   "outputs": [],
   "source": [
    "import pandas as pd\n",
    "import numpy as np\n",
    "import matplotlib.pyplot as plt\n",
    "import seaborn as sns\n",
    "from statsmodels.stats.outliers_influence import variance_inflation_factor\n",
    "\n",
    "# preprocessing packages\n",
    "from sklearn.preprocessing import OneHotEncoder, StandardScaler, OrdinalEncoder, MinMaxScaler\n",
    "from sklearn.impute import SimpleImputer\n",
    "\n",
    "# pipeline tools\n",
    "from sklearn.compose import ColumnTransformer, make_column_transformer\n",
    "from sklearn.pipeline import Pipeline, make_pipeline\n",
    "from sklearn.model_selection import train_test_split, GridSearchCV, StratifiedKFold, cross_val_score, GridSearchCV, RandomizedSearchCV\n",
    "\n",
    "# resampling tools\n",
    "from imblearn.under_sampling import RandomUnderSampler\n",
    "from imblearn.over_sampling import RandomOverSampler, SMOTE\n",
    "\n",
    "#feature selection\n",
    "from sklearn.decomposition import PCA\n",
    "from sklearn.feature_selection import VarianceThreshold, SelectKBest\n",
    "\n",
    "#models\n",
    "from sklearn.neighbors import KNeighborsClassifier\n",
    "from sklearn.linear_model import LogisticRegression\n",
    "from sklearn.neural_network import MLPClassifier\n",
    "import xgboost as xgb\n",
    "from sklearn.ensemble import ExtraTreesClassifier\n",
    "\n",
    "#metrics\n",
    "from sklearn.metrics import confusion_matrix, classification_report, ConfusionMatrixDisplay\n",
    "from sklearn.metrics import accuracy_score, precision_score, recall_score, fbeta_score, roc_curve, roc_auc_score\n",
    "\n",
    "import warnings\n",
    "warnings.filterwarnings(\"ignore\")\n",
    "\n",
    "#pandas settings\n",
    "pd.set_option('display.max_columns', None)\n",
    "\n",
    "# DMBA packages\n",
    "from dmba import gainsChart, liftChart"
   ]
  },
  {
   "cell_type": "markdown",
   "id": "b7ed4565",
   "metadata": {
    "tags": []
   },
   "source": [
    "# Exploratory Data Analysis\n",
    "## Dataset Description\n",
    "\n",
    "The data for this study was collected by Moro et al. (2014), from a Portuguese retail bank direct marketing campaign spanning from 2008 to 2010. The original authors utilized a two-step feature selection, first having domain experts select relevant features, then employing a forward-feeding model to calculate which relevant features increased AUC (Moro et al., 2014). This feature-selected dataset was donated to the UCI Machine Learning Repository, containing 21 features and 41,188 observations. Our target feature was a binary variable describing if a client set up a term deposit. The predictors included demographic variables (age, job, etc.), banking information (credit defaults, loans, etc.), and other various indicators. \n",
    "\n",
    "### *Input variables*:\n",
    "1. age: Customer Age (numeric)\n",
    "2. job : Type of Job (categorical)\n",
    "3. marital : Marital Status (categorical)\n",
    "4. education: Level of Education (categorical)\n",
    "5. default: Has credit in default? (categorical)\n",
    "6. housing: Has housing loan? (categorical)\n",
    "7. loan: Has personal loan? (categorical)\n",
    "8. contact: Contact Communication Type (categorical)\n",
    "9. month: Last Contact Month of Year (categorical)\n",
    "10. day_of_week: Last Contact Day of the Week (categorical)\n",
    "11. duration: Last Contact Duration, in seconds (numeric). \n",
    "12. campaign: Number of contacts performed during this campaign and for this client which includes last contact(numeric)\n",
    "13. pdays: Number of days that passed by after the client was last contacted from a previous campaign (numeric)\n",
    "14. previous: Number of contacts performed before this campaign and for this client (numeric)\n",
    "15. poutcome: Outcome of previous marketing campaign contacts (categorical)\n",
    "16. emp.var.rate: Employment Variation Rate - quarterly indicator (numeric)\n",
    "17. cons.price.idx: Consumer Price Index - monthly indicator (numeric)\n",
    "18. cons.conf.idx: Consumer Confidence Index - monthly indicator (numeric)\n",
    "19. euribor3m: Euribor 3 Month Rate - daily indicator (numeric)\n",
    "20. nr.employed: Number of Employees - quarterly indicator (numeric)\n",
    "\n",
    "### *Output Variable*:\n",
    "21. y - has the client subscribed a term deposit? (binary)\n",
    "\n",
    "There are two significant things to note from the description of the data.\n",
    "- The duration feature is highly affected by the output target (e.g., if duration=0 then y='no') therefore this feature should be discarded if the intention is to produce a realistic predictive model.\n",
    "- For the feature pdays, 999 means client was not previously contacted which depending on the model implemented may affect the implementation of this analysis’s preprocessing."
   ]
  },
  {
   "cell_type": "markdown",
   "id": "c994ce2e-d153-45ae-80e1-756617d8a1a5",
   "metadata": {
    "tags": []
   },
   "source": [
    "### Data Import"
   ]
  },
  {
   "cell_type": "code",
   "execution_count": 2,
   "id": "fd3b7569-ec9d-4d3b-9c8d-9951e03f1be9",
   "metadata": {},
   "outputs": [
    {
     "data": {
      "text/html": [
       "<div>\n",
       "<style scoped>\n",
       "    .dataframe tbody tr th:only-of-type {\n",
       "        vertical-align: middle;\n",
       "    }\n",
       "\n",
       "    .dataframe tbody tr th {\n",
       "        vertical-align: top;\n",
       "    }\n",
       "\n",
       "    .dataframe thead th {\n",
       "        text-align: right;\n",
       "    }\n",
       "</style>\n",
       "<table border=\"1\" class=\"dataframe\">\n",
       "  <thead>\n",
       "    <tr style=\"text-align: right;\">\n",
       "      <th></th>\n",
       "      <th>age</th>\n",
       "      <th>job</th>\n",
       "      <th>marital</th>\n",
       "      <th>education</th>\n",
       "      <th>default</th>\n",
       "      <th>housing</th>\n",
       "      <th>loan</th>\n",
       "      <th>contact</th>\n",
       "      <th>month</th>\n",
       "      <th>day_of_week</th>\n",
       "      <th>duration</th>\n",
       "      <th>campaign</th>\n",
       "      <th>pdays</th>\n",
       "      <th>previous</th>\n",
       "      <th>poutcome</th>\n",
       "      <th>emp.var.rate</th>\n",
       "      <th>cons.price.idx</th>\n",
       "      <th>cons.conf.idx</th>\n",
       "      <th>euribor3m</th>\n",
       "      <th>nr.employed</th>\n",
       "      <th>y</th>\n",
       "    </tr>\n",
       "  </thead>\n",
       "  <tbody>\n",
       "    <tr>\n",
       "      <th>0</th>\n",
       "      <td>56</td>\n",
       "      <td>housemaid</td>\n",
       "      <td>married</td>\n",
       "      <td>basic.4y</td>\n",
       "      <td>no</td>\n",
       "      <td>no</td>\n",
       "      <td>no</td>\n",
       "      <td>telephone</td>\n",
       "      <td>may</td>\n",
       "      <td>mon</td>\n",
       "      <td>261</td>\n",
       "      <td>1</td>\n",
       "      <td>999</td>\n",
       "      <td>0</td>\n",
       "      <td>nonexistent</td>\n",
       "      <td>1.1</td>\n",
       "      <td>93.994</td>\n",
       "      <td>-36.4</td>\n",
       "      <td>4.857</td>\n",
       "      <td>5191.0</td>\n",
       "      <td>no</td>\n",
       "    </tr>\n",
       "    <tr>\n",
       "      <th>1</th>\n",
       "      <td>57</td>\n",
       "      <td>services</td>\n",
       "      <td>married</td>\n",
       "      <td>high.school</td>\n",
       "      <td>unknown</td>\n",
       "      <td>no</td>\n",
       "      <td>no</td>\n",
       "      <td>telephone</td>\n",
       "      <td>may</td>\n",
       "      <td>mon</td>\n",
       "      <td>149</td>\n",
       "      <td>1</td>\n",
       "      <td>999</td>\n",
       "      <td>0</td>\n",
       "      <td>nonexistent</td>\n",
       "      <td>1.1</td>\n",
       "      <td>93.994</td>\n",
       "      <td>-36.4</td>\n",
       "      <td>4.857</td>\n",
       "      <td>5191.0</td>\n",
       "      <td>no</td>\n",
       "    </tr>\n",
       "    <tr>\n",
       "      <th>2</th>\n",
       "      <td>37</td>\n",
       "      <td>services</td>\n",
       "      <td>married</td>\n",
       "      <td>high.school</td>\n",
       "      <td>no</td>\n",
       "      <td>yes</td>\n",
       "      <td>no</td>\n",
       "      <td>telephone</td>\n",
       "      <td>may</td>\n",
       "      <td>mon</td>\n",
       "      <td>226</td>\n",
       "      <td>1</td>\n",
       "      <td>999</td>\n",
       "      <td>0</td>\n",
       "      <td>nonexistent</td>\n",
       "      <td>1.1</td>\n",
       "      <td>93.994</td>\n",
       "      <td>-36.4</td>\n",
       "      <td>4.857</td>\n",
       "      <td>5191.0</td>\n",
       "      <td>no</td>\n",
       "    </tr>\n",
       "    <tr>\n",
       "      <th>3</th>\n",
       "      <td>40</td>\n",
       "      <td>admin.</td>\n",
       "      <td>married</td>\n",
       "      <td>basic.6y</td>\n",
       "      <td>no</td>\n",
       "      <td>no</td>\n",
       "      <td>no</td>\n",
       "      <td>telephone</td>\n",
       "      <td>may</td>\n",
       "      <td>mon</td>\n",
       "      <td>151</td>\n",
       "      <td>1</td>\n",
       "      <td>999</td>\n",
       "      <td>0</td>\n",
       "      <td>nonexistent</td>\n",
       "      <td>1.1</td>\n",
       "      <td>93.994</td>\n",
       "      <td>-36.4</td>\n",
       "      <td>4.857</td>\n",
       "      <td>5191.0</td>\n",
       "      <td>no</td>\n",
       "    </tr>\n",
       "    <tr>\n",
       "      <th>4</th>\n",
       "      <td>56</td>\n",
       "      <td>services</td>\n",
       "      <td>married</td>\n",
       "      <td>high.school</td>\n",
       "      <td>no</td>\n",
       "      <td>no</td>\n",
       "      <td>yes</td>\n",
       "      <td>telephone</td>\n",
       "      <td>may</td>\n",
       "      <td>mon</td>\n",
       "      <td>307</td>\n",
       "      <td>1</td>\n",
       "      <td>999</td>\n",
       "      <td>0</td>\n",
       "      <td>nonexistent</td>\n",
       "      <td>1.1</td>\n",
       "      <td>93.994</td>\n",
       "      <td>-36.4</td>\n",
       "      <td>4.857</td>\n",
       "      <td>5191.0</td>\n",
       "      <td>no</td>\n",
       "    </tr>\n",
       "  </tbody>\n",
       "</table>\n",
       "</div>"
      ],
      "text/plain": [
       "   age        job  marital    education  default housing loan    contact  \\\n",
       "0   56  housemaid  married     basic.4y       no      no   no  telephone   \n",
       "1   57   services  married  high.school  unknown      no   no  telephone   \n",
       "2   37   services  married  high.school       no     yes   no  telephone   \n",
       "3   40     admin.  married     basic.6y       no      no   no  telephone   \n",
       "4   56   services  married  high.school       no      no  yes  telephone   \n",
       "\n",
       "  month day_of_week  duration  campaign  pdays  previous     poutcome  \\\n",
       "0   may         mon       261         1    999         0  nonexistent   \n",
       "1   may         mon       149         1    999         0  nonexistent   \n",
       "2   may         mon       226         1    999         0  nonexistent   \n",
       "3   may         mon       151         1    999         0  nonexistent   \n",
       "4   may         mon       307         1    999         0  nonexistent   \n",
       "\n",
       "   emp.var.rate  cons.price.idx  cons.conf.idx  euribor3m  nr.employed   y  \n",
       "0           1.1          93.994          -36.4      4.857       5191.0  no  \n",
       "1           1.1          93.994          -36.4      4.857       5191.0  no  \n",
       "2           1.1          93.994          -36.4      4.857       5191.0  no  \n",
       "3           1.1          93.994          -36.4      4.857       5191.0  no  \n",
       "4           1.1          93.994          -36.4      4.857       5191.0  no  "
      ]
     },
     "execution_count": 2,
     "metadata": {},
     "output_type": "execute_result"
    }
   ],
   "source": [
    "bank = pd.read_csv(\"bank-additional-full.csv\", delimiter=\";\")\n",
    "bank.head()"
   ]
  },
  {
   "cell_type": "markdown",
   "id": "e91f8858-6e3c-44f7-bbe4-6b00490037c8",
   "metadata": {},
   "source": [
    "### Dataset Description/Structure"
   ]
  },
  {
   "cell_type": "code",
   "execution_count": 3,
   "id": "15fde29f-dbbb-4732-a4f1-f86b1fba9070",
   "metadata": {},
   "outputs": [
    {
     "name": "stdout",
     "output_type": "stream",
     "text": [
      "The data has 21 features.\n",
      "The data has 41188 observations.\n"
     ]
    }
   ],
   "source": [
    "# dataset dimensions\n",
    "print(\"The data has\", bank.shape[1], \"features.\")\n",
    "print(\"The data has\", bank.shape[0], \"observations.\")"
   ]
  },
  {
   "cell_type": "code",
   "execution_count": 4,
   "id": "7a6c4cdb-534f-4ffa-be79-9861980b212f",
   "metadata": {},
   "outputs": [
    {
     "data": {
      "text/plain": [
       "age                 int64\n",
       "job                object\n",
       "marital            object\n",
       "education          object\n",
       "default            object\n",
       "housing            object\n",
       "loan               object\n",
       "contact            object\n",
       "month              object\n",
       "day_of_week        object\n",
       "duration            int64\n",
       "campaign            int64\n",
       "pdays               int64\n",
       "previous            int64\n",
       "poutcome           object\n",
       "emp.var.rate      float64\n",
       "cons.price.idx    float64\n",
       "cons.conf.idx     float64\n",
       "euribor3m         float64\n",
       "nr.employed       float64\n",
       "y                  object\n",
       "dtype: object"
      ]
     },
     "execution_count": 4,
     "metadata": {},
     "output_type": "execute_result"
    }
   ],
   "source": [
    "# feature datatypes\n",
    "bank.dtypes"
   ]
  },
  {
   "cell_type": "markdown",
   "id": "d2d4c9c3-de0e-4c7c-a561-208733a0fd54",
   "metadata": {},
   "source": [
    "## Univariate Analysis\n",
    "Since the data was pre-cleaned before being donated, there were no missing values. Descriptive statistics were determined to understand the relationships and features in the dataset. Table 1 shows the descriptive statistics including the mean, standard deviation, min, max, and percentiles. The numerical columns were analyzed to determine their distribution. Figure 1 shows histogram charts of each numerical feature. \"Duration\", \"Campaign\", and \"previous\" variables seemed to be  very rightly skewed. Variables  \"pdays\", \"emp.var.rate\", and \"nr.employed\" are heavily left skewed. The skewness of each feature was calculated and \"Duration\", \"campaign\", \"pdays\" and \"previous\" have the most skewness. Most features appeared to not have a normal distribution. \n",
    "\n",
    "Boxplots were used to look at numeric distributions in the dataset to search for potential outliers. We found that “duration” had a large quantity of outliers. Features such as “age”, “campaign”, “pdays”, “previous”, and “cons.conf.idx” had outliers as well (Figure 2). Ultimately, the outliers were kept in the dataset to maintain data representation and improve modeling results. Finally, our target feature was heavily unbalanced, with only 11.27% of observations answering \"yes.\" To combat the performance issues from this imbalance, we will utilize random undersampling to create an even target distribution. \n"
   ]
  },
  {
   "cell_type": "code",
   "execution_count": 5,
   "id": "9f90eb27-a61b-416d-8cec-65bfcac64a3a",
   "metadata": {},
   "outputs": [
    {
     "data": {
      "text/plain": [
       "age                 78\n",
       "job                 12\n",
       "marital              4\n",
       "education            8\n",
       "default              3\n",
       "housing              3\n",
       "loan                 3\n",
       "contact              2\n",
       "month               10\n",
       "day_of_week          5\n",
       "duration          1544\n",
       "campaign            42\n",
       "pdays               27\n",
       "previous             8\n",
       "poutcome             3\n",
       "emp.var.rate        10\n",
       "cons.price.idx      26\n",
       "cons.conf.idx       26\n",
       "euribor3m          316\n",
       "nr.employed         11\n",
       "y                    2\n",
       "dtype: int64"
      ]
     },
     "execution_count": 5,
     "metadata": {},
     "output_type": "execute_result"
    }
   ],
   "source": [
    "# counts of unique labels\n",
    "bank.nunique()"
   ]
  },
  {
   "cell_type": "code",
   "execution_count": 6,
   "id": "04cee45d-468d-41b1-85d9-cb3ed7928d82",
   "metadata": {},
   "outputs": [
    {
     "data": {
      "text/plain": [
       "age               0\n",
       "job               0\n",
       "marital           0\n",
       "education         0\n",
       "default           0\n",
       "housing           0\n",
       "loan              0\n",
       "contact           0\n",
       "month             0\n",
       "day_of_week       0\n",
       "duration          0\n",
       "campaign          0\n",
       "pdays             0\n",
       "previous          0\n",
       "poutcome          0\n",
       "emp.var.rate      0\n",
       "cons.price.idx    0\n",
       "cons.conf.idx     0\n",
       "euribor3m         0\n",
       "nr.employed       0\n",
       "y                 0\n",
       "dtype: int64"
      ]
     },
     "execution_count": 6,
     "metadata": {},
     "output_type": "execute_result"
    }
   ],
   "source": [
    "# missing data\n",
    "bank.isnull().sum()"
   ]
  },
  {
   "cell_type": "markdown",
   "id": "01333159-dba7-464b-85d2-cc7944f47954",
   "metadata": {
    "tags": []
   },
   "source": [
    "After partitioning by each feature, explicit missing data is not present thus imputation will not be required."
   ]
  },
  {
   "cell_type": "code",
   "execution_count": 7,
   "id": "0cd2385c",
   "metadata": {},
   "outputs": [
    {
     "name": "stdout",
     "output_type": "stream",
     "text": [
      "Table 1: Descriptive Statistics for Numeric Predictors\n"
     ]
    },
    {
     "data": {
      "text/html": [
       "<div>\n",
       "<style scoped>\n",
       "    .dataframe tbody tr th:only-of-type {\n",
       "        vertical-align: middle;\n",
       "    }\n",
       "\n",
       "    .dataframe tbody tr th {\n",
       "        vertical-align: top;\n",
       "    }\n",
       "\n",
       "    .dataframe thead th {\n",
       "        text-align: right;\n",
       "    }\n",
       "</style>\n",
       "<table border=\"1\" class=\"dataframe\">\n",
       "  <thead>\n",
       "    <tr style=\"text-align: right;\">\n",
       "      <th></th>\n",
       "      <th>age</th>\n",
       "      <th>duration</th>\n",
       "      <th>campaign</th>\n",
       "      <th>pdays</th>\n",
       "      <th>previous</th>\n",
       "      <th>emp.var.rate</th>\n",
       "      <th>cons.price.idx</th>\n",
       "      <th>cons.conf.idx</th>\n",
       "      <th>euribor3m</th>\n",
       "      <th>nr.employed</th>\n",
       "    </tr>\n",
       "  </thead>\n",
       "  <tbody>\n",
       "    <tr>\n",
       "      <th>count</th>\n",
       "      <td>41188.00000</td>\n",
       "      <td>41188.000000</td>\n",
       "      <td>41188.000000</td>\n",
       "      <td>41188.000000</td>\n",
       "      <td>41188.000000</td>\n",
       "      <td>41188.000000</td>\n",
       "      <td>41188.000000</td>\n",
       "      <td>41188.000000</td>\n",
       "      <td>41188.000000</td>\n",
       "      <td>41188.000000</td>\n",
       "    </tr>\n",
       "    <tr>\n",
       "      <th>mean</th>\n",
       "      <td>40.02406</td>\n",
       "      <td>258.285010</td>\n",
       "      <td>2.567593</td>\n",
       "      <td>962.475454</td>\n",
       "      <td>0.172963</td>\n",
       "      <td>0.081886</td>\n",
       "      <td>93.575664</td>\n",
       "      <td>-40.502600</td>\n",
       "      <td>3.621291</td>\n",
       "      <td>5167.035911</td>\n",
       "    </tr>\n",
       "    <tr>\n",
       "      <th>std</th>\n",
       "      <td>10.42125</td>\n",
       "      <td>259.279249</td>\n",
       "      <td>2.770014</td>\n",
       "      <td>186.910907</td>\n",
       "      <td>0.494901</td>\n",
       "      <td>1.570960</td>\n",
       "      <td>0.578840</td>\n",
       "      <td>4.628198</td>\n",
       "      <td>1.734447</td>\n",
       "      <td>72.251528</td>\n",
       "    </tr>\n",
       "    <tr>\n",
       "      <th>min</th>\n",
       "      <td>17.00000</td>\n",
       "      <td>0.000000</td>\n",
       "      <td>1.000000</td>\n",
       "      <td>0.000000</td>\n",
       "      <td>0.000000</td>\n",
       "      <td>-3.400000</td>\n",
       "      <td>92.201000</td>\n",
       "      <td>-50.800000</td>\n",
       "      <td>0.634000</td>\n",
       "      <td>4963.600000</td>\n",
       "    </tr>\n",
       "    <tr>\n",
       "      <th>25%</th>\n",
       "      <td>32.00000</td>\n",
       "      <td>102.000000</td>\n",
       "      <td>1.000000</td>\n",
       "      <td>999.000000</td>\n",
       "      <td>0.000000</td>\n",
       "      <td>-1.800000</td>\n",
       "      <td>93.075000</td>\n",
       "      <td>-42.700000</td>\n",
       "      <td>1.344000</td>\n",
       "      <td>5099.100000</td>\n",
       "    </tr>\n",
       "    <tr>\n",
       "      <th>50%</th>\n",
       "      <td>38.00000</td>\n",
       "      <td>180.000000</td>\n",
       "      <td>2.000000</td>\n",
       "      <td>999.000000</td>\n",
       "      <td>0.000000</td>\n",
       "      <td>1.100000</td>\n",
       "      <td>93.749000</td>\n",
       "      <td>-41.800000</td>\n",
       "      <td>4.857000</td>\n",
       "      <td>5191.000000</td>\n",
       "    </tr>\n",
       "    <tr>\n",
       "      <th>75%</th>\n",
       "      <td>47.00000</td>\n",
       "      <td>319.000000</td>\n",
       "      <td>3.000000</td>\n",
       "      <td>999.000000</td>\n",
       "      <td>0.000000</td>\n",
       "      <td>1.400000</td>\n",
       "      <td>93.994000</td>\n",
       "      <td>-36.400000</td>\n",
       "      <td>4.961000</td>\n",
       "      <td>5228.100000</td>\n",
       "    </tr>\n",
       "    <tr>\n",
       "      <th>max</th>\n",
       "      <td>98.00000</td>\n",
       "      <td>4918.000000</td>\n",
       "      <td>56.000000</td>\n",
       "      <td>999.000000</td>\n",
       "      <td>7.000000</td>\n",
       "      <td>1.400000</td>\n",
       "      <td>94.767000</td>\n",
       "      <td>-26.900000</td>\n",
       "      <td>5.045000</td>\n",
       "      <td>5228.100000</td>\n",
       "    </tr>\n",
       "  </tbody>\n",
       "</table>\n",
       "</div>"
      ],
      "text/plain": [
       "               age      duration      campaign         pdays      previous  \\\n",
       "count  41188.00000  41188.000000  41188.000000  41188.000000  41188.000000   \n",
       "mean      40.02406    258.285010      2.567593    962.475454      0.172963   \n",
       "std       10.42125    259.279249      2.770014    186.910907      0.494901   \n",
       "min       17.00000      0.000000      1.000000      0.000000      0.000000   \n",
       "25%       32.00000    102.000000      1.000000    999.000000      0.000000   \n",
       "50%       38.00000    180.000000      2.000000    999.000000      0.000000   \n",
       "75%       47.00000    319.000000      3.000000    999.000000      0.000000   \n",
       "max       98.00000   4918.000000     56.000000    999.000000      7.000000   \n",
       "\n",
       "       emp.var.rate  cons.price.idx  cons.conf.idx     euribor3m   nr.employed  \n",
       "count  41188.000000    41188.000000   41188.000000  41188.000000  41188.000000  \n",
       "mean       0.081886       93.575664     -40.502600      3.621291   5167.035911  \n",
       "std        1.570960        0.578840       4.628198      1.734447     72.251528  \n",
       "min       -3.400000       92.201000     -50.800000      0.634000   4963.600000  \n",
       "25%       -1.800000       93.075000     -42.700000      1.344000   5099.100000  \n",
       "50%        1.100000       93.749000     -41.800000      4.857000   5191.000000  \n",
       "75%        1.400000       93.994000     -36.400000      4.961000   5228.100000  \n",
       "max        1.400000       94.767000     -26.900000      5.045000   5228.100000  "
      ]
     },
     "execution_count": 7,
     "metadata": {},
     "output_type": "execute_result"
    }
   ],
   "source": [
    "# descriptive stats:\n",
    "print(\"Table 1: Descriptive Statistics for Numeric Predictors\")\n",
    "bank.describe()"
   ]
  },
  {
   "cell_type": "code",
   "execution_count": 8,
   "id": "d19694a9",
   "metadata": {},
   "outputs": [
    {
     "data": {
      "image/png": "[encoded data removed]",
      "text/plain": [
       "<Figure size 1440x1080 with 12 Axes>"
      ]
     },
     "metadata": {
      "needs_background": "light"
     },
     "output_type": "display_data"
    }
   ],
   "source": [
    "# distribution of numerical features\n",
    "bank.hist(figsize=(20,15),bins=5)\n",
    "plt.suptitle(\"Figure 1: Distribution of Numeric Predictors\", fontsize = 18)\n",
    "plt.show()"
   ]
  },
  {
   "cell_type": "markdown",
   "id": "edecebcd",
   "metadata": {},
   "source": [
    "\"Age\" seems most normally distributed but still appears to be right skewed. \"Duration\", \"Campaign\", and \"previous\" variables seem very rightly skewed. \"pdays\", \"emp.var.rate\", and \"nr.employed\" are heavily left skewed. Several variables don't have a normal distribution."
   ]
  },
  {
   "cell_type": "code",
   "execution_count": 9,
   "id": "d93fc9b1",
   "metadata": {},
   "outputs": [
    {
     "data": {
      "text/plain": [
       "age               0.784697\n",
       "duration          3.263141\n",
       "campaign          4.762507\n",
       "pdays            -4.922190\n",
       "previous          3.832042\n",
       "emp.var.rate     -0.724096\n",
       "cons.price.idx   -0.230888\n",
       "cons.conf.idx     0.303180\n",
       "euribor3m        -0.709188\n",
       "nr.employed      -1.044262\n",
       "dtype: float64"
      ]
     },
     "execution_count": 9,
     "metadata": {},
     "output_type": "execute_result"
    }
   ],
   "source": [
    "# calculating the skewness of numeric features\n",
    "bank.skew()"
   ]
  },
  {
   "cell_type": "markdown",
   "id": "18857fb9",
   "metadata": {},
   "source": [
    "\"Duration\", \"campaign\", \"pdays\" and \"previous\" have the most skewness"
   ]
  },
  {
   "cell_type": "code",
   "execution_count": 10,
   "id": "271e5f60",
   "metadata": {},
   "outputs": [
    {
     "data": {
      "image/png": "[encoded data removed]",
      "text/plain": [
       "<Figure size 1440x720 with 1 Axes>"
      ]
     },
     "metadata": {
      "needs_background": "light"
     },
     "output_type": "display_data"
    }
   ],
   "source": [
    "# outlier analysis\n",
    "plt.figure(figsize=(20,10))\n",
    "sns.boxplot(data = bank);\n",
    "plt.title('Figure 2: Boxplots of Numeric Columns', fontsize = 18)\n",
    "plt.show()"
   ]
  },
  {
   "cell_type": "markdown",
   "id": "732e69cb",
   "metadata": {},
   "source": [
    "Boxplots show outliers in \"duration\", \"campaign\", \"pdays\", \"previous\" and \"con.price.idx\""
   ]
  },
  {
   "cell_type": "code",
   "execution_count": 11,
   "id": "877ca05e-a235-4c84-ae22-c12651684c3b",
   "metadata": {},
   "outputs": [
    {
     "name": "stdout",
     "output_type": "stream",
     "text": [
      "4640 (11.27%) of observations responded yes to a term deposit\n",
      "36548 (88.73%) of observations responded no to a term deposit\n"
     ]
    }
   ],
   "source": [
    "#identify\n",
    "y_count = bank.groupby(['y'])['y'].count()\n",
    "yes_per = round(y_count.yes/bank.shape[0]*100,2)\n",
    "no_per = round(y_count.no/bank.shape[0]*100,2)\n",
    "\n",
    "print(y_count.yes, \"(\" + str(yes_per) + \"%)\", \"of observations responded yes to a term deposit\")\n",
    "print(y_count.no, \"(\" + str(no_per) + \"%)\", \"of observations responded no to a term deposit\")\n"
   ]
  },
  {
   "cell_type": "code",
   "execution_count": 44,
   "id": "4e4c3cac-117b-4808-b9d7-8d8441cbf59f",
   "metadata": {
    "scrolled": false
   },
   "outputs": [
    {
     "data": {
      "image/png": "[encoded data removed]",
      "text/plain": [
       "<Figure size 576x576 with 1 Axes>"
      ]
     },
     "metadata": {
      "needs_background": "light"
     },
     "output_type": "display_data"
    }
   ],
   "source": [
    "sns.countplot(x = bank['y'])\n",
    "plt.title(\"Current Reponse Rates: Wasted Time and Money Randomly Calling\", fontsize = 18)\n",
    "plt.xlabel(\"Response to Marketing Call\", fontsize = 14)\n",
    "plt.ylabel(\"Count\", fontsize = 14)\n",
    "plt.gcf().set_size_inches(8,8)\n",
    "plt.show()"
   ]
  },
  {
   "cell_type": "code",
   "execution_count": 19,
   "id": "3cdb22a9",
   "metadata": {},
   "outputs": [
    {
     "name": "stdout",
     "output_type": "stream",
     "text": [
      "894 (65.11%) of prior customers responded yes to a term deposit\n",
      "479 (34.89%) of prior customers responded no to a term deposit\n"
     ]
    }
   ],
   "source": [
    "# identify prior customers likehood to subscribe\n",
    "prior_cust = bank[bank['poutcome']=='success']\n",
    "\n",
    "y_count = prior_cust.groupby(['y'])['y'].count()\n",
    "yes_per = round(y_count.yes/prior_cust.shape[0]*100,2)\n",
    "no_per = round(y_count.no/prior_cust.shape[0]*100,2)\n",
    "\n",
    "print(y_count.yes, \"(\" + str(yes_per) + \"%)\", \"of prior customers responded yes to a term deposit\")\n",
    "print(y_count.no, \"(\" + str(no_per) + \"%)\", \"of prior customers responded no to a term deposit\")"
   ]
  },
  {
   "cell_type": "code",
   "execution_count": 20,
   "id": "823cacca",
   "metadata": {},
   "outputs": [
    {
     "data": {
      "image/png": "[encoded data removed]",
      "text/plain": [
       "<Figure size 576x576 with 1 Axes>"
      ]
     },
     "metadata": {
      "needs_background": "light"
     },
     "output_type": "display_data"
    }
   ],
   "source": [
    "sns.countplot(x = prior_cust['y'])\n",
    "plt.title(\"Reponse Rates of Prior Term Deposit Subscribers\", fontsize = 18)\n",
    "plt.xlabel(\"Response to Marketing Call\", fontsize = 14)\n",
    "plt.ylabel(\"Count\", fontsize = 14)\n",
    "plt.gcf().set_size_inches(8,8)\n",
    "plt.show()"
   ]
  },
  {
   "cell_type": "markdown",
   "id": "cd26b6fe",
   "metadata": {},
   "source": [
    "Based on the distribution target labels, the directing marketing calls observe a default success rate"
   ]
  },
  {
   "cell_type": "markdown",
   "id": "f398dc11-5ba2-42c3-add6-c648adfa79e0",
   "metadata": {},
   "source": [
    "### Bivariate Analysis & Feature Selection\n",
    "For the purpose of exploring the bivariate relationships between predictive features, categorical variables will be one-hot encoded. Findings will not be directly implemented on the working dataframe since this analysis will opt to implement these findings in pipeline.\n",
    "\n",
    "In this application, the target variable has been re-encoded as y_yes"
   ]
  },
  {
   "cell_type": "code",
   "execution_count": 12,
   "id": "3e7c56e1-5263-4633-a2ba-3042fa2fa6ec",
   "metadata": {},
   "outputs": [
    {
     "data": {
      "text/html": [
       "<div>\n",
       "<style scoped>\n",
       "    .dataframe tbody tr th:only-of-type {\n",
       "        vertical-align: middle;\n",
       "    }\n",
       "\n",
       "    .dataframe tbody tr th {\n",
       "        vertical-align: top;\n",
       "    }\n",
       "\n",
       "    .dataframe thead th {\n",
       "        text-align: right;\n",
       "    }\n",
       "</style>\n",
       "<table border=\"1\" class=\"dataframe\">\n",
       "  <thead>\n",
       "    <tr style=\"text-align: right;\">\n",
       "      <th></th>\n",
       "      <th>job_blue-collar</th>\n",
       "      <th>job_entrepreneur</th>\n",
       "      <th>job_housemaid</th>\n",
       "      <th>job_management</th>\n",
       "      <th>job_retired</th>\n",
       "      <th>job_self-employed</th>\n",
       "      <th>job_services</th>\n",
       "      <th>job_student</th>\n",
       "      <th>job_technician</th>\n",
       "      <th>job_unemployed</th>\n",
       "      <th>job_unknown</th>\n",
       "      <th>marital_married</th>\n",
       "      <th>marital_single</th>\n",
       "      <th>marital_unknown</th>\n",
       "      <th>education_basic.6y</th>\n",
       "      <th>education_basic.9y</th>\n",
       "      <th>education_high.school</th>\n",
       "      <th>education_illiterate</th>\n",
       "      <th>education_professional.course</th>\n",
       "      <th>education_university.degree</th>\n",
       "      <th>education_unknown</th>\n",
       "      <th>default_unknown</th>\n",
       "      <th>default_yes</th>\n",
       "      <th>housing_unknown</th>\n",
       "      <th>housing_yes</th>\n",
       "      <th>loan_unknown</th>\n",
       "      <th>loan_yes</th>\n",
       "      <th>contact_telephone</th>\n",
       "      <th>month_aug</th>\n",
       "      <th>month_dec</th>\n",
       "      <th>month_jul</th>\n",
       "      <th>month_jun</th>\n",
       "      <th>month_mar</th>\n",
       "      <th>month_may</th>\n",
       "      <th>month_nov</th>\n",
       "      <th>month_oct</th>\n",
       "      <th>month_sep</th>\n",
       "      <th>day_of_week_mon</th>\n",
       "      <th>day_of_week_thu</th>\n",
       "      <th>day_of_week_tue</th>\n",
       "      <th>day_of_week_wed</th>\n",
       "      <th>poutcome_nonexistent</th>\n",
       "      <th>poutcome_success</th>\n",
       "      <th>y_yes</th>\n",
       "      <th>age</th>\n",
       "      <th>duration</th>\n",
       "      <th>campaign</th>\n",
       "      <th>pdays</th>\n",
       "      <th>previous</th>\n",
       "      <th>emp.var.rate</th>\n",
       "      <th>cons.price.idx</th>\n",
       "      <th>cons.conf.idx</th>\n",
       "      <th>euribor3m</th>\n",
       "      <th>nr.employed</th>\n",
       "    </tr>\n",
       "  </thead>\n",
       "  <tbody>\n",
       "    <tr>\n",
       "      <th>0</th>\n",
       "      <td>0.0</td>\n",
       "      <td>0.0</td>\n",
       "      <td>1.0</td>\n",
       "      <td>0.0</td>\n",
       "      <td>0.0</td>\n",
       "      <td>0.0</td>\n",
       "      <td>0.0</td>\n",
       "      <td>0.0</td>\n",
       "      <td>0.0</td>\n",
       "      <td>0.0</td>\n",
       "      <td>0.0</td>\n",
       "      <td>1.0</td>\n",
       "      <td>0.0</td>\n",
       "      <td>0.0</td>\n",
       "      <td>0.0</td>\n",
       "      <td>0.0</td>\n",
       "      <td>0.0</td>\n",
       "      <td>0.0</td>\n",
       "      <td>0.0</td>\n",
       "      <td>0.0</td>\n",
       "      <td>0.0</td>\n",
       "      <td>0.0</td>\n",
       "      <td>0.0</td>\n",
       "      <td>0.0</td>\n",
       "      <td>0.0</td>\n",
       "      <td>0.0</td>\n",
       "      <td>0.0</td>\n",
       "      <td>1.0</td>\n",
       "      <td>0.0</td>\n",
       "      <td>0.0</td>\n",
       "      <td>0.0</td>\n",
       "      <td>0.0</td>\n",
       "      <td>0.0</td>\n",
       "      <td>1.0</td>\n",
       "      <td>0.0</td>\n",
       "      <td>0.0</td>\n",
       "      <td>0.0</td>\n",
       "      <td>1.0</td>\n",
       "      <td>0.0</td>\n",
       "      <td>0.0</td>\n",
       "      <td>0.0</td>\n",
       "      <td>1.0</td>\n",
       "      <td>0.0</td>\n",
       "      <td>0.0</td>\n",
       "      <td>56</td>\n",
       "      <td>261</td>\n",
       "      <td>1</td>\n",
       "      <td>999</td>\n",
       "      <td>0</td>\n",
       "      <td>1.1</td>\n",
       "      <td>93.994</td>\n",
       "      <td>-36.4</td>\n",
       "      <td>4.857</td>\n",
       "      <td>5191.0</td>\n",
       "    </tr>\n",
       "    <tr>\n",
       "      <th>1</th>\n",
       "      <td>0.0</td>\n",
       "      <td>0.0</td>\n",
       "      <td>0.0</td>\n",
       "      <td>0.0</td>\n",
       "      <td>0.0</td>\n",
       "      <td>0.0</td>\n",
       "      <td>1.0</td>\n",
       "      <td>0.0</td>\n",
       "      <td>0.0</td>\n",
       "      <td>0.0</td>\n",
       "      <td>0.0</td>\n",
       "      <td>1.0</td>\n",
       "      <td>0.0</td>\n",
       "      <td>0.0</td>\n",
       "      <td>0.0</td>\n",
       "      <td>0.0</td>\n",
       "      <td>1.0</td>\n",
       "      <td>0.0</td>\n",
       "      <td>0.0</td>\n",
       "      <td>0.0</td>\n",
       "      <td>0.0</td>\n",
       "      <td>1.0</td>\n",
       "      <td>0.0</td>\n",
       "      <td>0.0</td>\n",
       "      <td>0.0</td>\n",
       "      <td>0.0</td>\n",
       "      <td>0.0</td>\n",
       "      <td>1.0</td>\n",
       "      <td>0.0</td>\n",
       "      <td>0.0</td>\n",
       "      <td>0.0</td>\n",
       "      <td>0.0</td>\n",
       "      <td>0.0</td>\n",
       "      <td>1.0</td>\n",
       "      <td>0.0</td>\n",
       "      <td>0.0</td>\n",
       "      <td>0.0</td>\n",
       "      <td>1.0</td>\n",
       "      <td>0.0</td>\n",
       "      <td>0.0</td>\n",
       "      <td>0.0</td>\n",
       "      <td>1.0</td>\n",
       "      <td>0.0</td>\n",
       "      <td>0.0</td>\n",
       "      <td>57</td>\n",
       "      <td>149</td>\n",
       "      <td>1</td>\n",
       "      <td>999</td>\n",
       "      <td>0</td>\n",
       "      <td>1.1</td>\n",
       "      <td>93.994</td>\n",
       "      <td>-36.4</td>\n",
       "      <td>4.857</td>\n",
       "      <td>5191.0</td>\n",
       "    </tr>\n",
       "    <tr>\n",
       "      <th>2</th>\n",
       "      <td>0.0</td>\n",
       "      <td>0.0</td>\n",
       "      <td>0.0</td>\n",
       "      <td>0.0</td>\n",
       "      <td>0.0</td>\n",
       "      <td>0.0</td>\n",
       "      <td>1.0</td>\n",
       "      <td>0.0</td>\n",
       "      <td>0.0</td>\n",
       "      <td>0.0</td>\n",
       "      <td>0.0</td>\n",
       "      <td>1.0</td>\n",
       "      <td>0.0</td>\n",
       "      <td>0.0</td>\n",
       "      <td>0.0</td>\n",
       "      <td>0.0</td>\n",
       "      <td>1.0</td>\n",
       "      <td>0.0</td>\n",
       "      <td>0.0</td>\n",
       "      <td>0.0</td>\n",
       "      <td>0.0</td>\n",
       "      <td>0.0</td>\n",
       "      <td>0.0</td>\n",
       "      <td>0.0</td>\n",
       "      <td>1.0</td>\n",
       "      <td>0.0</td>\n",
       "      <td>0.0</td>\n",
       "      <td>1.0</td>\n",
       "      <td>0.0</td>\n",
       "      <td>0.0</td>\n",
       "      <td>0.0</td>\n",
       "      <td>0.0</td>\n",
       "      <td>0.0</td>\n",
       "      <td>1.0</td>\n",
       "      <td>0.0</td>\n",
       "      <td>0.0</td>\n",
       "      <td>0.0</td>\n",
       "      <td>1.0</td>\n",
       "      <td>0.0</td>\n",
       "      <td>0.0</td>\n",
       "      <td>0.0</td>\n",
       "      <td>1.0</td>\n",
       "      <td>0.0</td>\n",
       "      <td>0.0</td>\n",
       "      <td>37</td>\n",
       "      <td>226</td>\n",
       "      <td>1</td>\n",
       "      <td>999</td>\n",
       "      <td>0</td>\n",
       "      <td>1.1</td>\n",
       "      <td>93.994</td>\n",
       "      <td>-36.4</td>\n",
       "      <td>4.857</td>\n",
       "      <td>5191.0</td>\n",
       "    </tr>\n",
       "    <tr>\n",
       "      <th>3</th>\n",
       "      <td>0.0</td>\n",
       "      <td>0.0</td>\n",
       "      <td>0.0</td>\n",
       "      <td>0.0</td>\n",
       "      <td>0.0</td>\n",
       "      <td>0.0</td>\n",
       "      <td>0.0</td>\n",
       "      <td>0.0</td>\n",
       "      <td>0.0</td>\n",
       "      <td>0.0</td>\n",
       "      <td>0.0</td>\n",
       "      <td>1.0</td>\n",
       "      <td>0.0</td>\n",
       "      <td>0.0</td>\n",
       "      <td>1.0</td>\n",
       "      <td>0.0</td>\n",
       "      <td>0.0</td>\n",
       "      <td>0.0</td>\n",
       "      <td>0.0</td>\n",
       "      <td>0.0</td>\n",
       "      <td>0.0</td>\n",
       "      <td>0.0</td>\n",
       "      <td>0.0</td>\n",
       "      <td>0.0</td>\n",
       "      <td>0.0</td>\n",
       "      <td>0.0</td>\n",
       "      <td>0.0</td>\n",
       "      <td>1.0</td>\n",
       "      <td>0.0</td>\n",
       "      <td>0.0</td>\n",
       "      <td>0.0</td>\n",
       "      <td>0.0</td>\n",
       "      <td>0.0</td>\n",
       "      <td>1.0</td>\n",
       "      <td>0.0</td>\n",
       "      <td>0.0</td>\n",
       "      <td>0.0</td>\n",
       "      <td>1.0</td>\n",
       "      <td>0.0</td>\n",
       "      <td>0.0</td>\n",
       "      <td>0.0</td>\n",
       "      <td>1.0</td>\n",
       "      <td>0.0</td>\n",
       "      <td>0.0</td>\n",
       "      <td>40</td>\n",
       "      <td>151</td>\n",
       "      <td>1</td>\n",
       "      <td>999</td>\n",
       "      <td>0</td>\n",
       "      <td>1.1</td>\n",
       "      <td>93.994</td>\n",
       "      <td>-36.4</td>\n",
       "      <td>4.857</td>\n",
       "      <td>5191.0</td>\n",
       "    </tr>\n",
       "    <tr>\n",
       "      <th>4</th>\n",
       "      <td>0.0</td>\n",
       "      <td>0.0</td>\n",
       "      <td>0.0</td>\n",
       "      <td>0.0</td>\n",
       "      <td>0.0</td>\n",
       "      <td>0.0</td>\n",
       "      <td>1.0</td>\n",
       "      <td>0.0</td>\n",
       "      <td>0.0</td>\n",
       "      <td>0.0</td>\n",
       "      <td>0.0</td>\n",
       "      <td>1.0</td>\n",
       "      <td>0.0</td>\n",
       "      <td>0.0</td>\n",
       "      <td>0.0</td>\n",
       "      <td>0.0</td>\n",
       "      <td>1.0</td>\n",
       "      <td>0.0</td>\n",
       "      <td>0.0</td>\n",
       "      <td>0.0</td>\n",
       "      <td>0.0</td>\n",
       "      <td>0.0</td>\n",
       "      <td>0.0</td>\n",
       "      <td>0.0</td>\n",
       "      <td>0.0</td>\n",
       "      <td>0.0</td>\n",
       "      <td>1.0</td>\n",
       "      <td>1.0</td>\n",
       "      <td>0.0</td>\n",
       "      <td>0.0</td>\n",
       "      <td>0.0</td>\n",
       "      <td>0.0</td>\n",
       "      <td>0.0</td>\n",
       "      <td>1.0</td>\n",
       "      <td>0.0</td>\n",
       "      <td>0.0</td>\n",
       "      <td>0.0</td>\n",
       "      <td>1.0</td>\n",
       "      <td>0.0</td>\n",
       "      <td>0.0</td>\n",
       "      <td>0.0</td>\n",
       "      <td>1.0</td>\n",
       "      <td>0.0</td>\n",
       "      <td>0.0</td>\n",
       "      <td>56</td>\n",
       "      <td>307</td>\n",
       "      <td>1</td>\n",
       "      <td>999</td>\n",
       "      <td>0</td>\n",
       "      <td>1.1</td>\n",
       "      <td>93.994</td>\n",
       "      <td>-36.4</td>\n",
       "      <td>4.857</td>\n",
       "      <td>5191.0</td>\n",
       "    </tr>\n",
       "  </tbody>\n",
       "</table>\n",
       "</div>"
      ],
      "text/plain": [
       "   job_blue-collar  job_entrepreneur  job_housemaid  job_management  \\\n",
       "0              0.0               0.0            1.0             0.0   \n",
       "1              0.0               0.0            0.0             0.0   \n",
       "2              0.0               0.0            0.0             0.0   \n",
       "3              0.0               0.0            0.0             0.0   \n",
       "4              0.0               0.0            0.0             0.0   \n",
       "\n",
       "   job_retired  job_self-employed  job_services  job_student  job_technician  \\\n",
       "0          0.0                0.0           0.0          0.0             0.0   \n",
       "1          0.0                0.0           1.0          0.0             0.0   \n",
       "2          0.0                0.0           1.0          0.0             0.0   \n",
       "3          0.0                0.0           0.0          0.0             0.0   \n",
       "4          0.0                0.0           1.0          0.0             0.0   \n",
       "\n",
       "   job_unemployed  job_unknown  marital_married  marital_single  \\\n",
       "0             0.0          0.0              1.0             0.0   \n",
       "1             0.0          0.0              1.0             0.0   \n",
       "2             0.0          0.0              1.0             0.0   \n",
       "3             0.0          0.0              1.0             0.0   \n",
       "4             0.0          0.0              1.0             0.0   \n",
       "\n",
       "   marital_unknown  education_basic.6y  education_basic.9y  \\\n",
       "0              0.0                 0.0                 0.0   \n",
       "1              0.0                 0.0                 0.0   \n",
       "2              0.0                 0.0                 0.0   \n",
       "3              0.0                 1.0                 0.0   \n",
       "4              0.0                 0.0                 0.0   \n",
       "\n",
       "   education_high.school  education_illiterate  education_professional.course  \\\n",
       "0                    0.0                   0.0                            0.0   \n",
       "1                    1.0                   0.0                            0.0   \n",
       "2                    1.0                   0.0                            0.0   \n",
       "3                    0.0                   0.0                            0.0   \n",
       "4                    1.0                   0.0                            0.0   \n",
       "\n",
       "   education_university.degree  education_unknown  default_unknown  \\\n",
       "0                          0.0                0.0              0.0   \n",
       "1                          0.0                0.0              1.0   \n",
       "2                          0.0                0.0              0.0   \n",
       "3                          0.0                0.0              0.0   \n",
       "4                          0.0                0.0              0.0   \n",
       "\n",
       "   default_yes  housing_unknown  housing_yes  loan_unknown  loan_yes  \\\n",
       "0          0.0              0.0          0.0           0.0       0.0   \n",
       "1          0.0              0.0          0.0           0.0       0.0   \n",
       "2          0.0              0.0          1.0           0.0       0.0   \n",
       "3          0.0              0.0          0.0           0.0       0.0   \n",
       "4          0.0              0.0          0.0           0.0       1.0   \n",
       "\n",
       "   contact_telephone  month_aug  month_dec  month_jul  month_jun  month_mar  \\\n",
       "0                1.0        0.0        0.0        0.0        0.0        0.0   \n",
       "1                1.0        0.0        0.0        0.0        0.0        0.0   \n",
       "2                1.0        0.0        0.0        0.0        0.0        0.0   \n",
       "3                1.0        0.0        0.0        0.0        0.0        0.0   \n",
       "4                1.0        0.0        0.0        0.0        0.0        0.0   \n",
       "\n",
       "   month_may  month_nov  month_oct  month_sep  day_of_week_mon  \\\n",
       "0        1.0        0.0        0.0        0.0              1.0   \n",
       "1        1.0        0.0        0.0        0.0              1.0   \n",
       "2        1.0        0.0        0.0        0.0              1.0   \n",
       "3        1.0        0.0        0.0        0.0              1.0   \n",
       "4        1.0        0.0        0.0        0.0              1.0   \n",
       "\n",
       "   day_of_week_thu  day_of_week_tue  day_of_week_wed  poutcome_nonexistent  \\\n",
       "0              0.0              0.0              0.0                   1.0   \n",
       "1              0.0              0.0              0.0                   1.0   \n",
       "2              0.0              0.0              0.0                   1.0   \n",
       "3              0.0              0.0              0.0                   1.0   \n",
       "4              0.0              0.0              0.0                   1.0   \n",
       "\n",
       "   poutcome_success  y_yes  age  duration  campaign  pdays  previous  \\\n",
       "0               0.0    0.0   56       261         1    999         0   \n",
       "1               0.0    0.0   57       149         1    999         0   \n",
       "2               0.0    0.0   37       226         1    999         0   \n",
       "3               0.0    0.0   40       151         1    999         0   \n",
       "4               0.0    0.0   56       307         1    999         0   \n",
       "\n",
       "   emp.var.rate  cons.price.idx  cons.conf.idx  euribor3m  nr.employed  \n",
       "0           1.1          93.994          -36.4      4.857       5191.0  \n",
       "1           1.1          93.994          -36.4      4.857       5191.0  \n",
       "2           1.1          93.994          -36.4      4.857       5191.0  \n",
       "3           1.1          93.994          -36.4      4.857       5191.0  \n",
       "4           1.1          93.994          -36.4      4.857       5191.0  "
      ]
     },
     "execution_count": 12,
     "metadata": {},
     "output_type": "execute_result"
    }
   ],
   "source": [
    "bank_cat = bank.select_dtypes('object')\n",
    "bank_num = bank.select_dtypes(['float64', 'int64'])\n",
    "OH_encoder = OneHotEncoder(drop = 'first', sparse=False)\n",
    "bank_coded = OH_encoder.fit_transform(bank_cat)\n",
    "bank_coded = pd.DataFrame(bank_coded, columns = OH_encoder.get_feature_names_out())\n",
    "bank_coded = pd.concat([bank_coded, bank_num], axis = 1)\n",
    "bank_coded.head()"
   ]
  },
  {
   "cell_type": "markdown",
   "id": "f05cb806-3262-436e-9f68-a13d3f88d4bf",
   "metadata": {},
   "source": [
    "### Near Zero Variance Analysis"
   ]
  },
  {
   "cell_type": "code",
   "execution_count": 13,
   "id": "cd2fbb0f-93c7-439d-854b-b399e7be85c1",
   "metadata": {},
   "outputs": [
    {
     "name": "stdout",
     "output_type": "stream",
     "text": [
      "job_entrepreneur\n",
      "job_housemaid\n",
      "job_management\n",
      "job_retired\n",
      "job_self-employed\n",
      "job_services\n",
      "job_student\n",
      "job_unemployed\n",
      "job_unknown\n",
      "marital_unknown\n",
      "education_basic.6y\n",
      "education_illiterate\n",
      "education_unknown\n",
      "default_yes\n",
      "housing_unknown\n",
      "loan_unknown\n",
      "month_dec\n",
      "month_mar\n",
      "month_nov\n",
      "month_oct\n",
      "month_sep\n",
      "poutcome_success\n"
     ]
    }
   ],
   "source": [
    "X = bank_coded.drop(columns = ['y_yes'])\n",
    "y = bank_coded['y_yes']\n",
    "low_var = VarianceThreshold(threshold=0.1)\n",
    "low_var.fit(X)\n",
    "dropcols = [column for column in X.columns\n",
    "           if column not in\n",
    "X.columns[low_var.get_support()]]\n",
    "for features in dropcols:\n",
    "    print(features)\n",
    "    \n",
    "X_highvar = X.drop(dropcols, axis = 1)"
   ]
  },
  {
   "cell_type": "markdown",
   "id": "c48c2b7c",
   "metadata": {},
   "source": [
    "Interestingly, many of labels for occupation have very little representation. A similiar situation is noted for the labels of the feature month."
   ]
  },
  {
   "cell_type": "markdown",
   "id": "060b8c5a-2454-497f-b408-16b272277ddb",
   "metadata": {},
   "source": [
    "### Multicollinearity Analysis"
   ]
  },
  {
   "cell_type": "code",
   "execution_count": 14,
   "id": "42e0d620-3999-4f0f-9bc1-cb25763599aa",
   "metadata": {},
   "outputs": [
    {
     "data": {
      "image/png": "[encoded data removed]",
      "text/plain": [
       "<Figure size 1152x864 with 2 Axes>"
      ]
     },
     "metadata": {
      "needs_background": "light"
     },
     "output_type": "display_data"
    }
   ],
   "source": [
    "plt.figure(figsize = (16,12))\n",
    "sns.heatmap(bank_coded.corr())\n",
    "plt.title(\"Figure 3: Correlation between Features on Coded Dataset\", fontsize = 16)\n",
    "plt.show()"
   ]
  },
  {
   "cell_type": "code",
   "execution_count": 15,
   "id": "5e0fa793-51d2-407e-9b2c-ad8f1c14c852",
   "metadata": {},
   "outputs": [
    {
     "data": {
      "text/plain": [
       "['poutcome_nonexistent',\n",
       " 'age',\n",
       " 'pdays',\n",
       " 'emp.var.rate',\n",
       " 'cons.price.idx',\n",
       " 'cons.conf.idx',\n",
       " 'euribor3m',\n",
       " 'nr.employed']"
      ]
     },
     "execution_count": 15,
     "metadata": {},
     "output_type": "execute_result"
    }
   ],
   "source": [
    "X_vif = pd.DataFrame()\n",
    "X_vif['variable'] = X_highvar.columns\n",
    "X_vif['vif'] = [variance_inflation_factor(X_highvar.values, i)\n",
    "               for i in range(len(X_highvar.columns))]\n",
    "# housing_no and loan_no were perfectly correlated with their counterparts so we'll remove them\n",
    "X_clean = X_highvar #.drop(columns = ['housing_no', 'loan_no'])\n",
    "X_vif = pd.DataFrame()\n",
    "X_vif['variable'] = X_clean.columns\n",
    "X_vif['vif'] = [variance_inflation_factor(X_clean.values, i)\n",
    "               for i in range(len(X_clean.columns))]\n",
    "drop = list(X_vif[X_vif['vif']>10].variable)\n",
    "drop"
   ]
  },
  {
   "cell_type": "markdown",
   "id": "59ea220d",
   "metadata": {},
   "source": [
    "Features of note flagged by VIF analysis include 'age', 'pdays', 'emp.var.rate', 'cons.price.idx', 'cons.conf.idx','euribor3m', and 'nr.employed'. Modeling using this reduced feature set significantly impacted predictive performance"
   ]
  },
  {
   "cell_type": "markdown",
   "id": "dc8d467d-4270-485c-8976-97eaed9736c9",
   "metadata": {},
   "source": [
    "# Preprocessing and Splitting\n",
    "\n",
    "Given that this analysis uses pipelines to validate the sub components, all that's necessary in terms of explicit data preparation is partitioning the data into train and test splits, resampling the training set and specifying features into their respective categories for column transformations.\n",
    "\n",
    "### Data Preparation"
   ]
  },
  {
   "cell_type": "code",
   "execution_count": 17,
   "id": "0cbe76e3",
   "metadata": {},
   "outputs": [],
   "source": [
    "# specifying predictive and target features\n",
    "X = bank.drop(columns = ['y'])\n",
    "y = bank[['y']]\n",
    "\n",
    "# encoding target feature labels as 0's and 1's\n",
    "oe = OrdinalEncoder()\n",
    "y = oe.fit_transform(y)"
   ]
  },
  {
   "cell_type": "code",
   "execution_count": 18,
   "id": "fde1d033",
   "metadata": {},
   "outputs": [
    {
     "data": {
      "text/plain": [
       "Index(['age', 'job', 'marital', 'education', 'default', 'housing', 'loan',\n",
       "       'contact', 'month', 'day_of_week', 'duration', 'campaign', 'pdays',\n",
       "       'previous', 'poutcome', 'emp.var.rate', 'cons.price.idx',\n",
       "       'cons.conf.idx', 'euribor3m', 'nr.employed'],\n",
       "      dtype='object')"
      ]
     },
     "execution_count": 18,
     "metadata": {},
     "output_type": "execute_result"
    }
   ],
   "source": [
    "# column names\n",
    "X.columns"
   ]
  },
  {
   "cell_type": "code",
   "execution_count": 19,
   "id": "eeeca9a6",
   "metadata": {},
   "outputs": [],
   "source": [
    "# creating train/test split where test represents the out of sample performance used\n",
    "# to approximate real world performance\n",
    "X_train, X_test, y_train, y_test = train_test_split(X, \n",
    "                                                    y, \n",
    "                                                    test_size=0.2, \n",
    "                                                    random_state=123)\n",
    "\n",
    "# resampling training set using undersampling\n",
    "undersampler = RandomUnderSampler(random_state = 123)\n",
    "X_train, y_train = undersampler.fit_resample(X_train, y_train)"
   ]
  },
  {
   "cell_type": "code",
   "execution_count": 20,
   "id": "f07ce453",
   "metadata": {},
   "outputs": [],
   "source": [
    "# categorical features to be used in modeling\n",
    "cat_variables = ['job', \n",
    "                 'marital', \n",
    "                 'education', \n",
    "                 'default', \n",
    "                 'housing', \n",
    "                 'loan', \n",
    "                 'contact', \n",
    "                 'month', \n",
    "                 'day_of_week', \n",
    "                 'poutcome']\n",
    "# numeric features to be used in modeling\n",
    "num_variables = ['age',\n",
    "                 #'duration', this feature is removed since feature cannot be determined before contact\n",
    "                 'campaign',\n",
    "                 'pdays',\n",
    "                 'previous',\n",
    "                 'emp.var.rate', \n",
    "                 'cons.conf.idx', \n",
    "                 'euribor3m', \n",
    "                 'nr.employed']"
   ]
  },
  {
   "cell_type": "markdown",
   "id": "d754ac07-40bd-4f22-80f1-c75cd42cc14a",
   "metadata": {},
   "source": [
    "# Modeling\n",
    "\n",
    "Each model followed a similar pipeline structure to ensure consistent tuning and efficient scaling. Each full pipeline began with a categorical feature pipeline that imputed missing values with the string \"Unknown\" and then one-hot encoded each feature. Next, our pipeline imputed missing numeric features with the median of the feature in question. Each numeric feature was also standardized based on the training data, except in the case of the k-nearest neighbors model where min-max scaling was used instead. \n",
    "\n",
    "Next, the pipeline focused on feature selection. We removed predictors with low variances, tuning the threshold by testing variances 0 to 0.1. We also implemented k-best feature selection into the pipeline, tuning k by testing 1 to 26 predictors. Then the pipeline ends with hyperparameter tuning for the respective model. \n",
    "\n",
    "To tune each model, we utilized stratified five-fold cross-validation with a randomized search through each hyperparameter search space. We returned the model with the greatest recall and then created predictions on the test dataset. Finally, we calculated a variety of metrics based on the test data for later comparison."
   ]
  },
  {
   "cell_type": "markdown",
   "id": "3cb7cad0-d123-4c58-ba31-cb3486ebcf7b",
   "metadata": {},
   "source": [
    "### k-Nearest Neighbors\n",
    "\n",
    "Our k-nearest neighbor model was tuned utilizing Scikit-learn's KNeighborsClassifier (Pedregosa et al., 2011). We evaluated using 1 to 25 neighbors and if our weights should be uniform or distance-based. Our optimal hyperparameter values were: 0.1 for the variance minimum, the top 24-best features, 23 neighbors, and distance-based weights. The final model had an accuracy of 76% and a recall of 90% on the test data. "
   ]
  },
  {
   "cell_type": "code",
   "execution_count": 21,
   "id": "09db457e",
   "metadata": {},
   "outputs": [],
   "source": [
    "# Categorical pipeline\n",
    "cat_pipe = Pipeline([(\"cat_imputer\", SimpleImputer(strategy=\"constant\", fill_value='Unknown')),\n",
    "                     ('cat_encoder', OneHotEncoder())])\n",
    "\n",
    "# Numerical pipeline:\n",
    "num_pipe = Pipeline([('num_imputer', SimpleImputer(strategy='median')),\n",
    "                     ('num_scaler', MinMaxScaler())])\n",
    "\n",
    "full_pipeline = Pipeline([('column_transformer', ColumnTransformer([('cat', cat_pipe, cat_variables),\n",
    "                                                                    ('num', num_pipe, num_variables)],\n",
    "                                                                   remainder = 'passthrough')),\n",
    "                          ('nzv', VarianceThreshold()),\n",
    "                          ('k_best', SelectKBest()),\n",
    "                          ('knn', KNeighborsClassifier(n_jobs = 4))])"
   ]
  },
  {
   "cell_type": "code",
   "execution_count": 22,
   "id": "ca5e58df",
   "metadata": {},
   "outputs": [
    {
     "name": "stdout",
     "output_type": "stream",
     "text": [
      "Best parameter (CV score=nan):\n",
      "{'nzv__threshold': 0.1, 'knn__weights': 'uniform', 'knn__n_neighbors': 23, 'k_best__k': 24}\n"
     ]
    }
   ],
   "source": [
    "search_space = [{'nzv__threshold': [0.00, 0.01, 0.05, .10],\n",
    "                 'k_best__k': list(range(1,26,1)),\n",
    "                 'knn__weights': ['uniform', 'distance'],\n",
    "                 'knn__n_neighbors': list(range(1,26,2))}]\n",
    "\n",
    "kfold = StratifiedKFold(n_splits=5, \n",
    "                        shuffle=True, \n",
    "                        random_state=123)\n",
    "\n",
    "knn = RandomizedSearchCV(full_pipeline,\n",
    "                         param_distributions = search_space,\n",
    "                         n_iter = 500,\n",
    "                         cv = kfold,\n",
    "                         scoring ='recall',\n",
    "                         n_jobs = -1,\n",
    "                        random_state=123)\n",
    "knn.fit(X_train, y_train)\n",
    "\n",
    "print(\"Best parameter (CV score=%0.3f):\" % knn.best_score_)\n",
    "print(knn.best_params_)"
   ]
  },
  {
   "cell_type": "code",
   "execution_count": 23,
   "id": "8683519f",
   "metadata": {},
   "outputs": [],
   "source": [
    "knn_y_pred = knn.predict(X_test)\n",
    "knn_y_proba = knn.predict_proba(X_test)"
   ]
  },
  {
   "cell_type": "code",
   "execution_count": 24,
   "id": "3dc64823",
   "metadata": {},
   "outputs": [
    {
     "name": "stdout",
     "output_type": "stream",
     "text": [
      "              precision    recall  f1-score   support\n",
      "\n",
      "         0.0       0.98      0.74      0.84      7298\n",
      "         1.0       0.31      0.90      0.46       940\n",
      "\n",
      "    accuracy                           0.76      8238\n",
      "   macro avg       0.64      0.82      0.65      8238\n",
      "weighted avg       0.91      0.76      0.80      8238\n",
      "\n"
     ]
    }
   ],
   "source": [
    "print(classification_report(y_test, knn_y_pred))"
   ]
  },
  {
   "cell_type": "code",
   "execution_count": 25,
   "id": "4a61f971",
   "metadata": {},
   "outputs": [],
   "source": [
    "data = [accuracy_score(y_test, knn_y_pred, normalize=True), \n",
    "        precision_score(y_test, knn_y_pred),\n",
    "        recall_score(y_test, knn_y_pred),\n",
    "        fbeta_score(y_test, knn_y_pred, beta=1),\n",
    "        roc_auc_score(y_test, knn_y_pred)]\n",
    "\n",
    "test_names = ['Accuracy',\n",
    "              'Precision',\n",
    "              'Recall',\n",
    "              'F1',\n",
    "              'AUC ROC']\n",
    "\n",
    "test_table = pd.DataFrame(data,\n",
    "                          index = test_names,\n",
    "                          columns = ['k-NN'])"
   ]
  },
  {
   "cell_type": "code",
   "execution_count": 30,
   "id": "ee3ca8e8-45f8-4dc3-ae43-1ed106980375",
   "metadata": {},
   "outputs": [
    {
     "data": {
      "text/plain": [
       "array([0., 1.])"
      ]
     },
     "execution_count": 30,
     "metadata": {},
     "output_type": "execute_result"
    }
   ],
   "source": [
    "knn.best_estimator_.classes_"
   ]
  },
  {
   "cell_type": "code",
   "execution_count": 40,
   "id": "0cc65acf-dc1f-45d1-8584-4d4414ca226a",
   "metadata": {},
   "outputs": [
    {
     "data": {
      "image/png": "[encoded data removed]",
      "text/plain": [
       "<Figure size 576x432 with 2 Axes>"
      ]
     },
     "metadata": {
      "needs_background": "light"
     },
     "output_type": "display_data"
    }
   ],
   "source": [
    "# Confusion matrix to use as example in presenation\n",
    "cm = confusion_matrix(y_test, knn_y_pred, labels = knn.best_estimator_.classes_)\n",
    "cmplt = ConfusionMatrixDisplay(confusion_matrix= cm, display_labels=knn.best_estimator_.classes_)\n",
    "cmplt.plot()\n",
    "plt.suptitle(\"Confusion Matrix for k-NN\", fontsize = 18)\n",
    "plt.xlabel(\"Model Prediction\", fontsize = 14)\n",
    "plt.ylabel(\"Actual Customer Choice\", fontsize = 14)\n",
    "plt.gcf().set_size_inches(8,6)\n",
    "plt.show()"
   ]
  },
  {
   "cell_type": "markdown",
   "id": "2ffdcfe9",
   "metadata": {},
   "source": [
    "### Experiment: Validating Resampling Value "
   ]
  },
  {
   "cell_type": "code",
   "execution_count": 25,
   "id": "bcf2caf9-639c-40ad-b016-000547950911",
   "metadata": {},
   "outputs": [],
   "source": [
    "scaler = StandardScaler()\n",
    "knn = KNeighborsClassifier()\n",
    "\n",
    "neighbors = list(range(1,26,2))\n",
    "weight = ['uniform', 'distance']\n",
    "\n",
    "params = dict(knn__n_neighbors = neighbors,\n",
    "             knn__weights = weight)\n",
    "\n",
    "knn_pipe = Pipeline(steps = [('scaler', scaler), ('knn', knn)])"
   ]
  },
  {
   "cell_type": "markdown",
   "id": "7f1ac84e-bd68-450d-8f2d-69d8bf9061ec",
   "metadata": {},
   "source": [
    "### Neural Networks\n",
    "\n",
    "We tuned our neural network model using Scikit-learn's MLPClassifier with the 'sgd' solver (Pedregosa et al., 2011). We tuned with two different architectures, the first having three hidden layers with 10, 30, and 10 nodes respectively and the second having one hidden layer comprised of 20 nodes. We tested three different activation functions, ‘relu’, ‘logistic’, and ‘tahn’. L2 regularization was tuned with alpha values ranging from 0.0001 to 0.1. Finally, we tuned the learning rate, comparing a constant to an adaptive learning rate. \n",
    "\n",
    "The optimal neural network had a minimum variance of 0.05 and utilized the 21-best features. The single hidden layer architecture, adaptive learning rate, ‘relu’ activation function, and alpha of 0.1 performed the best in cross-validation. The final model had an accuracy of 79% and a recall of 67% on the test data. \n",
    "\n"
   ]
  },
  {
   "cell_type": "code",
   "execution_count": 26,
   "id": "924f0d5d",
   "metadata": {},
   "outputs": [],
   "source": [
    "# Categorical pipeline\n",
    "cat_pipe = Pipeline([(\"cat_imputer\", SimpleImputer(strategy=\"constant\", fill_value='Unknown')),\n",
    "                     ('cat_encoder', OneHotEncoder())])\n",
    "\n",
    "# Numerical pipeline:\n",
    "num_pipe = Pipeline([('num_imputer', SimpleImputer(strategy='median')),\n",
    "                     ('num_scaler', StandardScaler())])\n",
    "\n",
    "full_pipeline = Pipeline([('column_transformer', ColumnTransformer([('cat', cat_pipe, cat_variables),\n",
    "                                                                    ('num', num_pipe, num_variables)],\n",
    "                                                                   remainder = 'drop')),\n",
    "                          ('nzv', VarianceThreshold()),\n",
    "                          ('k_best', SelectKBest()),\n",
    "                          ('mlp', MLPClassifier(solver = 'sgd'))])"
   ]
  },
  {
   "cell_type": "code",
   "execution_count": 27,
   "id": "d5483356",
   "metadata": {},
   "outputs": [
    {
     "name": "stdout",
     "output_type": "stream",
     "text": [
      "Best parameter (CV score=nan):\n",
      "{'nzv__threshold': 0.05, 'mlp__learning_rate': 'adaptive', 'mlp__hidden_layer_sizes': (20,), 'mlp__alpha': 0.1, 'mlp__activation': 'relu', 'k_best__k': 21}\n"
     ]
    }
   ],
   "source": [
    "search_space = [{'nzv__threshold': [0.00, 0.01, 0.05, .10],\n",
    "                 'k_best__k': list(range(1,26,1)),\n",
    "                 'mlp__hidden_layer_sizes': [(10,30,10), (20,)],\n",
    "                 'mlp__activation': ['relu', 'logistic', 'tanh'], \n",
    "                 'mlp__alpha': [0.0001, 0.001, 0.01, 0.1], \n",
    "                 'mlp__learning_rate': ['constant', 'adaptive']}]\n",
    "\n",
    "kfold = StratifiedKFold(n_splits=5, \n",
    "                        shuffle=True, \n",
    "                        random_state=123)\n",
    "\n",
    "mlp = RandomizedSearchCV(full_pipeline,\n",
    "                         param_distributions = search_space,\n",
    "                         n_iter = 200,\n",
    "                         cv = kfold,\n",
    "                         scoring ='recall',\n",
    "                         n_jobs = -1,\n",
    "                        random_state = 123)\n",
    "mlp.fit(X_train, y_train)\n",
    "\n",
    "print(\"Best parameter (CV score=%0.3f):\" % mlp.best_score_)\n",
    "print(mlp.best_params_)"
   ]
  },
  {
   "cell_type": "code",
   "execution_count": 28,
   "id": "f7f4d04e",
   "metadata": {},
   "outputs": [],
   "source": [
    "mlp_y_pred = mlp.predict(X_test)\n",
    "mlp_y_proba = mlp.predict_proba(X_test)"
   ]
  },
  {
   "cell_type": "code",
   "execution_count": 29,
   "id": "82b60186",
   "metadata": {},
   "outputs": [
    {
     "name": "stdout",
     "output_type": "stream",
     "text": [
      "              precision    recall  f1-score   support\n",
      "\n",
      "         0.0       0.95      0.81      0.87      7298\n",
      "         1.0       0.31      0.67      0.42       940\n",
      "\n",
      "    accuracy                           0.79      8238\n",
      "   macro avg       0.63      0.74      0.65      8238\n",
      "weighted avg       0.88      0.79      0.82      8238\n",
      "\n"
     ]
    }
   ],
   "source": [
    "print(classification_report(y_test, mlp_y_pred))"
   ]
  },
  {
   "cell_type": "code",
   "execution_count": 30,
   "id": "f94cfa47-8a07-46ea-a31d-632fe7110e65",
   "metadata": {},
   "outputs": [],
   "source": [
    "data = [accuracy_score(y_test, mlp_y_pred, normalize=True), \n",
    "        precision_score(y_test, mlp_y_pred),\n",
    "        recall_score(y_test, mlp_y_pred),\n",
    "        fbeta_score(y_test, mlp_y_pred, beta=1),\n",
    "        roc_auc_score(y_test, mlp_y_pred)]\n",
    "\n",
    "test_names = ['Accuracy',\n",
    "              'Precision',\n",
    "              'Recall',\n",
    "              'F1',\n",
    "              'AUC ROC']\n",
    "\n",
    "test_table['Neural Net'] = data"
   ]
  },
  {
   "cell_type": "markdown",
   "id": "1a4a569b",
   "metadata": {},
   "source": [
    "### XGBoost\n",
    "\n",
    "We tuned our XGBoost model using XGBoost’s XGBClassifier with the objective ‘binary:logistic’ to solve the model through logistic regression. The model’s tree method parameter was set to ‘GPU_hist’ algorithm. We tuned for the number of trees by setting n_estimator = 50, 100, 150, 200, 250, and 300 to find the optimal amount. The learning rate values were tuned to learning_rate = 0.01, 0.05, 0.1, 0.3, and 1 to determine the step size at each iteration. We tested the max depth of the trees by setting max_depth = 3 ,21 ,2. Different regularization parameters were tuned including alpha, gamma, and lambda. \n",
    "\n",
    "Our optimal model had 100 trees with a max depth of 19 and a learning rate equal to 1. The optimal regularization for alpha was 0.3, gamma was 0.4, and lambda was 0.1. The final model for XG Boost had an accuracy of 85% and a recall of 91%. "
   ]
  },
  {
   "cell_type": "markdown",
   "id": "b54f6641-af0b-41b5-9a0a-4d11f236b161",
   "metadata": {},
   "source": [
    "Note: You need an NVIDIA GPU to train this model with the gpu_hist option."
   ]
  },
  {
   "cell_type": "code",
   "execution_count": 31,
   "id": "6dfa6c3a",
   "metadata": {},
   "outputs": [],
   "source": [
    "# Categorical pipeline\n",
    "cat_pipe = Pipeline([(\"cat_imputer\", SimpleImputer(strategy=\"constant\", fill_value='Unknown')),\n",
    "                     ('cat_encoder', OneHotEncoder())])\n",
    "\n",
    "# Numerical pipeline:\n",
    "num_pipe = Pipeline([('num_imputer', SimpleImputer(strategy='median')),\n",
    "                     ('num_scaler', StandardScaler())])\n",
    "\n",
    "full_pipeline = Pipeline([('column_transformer', ColumnTransformer([('cat', cat_pipe, cat_variables),\n",
    "                                                                    ('num', num_pipe, num_variables)],\n",
    "                                                                   remainder = 'passthrough')),\n",
    "                          ('nzv', VarianceThreshold()),\n",
    "                          ('k_best', SelectKBest()),\n",
    "                          ('xgBoost', xgb.XGBClassifier(objective=\"binary:logistic\",\n",
    "                                                        tree_method = 'gpu_hist'))])"
   ]
  },
  {
   "cell_type": "code",
   "execution_count": 32,
   "id": "b9ac842a",
   "metadata": {},
   "outputs": [
    {
     "name": "stdout",
     "output_type": "stream",
     "text": [
      "Best parameter (CV score=nan):\n",
      "{'xgBoost__reg_lambda': 0.1, 'xgBoost__reg_alpha': 0.3, 'xgBoost__n_estimators': 100, 'xgBoost__max_depth': 19, 'xgBoost__learning_rate': 1, 'xgBoost__gamma': 0.4, 'xgBoost__colsample_bytree': 0.8, 'nzv__threshold': 0.0, 'k_best__k': 9}\n"
     ]
    }
   ],
   "source": [
    "search_space = [{'nzv__threshold': [0.00, 0.01, 0.05, .10],\n",
    "                 'k_best__k': list(range(1,26,1)),\n",
    "                 'xgBoost__n_estimators': [50, 100, 150, 200, 250, 300],\n",
    "                 'xgBoost__learning_rate': [0.01, 0.1, 0.3, .05, 1],\n",
    "                 'xgBoost__max_depth': range(3,21,2),\n",
    "                 'xgBoost__colsample_bytree': [i/10.0 for i in range(3,10)],\n",
    "                 'xgBoost__gamma': [i/10.0 for i in range(5)],\n",
    "                 'xgBoost__reg_alpha' : [1e-5, 1e-2, 0.1, .3],\n",
    "                 'xgBoost__reg_lambda' : [1e-5, 1e-2, 0.1,.3]}]\n",
    "\n",
    "kfold = StratifiedKFold(n_splits=5, \n",
    "                        shuffle=True, \n",
    "                        random_state=123)\n",
    "\n",
    "xgb = RandomizedSearchCV(full_pipeline,\n",
    "                         param_distributions = search_space, \n",
    "                         n_iter = 500, \n",
    "                         cv = kfold,\n",
    "                         scoring ='recall',\n",
    "                         n_jobs = -1,\n",
    "                        random_state=123)\n",
    "xgb.fit(X_train, y_train)\n",
    "\n",
    "print(\"Best parameter (CV score=%0.3f):\" % xgb.best_score_)\n",
    "print(xgb.best_params_)"
   ]
  },
  {
   "cell_type": "code",
   "execution_count": 33,
   "id": "0be5a646",
   "metadata": {},
   "outputs": [],
   "source": [
    "xgb_y_pred = xgb.predict(X_test)\n",
    "xgb_y_proba = xgb.predict_proba(X_test)"
   ]
  },
  {
   "cell_type": "code",
   "execution_count": 34,
   "id": "e6ace291",
   "metadata": {},
   "outputs": [
    {
     "name": "stdout",
     "output_type": "stream",
     "text": [
      "              precision    recall  f1-score   support\n",
      "\n",
      "         0.0       0.99      0.85      0.91      7298\n",
      "         1.0       0.43      0.91      0.58       940\n",
      "\n",
      "    accuracy                           0.85      8238\n",
      "   macro avg       0.71      0.88      0.75      8238\n",
      "weighted avg       0.92      0.85      0.87      8238\n",
      "\n"
     ]
    }
   ],
   "source": [
    "print(classification_report(y_test, xgb_y_pred))"
   ]
  },
  {
   "cell_type": "code",
   "execution_count": 35,
   "id": "91f58583",
   "metadata": {},
   "outputs": [],
   "source": [
    "data = [accuracy_score(y_test, xgb_y_pred, normalize=True), \n",
    "        precision_score(y_test, xgb_y_pred),\n",
    "        recall_score(y_test, xgb_y_pred),\n",
    "        fbeta_score(y_test, xgb_y_pred, beta=1),\n",
    "        roc_auc_score(y_test, xgb_y_pred)]\n",
    "\n",
    "test_names = ['Accuracy',\n",
    "              'Precision',\n",
    "              'Recall',\n",
    "              'F1',\n",
    "              'AUC ROC']\n",
    "\n",
    "test_table['XGBoost'] = data"
   ]
  },
  {
   "cell_type": "markdown",
   "id": "5beb6a06",
   "metadata": {},
   "source": [
    "### Experiments: Validating Preprocessing Steps"
   ]
  },
  {
   "cell_type": "code",
   "execution_count": 37,
   "id": "9ab1b899",
   "metadata": {},
   "outputs": [
    {
     "name": "stdout",
     "output_type": "stream",
     "text": [
      "              precision    recall  f1-score   support\n",
      "\n",
      "         0.0       0.99      0.85      0.91      7298\n",
      "         1.0       0.43      0.91      0.58       940\n",
      "\n",
      "    accuracy                           0.85      8238\n",
      "   macro avg       0.71      0.88      0.75      8238\n",
      "weighted avg       0.92      0.85      0.87      8238\n",
      "\n"
     ]
    }
   ],
   "source": [
    "#model performance without duration and nzv and vif reduced\n",
    "xgb_pred = xgb.predict(X_test)\n",
    "print(classification_report(y_test,xgb_pred))"
   ]
  },
  {
   "cell_type": "code",
   "execution_count": 38,
   "id": "47d1f34d",
   "metadata": {},
   "outputs": [
    {
     "name": "stdout",
     "output_type": "stream",
     "text": [
      "              precision    recall  f1-score   support\n",
      "\n",
      "         0.0       0.99      0.85      0.91      7298\n",
      "         1.0       0.43      0.91      0.58       940\n",
      "\n",
      "    accuracy                           0.85      8238\n",
      "   macro avg       0.71      0.88      0.75      8238\n",
      "weighted avg       0.92      0.85      0.87      8238\n",
      "\n"
     ]
    }
   ],
   "source": [
    "#model performance without duration and nzv\n",
    "xgb_pred = xgb.predict(X_test)\n",
    "print(classification_report(y_test,xgb_pred))"
   ]
  },
  {
   "cell_type": "code",
   "execution_count": 39,
   "id": "159518bb",
   "metadata": {},
   "outputs": [
    {
     "name": "stdout",
     "output_type": "stream",
     "text": [
      "              precision    recall  f1-score   support\n",
      "\n",
      "         0.0       0.99      0.85      0.91      7298\n",
      "         1.0       0.43      0.91      0.58       940\n",
      "\n",
      "    accuracy                           0.85      8238\n",
      "   macro avg       0.71      0.88      0.75      8238\n",
      "weighted avg       0.92      0.85      0.87      8238\n",
      "\n"
     ]
    }
   ],
   "source": [
    "#model performance without duration \n",
    "xgb_pred = xgb.predict(X_test)\n",
    "print(classification_report(y_test,xgb_pred))"
   ]
  },
  {
   "cell_type": "code",
   "execution_count": 40,
   "id": "b6efc534",
   "metadata": {},
   "outputs": [
    {
     "name": "stdout",
     "output_type": "stream",
     "text": [
      "              precision    recall  f1-score   support\n",
      "\n",
      "         0.0       0.99      0.85      0.91      7298\n",
      "         1.0       0.43      0.91      0.58       940\n",
      "\n",
      "    accuracy                           0.85      8238\n",
      "   macro avg       0.71      0.88      0.75      8238\n",
      "weighted avg       0.92      0.85      0.87      8238\n",
      "\n"
     ]
    }
   ],
   "source": [
    "#model performance with duration included\n",
    "xgb_pred = xgb.predict(X_test)\n",
    "print(classification_report(y_test,xgb_pred))"
   ]
  },
  {
   "cell_type": "markdown",
   "id": "79f7406f",
   "metadata": {},
   "source": [
    "### Extra Trees\n",
    "Extra Trees\n",
    "\n",
    "We tuned our extra trees model using Scikit-learn's ExtraTreeClassifier. We tuned different number of trees with n_estimators = 10, 50, 100, 500, 1000, 5000. We also tested the max number of leaf nodes with max_leaf_nodes = 5, 10, 15, 20, 25, 50, and max depths of the trees ranging from 1 to 20. The optimal extra trees had 50 trees and 15 leaf nodes with a max depth of 6. The final model had an accuracy of 77% and a recall of 79% on the test data. \n"
   ]
  },
  {
   "cell_type": "code",
   "execution_count": 41,
   "id": "2c67199d",
   "metadata": {},
   "outputs": [],
   "source": [
    "# Categorical pipeline\n",
    "cat_pipe = Pipeline([(\"cat_imputer\", SimpleImputer(strategy=\"constant\", fill_value='Unknown')),\n",
    "                     ('cat_encoder', OneHotEncoder())])\n",
    "\n",
    "# Numerical pipeline:\n",
    "num_pipe = Pipeline([('num_imputer', SimpleImputer(strategy='median')),\n",
    "                     ('num_scaler', StandardScaler())])\n",
    "\n",
    "full_pipeline = Pipeline([('column_transformer', ColumnTransformer([('cat', cat_pipe, cat_variables),\n",
    "                                                                    ('num', num_pipe, num_variables)], \n",
    "                                                                   remainder = 'passthrough')),\n",
    "                          ('nzv', VarianceThreshold()),\n",
    "                          ('k_best', SelectKBest()),\n",
    "                          ('etc', ExtraTreesClassifier())])"
   ]
  },
  {
   "cell_type": "code",
   "execution_count": 42,
   "id": "8836c2d6",
   "metadata": {},
   "outputs": [
    {
     "name": "stdout",
     "output_type": "stream",
     "text": [
      "Best parameter (CV score=nan):\n",
      "{'nzv__threshold': 0.01, 'k_best__k': 7, 'etc__n_estimators': 50, 'etc__max_leaf_nodes': 15, 'etc__max_depth': 6}\n"
     ]
    }
   ],
   "source": [
    "search_space = [{'nzv__threshold': [0.00, 0.01, 0.05, .10],\n",
    "                 'k_best__k': list(range(1,26,1)),\n",
    "                 'etc__n_estimators': [10, 50, 100, 500, 1000, 5000],\n",
    "                 'etc__max_leaf_nodes': [5, 10, 15, 20, 25, 50], \n",
    "                 'etc__max_depth': range(2,21,1)}]\n",
    "\n",
    "kfold = StratifiedKFold(n_splits=5, \n",
    "                        shuffle=True, \n",
    "                        random_state=123)\n",
    "\n",
    "etc = RandomizedSearchCV(full_pipeline,\n",
    "                         param_distributions = search_space,\n",
    "                         n_iter = 200,\n",
    "                         cv = kfold,\n",
    "                         scoring ='recall',\n",
    "                         n_jobs = -1,\n",
    "                        random_state = 123)\n",
    "etc.fit(X_train, y_train)\n",
    "\n",
    "print(\"Best parameter (CV score=%0.3f):\" % etc.best_score_)\n",
    "print(etc.best_params_)"
   ]
  },
  {
   "cell_type": "code",
   "execution_count": 43,
   "id": "6c9d3f1a",
   "metadata": {},
   "outputs": [],
   "source": [
    "etc_y_pred = etc.predict(X_test)\n",
    "etc_y_proba = etc.predict_proba(X_test)"
   ]
  },
  {
   "cell_type": "code",
   "execution_count": 44,
   "id": "cdddd726",
   "metadata": {},
   "outputs": [
    {
     "name": "stdout",
     "output_type": "stream",
     "text": [
      "              precision    recall  f1-score   support\n",
      "\n",
      "         0.0       0.97      0.77      0.85      7298\n",
      "         1.0       0.30      0.79      0.44       940\n",
      "\n",
      "    accuracy                           0.77      8238\n",
      "   macro avg       0.64      0.78      0.65      8238\n",
      "weighted avg       0.89      0.77      0.81      8238\n",
      "\n"
     ]
    }
   ],
   "source": [
    "print(classification_report(y_test, etc_y_pred))"
   ]
  },
  {
   "cell_type": "code",
   "execution_count": 45,
   "id": "9b5b4d4c",
   "metadata": {},
   "outputs": [],
   "source": [
    "data = [accuracy_score(y_test, etc_y_pred, normalize=True), \n",
    "        precision_score(y_test, etc_y_pred),\n",
    "        recall_score(y_test, etc_y_pred),\n",
    "        fbeta_score(y_test, etc_y_pred, beta=1),\n",
    "        roc_auc_score(y_test, etc_y_pred)]\n",
    "\n",
    "test_names = ['Accuracy',\n",
    "              'Precision',\n",
    "              'Recall',\n",
    "              'F1',\n",
    "              'AUC ROC']\n",
    "\n",
    "test_table['ExtraTrees'] = data"
   ]
  },
  {
   "cell_type": "markdown",
   "id": "3e648ea6",
   "metadata": {},
   "source": [
    "### Logistic Regression\n",
    "Finally, a logistic regression model was created using Scikit-learn's LogisticRegression with the ‘saga’ solver. We specified three different penalties: ‘l1’, ‘l2’, and ‘elasticnet’ which is both L1 and L2 added together.The parameter C, the inverse of the regularization strength, was tuned with logreg_C = 0.01, 0.1, 0.3, .05, 1. \n",
    "The optimal logistic regression parameters used an l1 penalty and a C of one. The final model had an accuracy of 81% and a recall of 64%. "
   ]
  },
  {
   "cell_type": "code",
   "execution_count": 46,
   "id": "c82d5f32",
   "metadata": {},
   "outputs": [],
   "source": [
    "# Categorical pipeline\n",
    "cat_pipe = Pipeline([(\"cat_imputer\", SimpleImputer(strategy=\"constant\", fill_value='Unknown')),\n",
    "                     ('cat_encoder', OneHotEncoder())])\n",
    "\n",
    "# Numerical pipeline:\n",
    "num_pipe = Pipeline([('num_imputer', SimpleImputer(strategy='median')),\n",
    "                     ('num_scaler', StandardScaler())])\n",
    "\n",
    "full_pipeline = Pipeline([('column_transformer', ColumnTransformer([('cat', cat_pipe, cat_variables),\n",
    "                                                                    ('num', num_pipe, num_variables)], remainder = 'passthrough')),\n",
    "                          ('nzv', VarianceThreshold()),\n",
    "                          ('k_best', SelectKBest()),\n",
    "                          ('logreg', LogisticRegression(solver = 'saga'))])"
   ]
  },
  {
   "cell_type": "code",
   "execution_count": 47,
   "id": "819726d3",
   "metadata": {},
   "outputs": [
    {
     "name": "stdout",
     "output_type": "stream",
     "text": [
      "Best parameter (CV score=nan):\n",
      "{'nzv__threshold': 0.0, 'logreg__penalty': 'l1', 'logreg__C': 1, 'k_best__k': 12}\n"
     ]
    }
   ],
   "source": [
    "search_space = [{'nzv__threshold': [0.00, 0.01, 0.05, .10],\n",
    "                 'k_best__k': list(range(1,26,1)),\n",
    "                 'logreg__penalty': ['l1', 'l2', 'elasticnet'],\n",
    "                 'logreg__C': [0.01, 0.1, 0.3, .05, 1]}]\n",
    "\n",
    "kfold = StratifiedKFold(n_splits=5, \n",
    "                        shuffle=True, \n",
    "                        random_state=123)\n",
    "\n",
    "lr = RandomizedSearchCV(full_pipeline,\n",
    "                        param_distributions = search_space,\n",
    "                        n_iter = 200,\n",
    "                        cv = kfold,\n",
    "                        scoring ='recall',\n",
    "                        n_jobs = -1,\n",
    "                       random_state = 123)\n",
    "lr.fit(X_train, y_train)\n",
    "\n",
    "print(\"Best parameter (CV score=%0.3f):\" % lr.best_score_)\n",
    "print(lr.best_params_)"
   ]
  },
  {
   "cell_type": "code",
   "execution_count": 48,
   "id": "f3d36320",
   "metadata": {},
   "outputs": [],
   "source": [
    "lr_y_pred = lr.predict(X_test)\n",
    "lr_y_proba = lr.predict_proba(X_test)"
   ]
  },
  {
   "cell_type": "code",
   "execution_count": 49,
   "id": "bf278ab3",
   "metadata": {},
   "outputs": [
    {
     "name": "stdout",
     "output_type": "stream",
     "text": [
      "              precision    recall  f1-score   support\n",
      "\n",
      "         0.0       0.95      0.83      0.89      7298\n",
      "         1.0       0.33      0.64      0.43       940\n",
      "\n",
      "    accuracy                           0.81      8238\n",
      "   macro avg       0.64      0.73      0.66      8238\n",
      "weighted avg       0.88      0.81      0.83      8238\n",
      "\n"
     ]
    }
   ],
   "source": [
    "print(classification_report(y_test, lr_y_pred))"
   ]
  },
  {
   "cell_type": "code",
   "execution_count": 50,
   "id": "1b0c22dd",
   "metadata": {},
   "outputs": [],
   "source": [
    "data = [accuracy_score(y_test, lr_y_pred, normalize=True), \n",
    "        precision_score(y_test, lr_y_pred),\n",
    "        recall_score(y_test, lr_y_pred),\n",
    "        fbeta_score(y_test, lr_y_pred, beta=1),\n",
    "        roc_auc_score(y_test, lr_y_pred)]\n",
    "\n",
    "test_names = ['Accuracy',\n",
    "              'Precision',\n",
    "              'Recall',\n",
    "              'F1',\n",
    "              'AUC ROC']\n",
    "\n",
    "test_table['Logistic Regression'] = data"
   ]
  },
  {
   "cell_type": "markdown",
   "id": "a780d93b-331a-4d89-b688-a85ddd252774",
   "metadata": {},
   "source": [
    "## Results"
   ]
  },
  {
   "cell_type": "code",
   "execution_count": 53,
   "id": "5bc5e6e2-e3fb-4bb9-82d7-28b334c25976",
   "metadata": {},
   "outputs": [],
   "source": [
    "# saving test results table\n",
    "test_table.to_excel('test_table.xlsx')"
   ]
  },
  {
   "cell_type": "code",
   "execution_count": 54,
   "id": "ea8521dd-b57c-4114-a96e-d2e619b7eaf0",
   "metadata": {},
   "outputs": [
    {
     "data": {
      "text/html": [
       "<div>\n",
       "<style scoped>\n",
       "    .dataframe tbody tr th:only-of-type {\n",
       "        vertical-align: middle;\n",
       "    }\n",
       "\n",
       "    .dataframe tbody tr th {\n",
       "        vertical-align: top;\n",
       "    }\n",
       "\n",
       "    .dataframe thead th {\n",
       "        text-align: right;\n",
       "    }\n",
       "</style>\n",
       "<table border=\"1\" class=\"dataframe\">\n",
       "  <thead>\n",
       "    <tr style=\"text-align: right;\">\n",
       "      <th></th>\n",
       "      <th>k-NN</th>\n",
       "      <th>Neural Net</th>\n",
       "      <th>XGBoost</th>\n",
       "      <th>ExtraTrees</th>\n",
       "      <th>Logistic Regression</th>\n",
       "    </tr>\n",
       "  </thead>\n",
       "  <tbody>\n",
       "    <tr>\n",
       "      <th>Accuracy</th>\n",
       "      <td>0.756373</td>\n",
       "      <td>0.789391</td>\n",
       "      <td>0.852756</td>\n",
       "      <td>0.769483</td>\n",
       "      <td>0.809784</td>\n",
       "    </tr>\n",
       "    <tr>\n",
       "      <th>Precision</th>\n",
       "      <td>0.306352</td>\n",
       "      <td>0.306003</td>\n",
       "      <td>0.430886</td>\n",
       "      <td>0.304366</td>\n",
       "      <td>0.327842</td>\n",
       "    </tr>\n",
       "    <tr>\n",
       "      <th>Recall</th>\n",
       "      <td>0.897872</td>\n",
       "      <td>0.667021</td>\n",
       "      <td>0.905319</td>\n",
       "      <td>0.793617</td>\n",
       "      <td>0.635106</td>\n",
       "    </tr>\n",
       "    <tr>\n",
       "      <th>F1</th>\n",
       "      <td>0.456834</td>\n",
       "      <td>0.419538</td>\n",
       "      <td>0.583877</td>\n",
       "      <td>0.439988</td>\n",
       "      <td>0.432452</td>\n",
       "    </tr>\n",
       "    <tr>\n",
       "      <th>AUC ROC</th>\n",
       "      <td>0.818010</td>\n",
       "      <td>0.736087</td>\n",
       "      <td>0.875652</td>\n",
       "      <td>0.779996</td>\n",
       "      <td>0.733695</td>\n",
       "    </tr>\n",
       "  </tbody>\n",
       "</table>\n",
       "</div>"
      ],
      "text/plain": [
       "               k-NN  Neural Net   XGBoost  ExtraTrees  Logistic Regression\n",
       "Accuracy   0.756373    0.789391  0.852756    0.769483             0.809784\n",
       "Precision  0.306352    0.306003  0.430886    0.304366             0.327842\n",
       "Recall     0.897872    0.667021  0.905319    0.793617             0.635106\n",
       "F1         0.456834    0.419538  0.583877    0.439988             0.432452\n",
       "AUC ROC    0.818010    0.736087  0.875652    0.779996             0.733695"
      ]
     },
     "execution_count": 54,
     "metadata": {},
     "output_type": "execute_result"
    }
   ],
   "source": [
    "# printing test results table\n",
    "test_table"
   ]
  },
  {
   "cell_type": "markdown",
   "id": "e5e35cec",
   "metadata": {},
   "source": [
    "Inspecting the performance metrics of our models on the test split presents a few interesting findings. In terms of model accuracy, XGBoost, Logistic Regression, and the Neural Network observe strong performance, achieving accuracies of 85.3%, 80.9%, and 78.9%, respectively. The models begin to diverge in terms of viability once we begin to look at recall with XGBoost and k-Nearest Neighbors performing significantly better than all other models with recalls of 90.5% and 89.8%. Inspection of the remaining statistics appears to create the image that XGBoost is outperforming all other models. This will be additionally verified by plotting the AUC-ROC curves of each model."
   ]
  },
  {
   "cell_type": "markdown",
   "id": "9246f73e",
   "metadata": {},
   "source": [
    "### AUC-ROC"
   ]
  },
  {
   "cell_type": "code",
   "execution_count": 55,
   "id": "caf067df",
   "metadata": {},
   "outputs": [
    {
     "data": {
      "image/png": "[encoded data removed]",
      "text/plain": [
       "<Figure size 576x576 with 1 Axes>"
      ]
     },
     "metadata": {
      "needs_background": "light"
     },
     "output_type": "display_data"
    }
   ],
   "source": [
    "fpr_knn, tpr_knn, thresholds_knn = roc_curve(y_test, knn_y_proba[:,1])\n",
    "fpr_mlp, tpr_mlp, thresholds_mlp = roc_curve(y_test, mlp_y_proba[:,1])\n",
    "fpr_xgb, tpr_xgb, thresholds_xgb = roc_curve(y_test, xgb_y_proba[:,1])\n",
    "fpr_etc, tpr_etc, thresholds_etc = roc_curve(y_test, etc_y_proba[:,1])\n",
    "fpr_lr, tpr_lr, thresholds_lr = roc_curve(y_test, lr_y_proba[:,1])\n",
    "\n",
    "plt.figure(figsize = (8, 8))\n",
    "plt.plot([0,1],[0,1], 'k--')\n",
    "plt.plot(fpr_knn, tpr_knn, label = 'k-Nearest Neigbors')\n",
    "plt.plot(fpr_mlp, tpr_mlp, label = 'Neural Net')\n",
    "plt.plot(fpr_xgb, tpr_xgb, label = 'XGBoost')\n",
    "plt.plot(fpr_etc, tpr_etc, label = 'ExtraTrees')\n",
    "plt.plot(fpr_lr, tpr_lr, label = 'Logistic Regression')\n",
    "plt.xlabel(\"False Positive Rate\")\n",
    "plt.ylabel(\"True Positive Rate\")\n",
    "plt.legend()\n",
    "plt.show()"
   ]
  },
  {
   "cell_type": "markdown",
   "id": "522bfbbc",
   "metadata": {},
   "source": [
    "Inspection of the ROC curves indicates that while XGBoost does outperform all other models, k-Nearest neighbors is the obvious second-best-performing model that closely mimics the form of XGBoost. Given that the final implementation can depend on interpretability as well as performance, both models will be included as viable options for increasing the efficiency of direct marketing calls.\n"
   ]
  },
  {
   "cell_type": "markdown",
   "id": "07ea56b3-2832-4585-8569-d81dbf275402",
   "metadata": {},
   "source": [
    "### Gain and Lift Charts for Selected Models\n",
    "\n",
    "With final models chosen, this analysis can create and inspect the cumulative gain charts as well as lift charts."
   ]
  },
  {
   "cell_type": "code",
   "execution_count": 56,
   "id": "c183956f-c5d3-4771-a4df-dc7dd3b46842",
   "metadata": {
    "scrolled": true
   },
   "outputs": [
    {
     "data": {
      "image/png": "[encoded data removed]",
      "text/plain": [
       "<Figure size 432x288 with 2 Axes>"
      ]
     },
     "metadata": {
      "needs_background": "light"
     },
     "output_type": "display_data"
    }
   ],
   "source": [
    "neg, pos = zip(*xgb_y_proba)\n",
    "xg_probs = pd.Series(pos)\n",
    "xg_probs_adj = xg_probs * (11.52/50)\n",
    "xg_probs_sort = xg_probs_adj.sort_values(ascending = False)\n",
    "\n",
    "fig, axes = plt.subplots(nrows = 1, ncols = 2)\n",
    "ax = gainsChart(xg_probs_sort, ax=axes[0])\n",
    "ax.set_ylabel('Cumulative Gains')\n",
    "ax.set_title('Cumulative Gains Chart')\n",
    "\n",
    "ax = liftChart(xg_probs_sort, ax = axes[1], labelBars = True)\n",
    "ax.set_ylabel('Lift')\n",
    "\n",
    "plt.suptitle(\"Results for XGBoost Model\")\n",
    "plt.tight_layout()\n",
    "plt.show()"
   ]
  },
  {
   "cell_type": "code",
   "execution_count": 57,
   "id": "63f727b4-3ddd-40e8-8d6d-63f57058216a",
   "metadata": {},
   "outputs": [
    {
     "data": {
      "image/png": "[encoded data removed]",
      "text/plain": [
       "<Figure size 432x288 with 2 Axes>"
      ]
     },
     "metadata": {
      "needs_background": "light"
     },
     "output_type": "display_data"
    }
   ],
   "source": [
    "neg, pos = zip(*knn_y_proba)\n",
    "knn_probs = pd.Series(pos)\n",
    "knn_probs_adj = knn_probs * (11.52/50)\n",
    "knn_probs_sort = knn_probs_adj.sort_values(ascending = False)\n",
    "\n",
    "fig, axes = plt.subplots(nrows = 1, ncols = 2)\n",
    "ax = gainsChart(knn_probs_sort, ax=axes[0])\n",
    "ax.set_ylabel('Cumulative Gains')\n",
    "ax.set_title('Cumulative Gains Chart')\n",
    "\n",
    "ax = liftChart(knn_probs_sort, ax = axes[1], labelBars = True)\n",
    "ax.set_ylabel('Lift')\n",
    "\n",
    "plt.suptitle(\"Results for k-Nearest Neighbors Model\")\n",
    "plt.tight_layout()\n",
    "plt.show()"
   ]
  },
  {
   "cell_type": "markdown",
   "id": "a0608523",
   "metadata": {},
   "source": [
    "After adjusting for resampling, we evaluated the two top models in gains and lift charts. The XGBoost was again the top performer. The model’s gains chart reached its peak much sooner than the k-Nearest Neighbors and it had substantially higher lifts within the top 30th percentile than the k-NN. "
   ]
  },
  {
   "cell_type": "markdown",
   "id": "29ce5bcf",
   "metadata": {},
   "source": [
    "## Discussion"
   ]
  },
  {
   "cell_type": "markdown",
   "id": "4cc2cba5-b727-48ee-8758-c8e70d0edb31",
   "metadata": {},
   "source": [
    "The goal of this data mining process was to identify a model in which subscriptions for bank term deposits could be effectively predicted. Finding an optimal model could be pivotal in helping banks improve their marketing campaign efforts and properly target the right group of customers. Using the bank marketing dataset collected by the Portuguese bank, our team could analyze, pre-process, feature select, and build models that can predict the outcome of customers subscribing to bank term deposits. The models that were evaluated and tuned were K Nearest Neighbors, Neural Networks, XG Boost, Extra Trees and Logistic Regression. After model evaluation and metrics comparison, the final two models with the best performance were XG Boost and KNN. The XG Boost model had higher recall, accuracy, precision, F1-score, and AUC ROC. The higher AUC score was a determining factor for best model performance given that XG Boost had more true positive predictions than the rest of the models. When comparing models based on the cumulative gains chart, XG Boost outperformed as well by reaching its maximum at 2,000 observations. These results suggest that the bank marketing campaign can target less people (and reduce costs) to reach similar results when compared to the KNN model which reached its maximum at almost 4,000 observations. For future steps, the model should be tested and evaluated on other bank marketing campaign datasets to further tune and assess the model’s performance. "
   ]
  },
  {
   "cell_type": "markdown",
   "id": "a4089017-61ae-4229-b775-c94f90c1bc68",
   "metadata": {
    "tags": []
   },
   "source": [
    "#### Archived Experimental Accuracy Plots"
   ]
  },
  {
   "cell_type": "code",
   "execution_count": null,
   "id": "f233d566-2c59-4164-99b7-29c18f8a7d32",
   "metadata": {},
   "outputs": [],
   "source": [
    "Results_acc = Results_saved.sort_values(by=['Accuracy'], ascending=False)\n",
    "plt.clf()\n",
    "plt.figure(figsize=[12,12])\n",
    "plotac = sns.barplot(y = 'Model', x = 'Accuracy', hue = 'Data Used', data = Results_acc, dodge=False,\n",
    "            palette = {'Unbalanced' : 'tab:orange', 'Undersampled': 'tab:green', 'Undersampled + KBest': 'tab:blue',})\n",
    "plt.xlabel('Model',fontsize = 20)\n",
    "plt.ylabel('Accuracy',fontsize =20)\n",
    "plt.xticks(fontsize =14)\n",
    "plt.yticks(fontsize = 14)\n",
    "legend = plt.legend(loc = 'lower right', title = 'Data Used', fontsize = 14)\n",
    "plt.setp(legend.get_title(), fontsize = 20)\n",
    "plt.show()"
   ]
  },
  {
   "cell_type": "code",
   "execution_count": null,
   "id": "88540042-8ce7-4266-b8ed-2ad2194481db",
   "metadata": {},
   "outputs": [],
   "source": [
    "Results_f1 = Results_saved.sort_values(by=['F1 Score'], ascending=False)\n",
    "plt.clf()\n",
    "plt.figure(figsize=[12,12])\n",
    "plotf1 = sns.barplot(y = 'Model', x = 'F1 Score', hue = 'Data Used', data = Results_f1, dodge=False,\n",
    "            palette = {'Unbalanced' : 'tab:orange', 'Undersampled': 'tab:green', 'Undersampled + KBest': 'tab:blue',})\n",
    "plt.xlabel('Model',fontsize = 20)\n",
    "plt.ylabel('F1 Score',fontsize =20)\n",
    "plt.xticks(fontsize =14)\n",
    "plt.yticks(fontsize = 14)\n",
    "plt.setp(plotf1.get_legend().get_texts(), fontsize = 14)\n",
    "plt.setp(plotf1.get_legend().get_title(), fontsize = 20)\n",
    "plt.show()"
   ]
  }
 ],
 "metadata": {
  "kernelspec": {
   "display_name": "Python 3 (ipykernel)",
   "language": "python",
   "name": "python3"
  },
  "language_info": {
   "codemirror_mode": {
    "name": "ipython",
    "version": 3
   },
   "file_extension": ".py",
   "mimetype": "text/x-python",
   "name": "python",
   "nbconvert_exporter": "python",
   "pygments_lexer": "ipython3",
   "version": "3.9.5"
  }
 },
 "nbformat": 4,
 "nbformat_minor": 5
}
